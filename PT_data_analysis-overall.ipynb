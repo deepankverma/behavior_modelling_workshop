{
 "cells": [
  {
   "cell_type": "code",
   "execution_count": 1,
   "metadata": {},
   "outputs": [],
   "source": [
    "import pandas as pd\n",
    "import numpy as np\n",
    "%matplotlib inline\n",
    "pd.set_option('display.float_format', lambda x: '%.3f' % x)"
   ]
  },
  {
   "cell_type": "code",
   "execution_count": 2,
   "metadata": {},
   "outputs": [],
   "source": [
    "# pt_data_original = pd.read_csv(\"PTdata.csv\")"
   ]
  },
  {
   "cell_type": "code",
   "execution_count": 3,
   "metadata": {},
   "outputs": [],
   "source": [
    "# len(pt_data_original)"
   ]
  },
  {
   "cell_type": "code",
   "execution_count": 4,
   "metadata": {},
   "outputs": [
    {
     "name": "stderr",
     "output_type": "stream",
     "text": [
      "/home/deepank/anaconda3/envs/tensorflow/lib/python3.6/site-packages/IPython/core/interactiveshell.py:3049: DtypeWarning: Columns (14) have mixed types. Specify dtype option on import or set low_memory=False.\n",
      "  interactivity=interactivity, compiler=compiler, result=result)\n"
     ]
    }
   ],
   "source": [
    "pt_data = pd.read_csv(\"PT_NEW_without_unknowns.csv\")"
   ]
  },
  {
   "cell_type": "code",
   "execution_count": 5,
   "metadata": {},
   "outputs": [
    {
     "data": {
      "text/html": [
       "<div>\n",
       "<style scoped>\n",
       "    .dataframe tbody tr th:only-of-type {\n",
       "        vertical-align: middle;\n",
       "    }\n",
       "\n",
       "    .dataframe tbody tr th {\n",
       "        vertical-align: top;\n",
       "    }\n",
       "\n",
       "    .dataframe thead th {\n",
       "        text-align: right;\n",
       "    }\n",
       "</style>\n",
       "<table border=\"1\" class=\"dataframe\">\n",
       "  <thead>\n",
       "    <tr style=\"text-align: right;\">\n",
       "      <th></th>\n",
       "      <th>TripID</th>\n",
       "      <th>TripChainID</th>\n",
       "      <th>Sex</th>\n",
       "      <th>Age</th>\n",
       "      <th>TripNumber</th>\n",
       "      <th>TripOrder</th>\n",
       "      <th>Ozone</th>\n",
       "      <th>Dzone</th>\n",
       "      <th>Purpose</th>\n",
       "      <th>EnlargeCoefficient</th>\n",
       "      <th>...</th>\n",
       "      <th>Gtime</th>\n",
       "      <th>StayTime</th>\n",
       "      <th>Age_Mean</th>\n",
       "      <th>Gender</th>\n",
       "      <th>PurposeName</th>\n",
       "      <th>Mode</th>\n",
       "      <th>TravelTimeMin</th>\n",
       "      <th>StartTimeHr</th>\n",
       "      <th>EndTimeHr</th>\n",
       "      <th>Othermode</th>\n",
       "    </tr>\n",
       "  </thead>\n",
       "  <tbody>\n",
       "    <tr>\n",
       "      <th>0</th>\n",
       "      <td>1416615</td>\n",
       "      <td>493131</td>\n",
       "      <td>1</td>\n",
       "      <td>8</td>\n",
       "      <td>8</td>\n",
       "      <td>1</td>\n",
       "      <td>300</td>\n",
       "      <td>301</td>\n",
       "      <td>12</td>\n",
       "      <td>47</td>\n",
       "      <td>...</td>\n",
       "      <td>12600</td>\n",
       "      <td>1800</td>\n",
       "      <td>42</td>\n",
       "      <td>Male</td>\n",
       "      <td>WorkRelated</td>\n",
       "      <td>Other</td>\n",
       "      <td>30</td>\n",
       "      <td>3.000</td>\n",
       "      <td>3.500</td>\n",
       "      <td>1</td>\n",
       "    </tr>\n",
       "    <tr>\n",
       "      <th>1</th>\n",
       "      <td>768189</td>\n",
       "      <td>264487</td>\n",
       "      <td>1</td>\n",
       "      <td>11</td>\n",
       "      <td>7</td>\n",
       "      <td>1</td>\n",
       "      <td>11412</td>\n",
       "      <td>29299</td>\n",
       "      <td>10</td>\n",
       "      <td>30</td>\n",
       "      <td>...</td>\n",
       "      <td>14400</td>\n",
       "      <td>900</td>\n",
       "      <td>57</td>\n",
       "      <td>Male</td>\n",
       "      <td>WorkRelated</td>\n",
       "      <td>Other</td>\n",
       "      <td>60</td>\n",
       "      <td>3.000</td>\n",
       "      <td>4.000</td>\n",
       "      <td>1</td>\n",
       "    </tr>\n",
       "    <tr>\n",
       "      <th>2</th>\n",
       "      <td>1569139</td>\n",
       "      <td>547066</td>\n",
       "      <td>1</td>\n",
       "      <td>12</td>\n",
       "      <td>2</td>\n",
       "      <td>1</td>\n",
       "      <td>220</td>\n",
       "      <td>6300</td>\n",
       "      <td>1</td>\n",
       "      <td>42</td>\n",
       "      <td>...</td>\n",
       "      <td>14400</td>\n",
       "      <td>3600</td>\n",
       "      <td>62</td>\n",
       "      <td>Male</td>\n",
       "      <td>WorkRelated</td>\n",
       "      <td>Other</td>\n",
       "      <td>60</td>\n",
       "      <td>3.000</td>\n",
       "      <td>4.000</td>\n",
       "      <td>1</td>\n",
       "    </tr>\n",
       "    <tr>\n",
       "      <th>3</th>\n",
       "      <td>1322459</td>\n",
       "      <td>460518</td>\n",
       "      <td>1</td>\n",
       "      <td>11</td>\n",
       "      <td>5</td>\n",
       "      <td>2</td>\n",
       "      <td>38104</td>\n",
       "      <td>38111</td>\n",
       "      <td>12</td>\n",
       "      <td>73</td>\n",
       "      <td>...</td>\n",
       "      <td>16200</td>\n",
       "      <td>5400</td>\n",
       "      <td>57</td>\n",
       "      <td>Male</td>\n",
       "      <td>WorkRelated</td>\n",
       "      <td>Other</td>\n",
       "      <td>30</td>\n",
       "      <td>4.000</td>\n",
       "      <td>4.500</td>\n",
       "      <td>1</td>\n",
       "    </tr>\n",
       "    <tr>\n",
       "      <th>4</th>\n",
       "      <td>1416616</td>\n",
       "      <td>493131</td>\n",
       "      <td>1</td>\n",
       "      <td>8</td>\n",
       "      <td>8</td>\n",
       "      <td>2</td>\n",
       "      <td>301</td>\n",
       "      <td>2421</td>\n",
       "      <td>12</td>\n",
       "      <td>47</td>\n",
       "      <td>...</td>\n",
       "      <td>16200</td>\n",
       "      <td>1200</td>\n",
       "      <td>42</td>\n",
       "      <td>Male</td>\n",
       "      <td>WorkRelated</td>\n",
       "      <td>Other</td>\n",
       "      <td>30</td>\n",
       "      <td>4.000</td>\n",
       "      <td>4.500</td>\n",
       "      <td>1</td>\n",
       "    </tr>\n",
       "  </tbody>\n",
       "</table>\n",
       "<p>5 rows × 22 columns</p>\n",
       "</div>"
      ],
      "text/plain": [
       "    TripID  TripChainID  Sex  Age  TripNumber  TripOrder  Ozone  Dzone  \\\n",
       "0  1416615       493131    1    8           8          1    300    301   \n",
       "1   768189       264487    1   11           7          1  11412  29299   \n",
       "2  1569139       547066    1   12           2          1    220   6300   \n",
       "3  1322459       460518    1   11           5          2  38104  38111   \n",
       "4  1416616       493131    1    8           8          2    301   2421   \n",
       "\n",
       "   Purpose  EnlargeCoefficient  ...  Gtime  StayTime  Age_Mean  Gender  \\\n",
       "0       12                  47  ...  12600      1800        42    Male   \n",
       "1       10                  30  ...  14400       900        57    Male   \n",
       "2        1                  42  ...  14400      3600        62    Male   \n",
       "3       12                  73  ...  16200      5400        57    Male   \n",
       "4       12                  47  ...  16200      1200        42    Male   \n",
       "\n",
       "   PurposeName   Mode TravelTimeMin StartTimeHr  EndTimeHr  Othermode  \n",
       "0  WorkRelated  Other            30       3.000      3.500          1  \n",
       "1  WorkRelated  Other            60       3.000      4.000          1  \n",
       "2  WorkRelated  Other            60       3.000      4.000          1  \n",
       "3  WorkRelated  Other            30       4.000      4.500          1  \n",
       "4  WorkRelated  Other            30       4.000      4.500          1  \n",
       "\n",
       "[5 rows x 22 columns]"
      ]
     },
     "execution_count": 5,
     "metadata": {},
     "output_type": "execute_result"
    }
   ],
   "source": [
    "pt_data.head()"
   ]
  },
  {
   "cell_type": "code",
   "execution_count": 6,
   "metadata": {},
   "outputs": [
    {
     "data": {
      "text/html": [
       "<div>\n",
       "<style scoped>\n",
       "    .dataframe tbody tr th:only-of-type {\n",
       "        vertical-align: middle;\n",
       "    }\n",
       "\n",
       "    .dataframe tbody tr th {\n",
       "        vertical-align: top;\n",
       "    }\n",
       "\n",
       "    .dataframe thead th {\n",
       "        text-align: right;\n",
       "    }\n",
       "</style>\n",
       "<table border=\"1\" class=\"dataframe\">\n",
       "  <thead>\n",
       "    <tr style=\"text-align: right;\">\n",
       "      <th></th>\n",
       "      <th>TripID</th>\n",
       "      <th>TripChainID</th>\n",
       "      <th>Sex</th>\n",
       "      <th>Age</th>\n",
       "      <th>TripNumber</th>\n",
       "      <th>TripOrder</th>\n",
       "      <th>Ozone</th>\n",
       "      <th>Dzone</th>\n",
       "      <th>Purpose</th>\n",
       "      <th>EnlargeCoefficient</th>\n",
       "      <th>Transportation</th>\n",
       "      <th>Stime</th>\n",
       "      <th>Gtime</th>\n",
       "      <th>StayTime</th>\n",
       "      <th>TravelTimeMin</th>\n",
       "      <th>StartTimeHr</th>\n",
       "      <th>EndTimeHr</th>\n",
       "      <th>Othermode</th>\n",
       "    </tr>\n",
       "  </thead>\n",
       "  <tbody>\n",
       "    <tr>\n",
       "      <th>count</th>\n",
       "      <td>1443009.000</td>\n",
       "      <td>1443009.000</td>\n",
       "      <td>1443009.000</td>\n",
       "      <td>1443009.000</td>\n",
       "      <td>1443009.000</td>\n",
       "      <td>1443009.000</td>\n",
       "      <td>1443009.000</td>\n",
       "      <td>1443009.000</td>\n",
       "      <td>1443009.000</td>\n",
       "      <td>1443009.000</td>\n",
       "      <td>1443009.000</td>\n",
       "      <td>1443009.000</td>\n",
       "      <td>1443009.000</td>\n",
       "      <td>1443009.000</td>\n",
       "      <td>1443009.000</td>\n",
       "      <td>1443009.000</td>\n",
       "      <td>1443009.000</td>\n",
       "      <td>1443009.000</td>\n",
       "    </tr>\n",
       "    <tr>\n",
       "      <th>mean</th>\n",
       "      <td>905297.677</td>\n",
       "      <td>313898.530</td>\n",
       "      <td>1.515</td>\n",
       "      <td>9.394</td>\n",
       "      <td>3.504</td>\n",
       "      <td>2.253</td>\n",
       "      <td>20612.510</td>\n",
       "      <td>20625.357</td>\n",
       "      <td>4.006</td>\n",
       "      <td>47.643</td>\n",
       "      <td>3.351</td>\n",
       "      <td>48611.423</td>\n",
       "      <td>50631.221</td>\n",
       "      <td>9464.186</td>\n",
       "      <td>33.663</td>\n",
       "      <td>13.503</td>\n",
       "      <td>14.064</td>\n",
       "      <td>0.002</td>\n",
       "    </tr>\n",
       "    <tr>\n",
       "      <th>std</th>\n",
       "      <td>519024.553</td>\n",
       "      <td>182111.688</td>\n",
       "      <td>0.500</td>\n",
       "      <td>3.968</td>\n",
       "      <td>1.811</td>\n",
       "      <td>1.427</td>\n",
       "      <td>17512.226</td>\n",
       "      <td>17505.949</td>\n",
       "      <td>3.959</td>\n",
       "      <td>22.392</td>\n",
       "      <td>1.945</td>\n",
       "      <td>16534.861</td>\n",
       "      <td>16513.364</td>\n",
       "      <td>13520.234</td>\n",
       "      <td>35.009</td>\n",
       "      <td>4.593</td>\n",
       "      <td>4.587</td>\n",
       "      <td>0.043</td>\n",
       "    </tr>\n",
       "    <tr>\n",
       "      <th>min</th>\n",
       "      <td>1.000</td>\n",
       "      <td>1.000</td>\n",
       "      <td>1.000</td>\n",
       "      <td>2.000</td>\n",
       "      <td>1.000</td>\n",
       "      <td>1.000</td>\n",
       "      <td>0.000</td>\n",
       "      <td>0.000</td>\n",
       "      <td>1.000</td>\n",
       "      <td>9.000</td>\n",
       "      <td>1.000</td>\n",
       "      <td>10800.000</td>\n",
       "      <td>10920.000</td>\n",
       "      <td>0.000</td>\n",
       "      <td>1.000</td>\n",
       "      <td>3.000</td>\n",
       "      <td>3.033</td>\n",
       "      <td>0.000</td>\n",
       "    </tr>\n",
       "    <tr>\n",
       "      <th>25%</th>\n",
       "      <td>457268.000</td>\n",
       "      <td>155404.000</td>\n",
       "      <td>1.000</td>\n",
       "      <td>7.000</td>\n",
       "      <td>2.000</td>\n",
       "      <td>1.000</td>\n",
       "      <td>6111.000</td>\n",
       "      <td>6111.000</td>\n",
       "      <td>2.000</td>\n",
       "      <td>33.000</td>\n",
       "      <td>1.000</td>\n",
       "      <td>32400.000</td>\n",
       "      <td>34380.000</td>\n",
       "      <td>0.000</td>\n",
       "      <td>10.000</td>\n",
       "      <td>9.000</td>\n",
       "      <td>9.550</td>\n",
       "      <td>0.000</td>\n",
       "    </tr>\n",
       "    <tr>\n",
       "      <th>50%</th>\n",
       "      <td>907904.000</td>\n",
       "      <td>314698.000</td>\n",
       "      <td>2.000</td>\n",
       "      <td>9.000</td>\n",
       "      <td>3.000</td>\n",
       "      <td>2.000</td>\n",
       "      <td>13210.000</td>\n",
       "      <td>13210.000</td>\n",
       "      <td>3.000</td>\n",
       "      <td>41.000</td>\n",
       "      <td>3.000</td>\n",
       "      <td>49800.000</td>\n",
       "      <td>51000.000</td>\n",
       "      <td>2100.000</td>\n",
       "      <td>20.000</td>\n",
       "      <td>13.833</td>\n",
       "      <td>14.167</td>\n",
       "      <td>0.000</td>\n",
       "    </tr>\n",
       "    <tr>\n",
       "      <th>75%</th>\n",
       "      <td>1356082.000</td>\n",
       "      <td>472221.000</td>\n",
       "      <td>2.000</td>\n",
       "      <td>13.000</td>\n",
       "      <td>4.000</td>\n",
       "      <td>3.000</td>\n",
       "      <td>34131.000</td>\n",
       "      <td>34132.000</td>\n",
       "      <td>4.000</td>\n",
       "      <td>54.000</td>\n",
       "      <td>5.000</td>\n",
       "      <td>62700.000</td>\n",
       "      <td>64800.000</td>\n",
       "      <td>14400.000</td>\n",
       "      <td>50.000</td>\n",
       "      <td>17.417</td>\n",
       "      <td>18.000</td>\n",
       "      <td>0.000</td>\n",
       "    </tr>\n",
       "    <tr>\n",
       "      <th>max</th>\n",
       "      <td>1801258.000</td>\n",
       "      <td>629098.000</td>\n",
       "      <td>2.000</td>\n",
       "      <td>18.000</td>\n",
       "      <td>37.000</td>\n",
       "      <td>37.000</td>\n",
       "      <td>99999.000</td>\n",
       "      <td>99999.000</td>\n",
       "      <td>99.000</td>\n",
       "      <td>618.000</td>\n",
       "      <td>7.000</td>\n",
       "      <td>86280.000</td>\n",
       "      <td>86340.000</td>\n",
       "      <td>68760.000</td>\n",
       "      <td>1080.000</td>\n",
       "      <td>23.967</td>\n",
       "      <td>23.983</td>\n",
       "      <td>1.000</td>\n",
       "    </tr>\n",
       "  </tbody>\n",
       "</table>\n",
       "</div>"
      ],
      "text/plain": [
       "           TripID  TripChainID         Sex         Age  TripNumber  \\\n",
       "count 1443009.000  1443009.000 1443009.000 1443009.000 1443009.000   \n",
       "mean   905297.677   313898.530       1.515       9.394       3.504   \n",
       "std    519024.553   182111.688       0.500       3.968       1.811   \n",
       "min         1.000        1.000       1.000       2.000       1.000   \n",
       "25%    457268.000   155404.000       1.000       7.000       2.000   \n",
       "50%    907904.000   314698.000       2.000       9.000       3.000   \n",
       "75%   1356082.000   472221.000       2.000      13.000       4.000   \n",
       "max   1801258.000   629098.000       2.000      18.000      37.000   \n",
       "\n",
       "        TripOrder       Ozone       Dzone     Purpose  EnlargeCoefficient  \\\n",
       "count 1443009.000 1443009.000 1443009.000 1443009.000         1443009.000   \n",
       "mean        2.253   20612.510   20625.357       4.006              47.643   \n",
       "std         1.427   17512.226   17505.949       3.959              22.392   \n",
       "min         1.000       0.000       0.000       1.000               9.000   \n",
       "25%         1.000    6111.000    6111.000       2.000              33.000   \n",
       "50%         2.000   13210.000   13210.000       3.000              41.000   \n",
       "75%         3.000   34131.000   34132.000       4.000              54.000   \n",
       "max        37.000   99999.000   99999.000      99.000             618.000   \n",
       "\n",
       "       Transportation       Stime       Gtime    StayTime  TravelTimeMin  \\\n",
       "count     1443009.000 1443009.000 1443009.000 1443009.000    1443009.000   \n",
       "mean            3.351   48611.423   50631.221    9464.186         33.663   \n",
       "std             1.945   16534.861   16513.364   13520.234         35.009   \n",
       "min             1.000   10800.000   10920.000       0.000          1.000   \n",
       "25%             1.000   32400.000   34380.000       0.000         10.000   \n",
       "50%             3.000   49800.000   51000.000    2100.000         20.000   \n",
       "75%             5.000   62700.000   64800.000   14400.000         50.000   \n",
       "max             7.000   86280.000   86340.000   68760.000       1080.000   \n",
       "\n",
       "       StartTimeHr   EndTimeHr   Othermode  \n",
       "count  1443009.000 1443009.000 1443009.000  \n",
       "mean        13.503      14.064       0.002  \n",
       "std          4.593       4.587       0.043  \n",
       "min          3.000       3.033       0.000  \n",
       "25%          9.000       9.550       0.000  \n",
       "50%         13.833      14.167       0.000  \n",
       "75%         17.417      18.000       0.000  \n",
       "max         23.967      23.983       1.000  "
      ]
     },
     "execution_count": 6,
     "metadata": {},
     "output_type": "execute_result"
    }
   ],
   "source": [
    "pt_data.describe()"
   ]
  },
  {
   "cell_type": "code",
   "execution_count": 7,
   "metadata": {},
   "outputs": [
    {
     "data": {
      "text/plain": [
       "Index(['TripID', 'TripChainID', 'Sex', 'Age', 'TripNumber', 'TripOrder',\n",
       "       'Ozone', 'Dzone', 'Purpose', 'EnlargeCoefficient', 'Transportation',\n",
       "       'Stime', 'Gtime', 'StayTime', 'Age_Mean', 'Gender', 'PurposeName',\n",
       "       'Mode', 'TravelTimeMin', 'StartTimeHr', 'EndTimeHr', 'Othermode'],\n",
       "      dtype='object')"
      ]
     },
     "execution_count": 7,
     "metadata": {},
     "output_type": "execute_result"
    }
   ],
   "source": [
    "pt_data.columns"
   ]
  },
  {
   "cell_type": "code",
   "execution_count": 8,
   "metadata": {},
   "outputs": [],
   "source": [
    "pt_data = pt_data[[\"Sex\", \"Age\", \"Purpose\", \"Transportation\", \"StartTimeHr\", \"EndTimeHr\", \"TravelTimeMin\"]]"
   ]
  },
  {
   "cell_type": "code",
   "execution_count": 9,
   "metadata": {},
   "outputs": [],
   "source": [
    "# columns needed: Sex, Age, Purpose, Transportation, StartTimeHr, EndTimeHr, travel_time_min"
   ]
  },
  {
   "cell_type": "code",
   "execution_count": 10,
   "metadata": {},
   "outputs": [
    {
     "name": "stdout",
     "output_type": "stream",
     "text": [
      "1443009\n"
     ]
    }
   ],
   "source": [
    "print(len(pt_data))"
   ]
  },
  {
   "cell_type": "code",
   "execution_count": 11,
   "metadata": {},
   "outputs": [
    {
     "data": {
      "text/html": [
       "<div>\n",
       "<style scoped>\n",
       "    .dataframe tbody tr th:only-of-type {\n",
       "        vertical-align: middle;\n",
       "    }\n",
       "\n",
       "    .dataframe tbody tr th {\n",
       "        vertical-align: top;\n",
       "    }\n",
       "\n",
       "    .dataframe thead th {\n",
       "        text-align: right;\n",
       "    }\n",
       "</style>\n",
       "<table border=\"1\" class=\"dataframe\">\n",
       "  <thead>\n",
       "    <tr style=\"text-align: right;\">\n",
       "      <th></th>\n",
       "      <th>Sex</th>\n",
       "      <th>Age</th>\n",
       "      <th>Purpose</th>\n",
       "      <th>Transportation</th>\n",
       "      <th>StartTimeHr</th>\n",
       "      <th>EndTimeHr</th>\n",
       "      <th>TravelTimeMin</th>\n",
       "    </tr>\n",
       "  </thead>\n",
       "  <tbody>\n",
       "    <tr>\n",
       "      <th>0</th>\n",
       "      <td>1</td>\n",
       "      <td>8</td>\n",
       "      <td>12</td>\n",
       "      <td>7</td>\n",
       "      <td>3.000</td>\n",
       "      <td>3.500</td>\n",
       "      <td>30</td>\n",
       "    </tr>\n",
       "    <tr>\n",
       "      <th>1</th>\n",
       "      <td>1</td>\n",
       "      <td>11</td>\n",
       "      <td>10</td>\n",
       "      <td>7</td>\n",
       "      <td>3.000</td>\n",
       "      <td>4.000</td>\n",
       "      <td>60</td>\n",
       "    </tr>\n",
       "    <tr>\n",
       "      <th>2</th>\n",
       "      <td>1</td>\n",
       "      <td>12</td>\n",
       "      <td>1</td>\n",
       "      <td>7</td>\n",
       "      <td>3.000</td>\n",
       "      <td>4.000</td>\n",
       "      <td>60</td>\n",
       "    </tr>\n",
       "    <tr>\n",
       "      <th>3</th>\n",
       "      <td>1</td>\n",
       "      <td>11</td>\n",
       "      <td>12</td>\n",
       "      <td>7</td>\n",
       "      <td>4.000</td>\n",
       "      <td>4.500</td>\n",
       "      <td>30</td>\n",
       "    </tr>\n",
       "    <tr>\n",
       "      <th>4</th>\n",
       "      <td>1</td>\n",
       "      <td>8</td>\n",
       "      <td>12</td>\n",
       "      <td>7</td>\n",
       "      <td>4.000</td>\n",
       "      <td>4.500</td>\n",
       "      <td>30</td>\n",
       "    </tr>\n",
       "  </tbody>\n",
       "</table>\n",
       "</div>"
      ],
      "text/plain": [
       "   Sex  Age  Purpose  Transportation  StartTimeHr  EndTimeHr  TravelTimeMin\n",
       "0    1    8       12               7        3.000      3.500             30\n",
       "1    1   11       10               7        3.000      4.000             60\n",
       "2    1   12        1               7        3.000      4.000             60\n",
       "3    1   11       12               7        4.000      4.500             30\n",
       "4    1    8       12               7        4.000      4.500             30"
      ]
     },
     "execution_count": 11,
     "metadata": {},
     "output_type": "execute_result"
    }
   ],
   "source": [
    "pt_data.head()"
   ]
  },
  {
   "cell_type": "code",
   "execution_count": 12,
   "metadata": {},
   "outputs": [
    {
     "data": {
      "text/plain": [
       "array([[<matplotlib.axes._subplots.AxesSubplot object at 0x7ff79475d9e8>]],\n",
       "      dtype=object)"
      ]
     },
     "execution_count": 12,
     "metadata": {},
     "output_type": "execute_result"
    },
    {
     "data": {
      "image/png": "[encoded data removed]",
      "text/plain": [
       "<Figure size 432x288 with 1 Axes>"
      ]
     },
     "metadata": {
      "needs_background": "light"
     },
     "output_type": "display_data"
    }
   ],
   "source": [
    "pt_data.hist(column='TravelTimeMin')"
   ]
  },
  {
   "cell_type": "code",
   "execution_count": 13,
   "metadata": {},
   "outputs": [
    {
     "data": {
      "text/plain": [
       "array([[<matplotlib.axes._subplots.AxesSubplot object at 0x7ff79465f780>]],\n",
       "      dtype=object)"
      ]
     },
     "execution_count": 13,
     "metadata": {},
     "output_type": "execute_result"
    },
    {
     "data": {
      "image/png": "[encoded data removed]",
      "text/plain": [
       "<Figure size 432x288 with 1 Axes>"
      ]
     },
     "metadata": {
      "needs_background": "light"
     },
     "output_type": "display_data"
    }
   ],
   "source": [
    "pt_data.hist(column='StartTimeHr')"
   ]
  },
  {
   "cell_type": "code",
   "execution_count": 14,
   "metadata": {},
   "outputs": [
    {
     "data": {
      "text/plain": [
       "array([[<matplotlib.axes._subplots.AxesSubplot object at 0x7ff7945f4470>]],\n",
       "      dtype=object)"
      ]
     },
     "execution_count": 14,
     "metadata": {},
     "output_type": "execute_result"
    },
    {
     "data": {
      "image/png": "[encoded data removed]",
      "text/plain": [
       "<Figure size 432x288 with 1 Axes>"
      ]
     },
     "metadata": {
      "needs_background": "light"
     },
     "output_type": "display_data"
    }
   ],
   "source": [
    "pt_data.hist(column='EndTimeHr')"
   ]
  },
  {
   "cell_type": "code",
   "execution_count": 15,
   "metadata": {},
   "outputs": [],
   "source": [
    "####creating bins for morning,evening and night data\n",
    "\n",
    "# 1.morning: 5-9\n",
    "# 2.noon: 9-14\n",
    "# 3.evening: 14-18\n",
    "# 4.night: 18-22\n",
    "# 5.late-night/early-morning: 22-5\n",
    "\n",
    "# time = [5,9,14,18,22,24,0]\n",
    "# pt_data['time_taken'] = np.abs(pt_data['Gtime'] - pt_data['Stime'])"
   ]
  },
  {
   "cell_type": "code",
   "execution_count": 16,
   "metadata": {},
   "outputs": [],
   "source": [
    "# import numpy as np\n",
    "\n",
    "\n",
    "# pt_data['Stime'] = np.where((pt_data['Stime'].between(time[0], time[1], inclusive=True)), 100, pt_data['Stime'])\n",
    "# pt_data['Stime'] = np.where((pt_data['Stime'].between(time[1], time[2], inclusive=True)), 101, pt_data['Stime'])\n",
    "# pt_data['Stime'] = np.where((pt_data['Stime'].between(time[2], time[3], inclusive=True)), 102, pt_data['Stime'])\n",
    "# pt_data['Stime'] = np.where((pt_data['Stime'].between(time[3], time[4], inclusive=True)), 103, pt_data['Stime'])\n",
    "# pt_data['Stime'] = np.where((pt_data['Stime'].between(time[4], time[5], inclusive=True)), 104, pt_data['Stime'])\n",
    "# pt_data['Stime'] = np.where((pt_data['Stime'].between(time[6], time[0], inclusive=True)), 104, pt_data['Stime'])\n",
    "\n",
    "# pt_data['Stime_1'] = np.where(pt_data['Stime'] > 0, 5, pt_data['Stime'])\n",
    "# pt_data['Stime_1'] = np.where(pt_data['Stime'] > 5, 1, pt_data['Stime'])\n",
    "# pt_data['Stime_1'] = np.where(pt_data['Stime'] > 9, 2, pt_data['Stime'])\n",
    "# pt_data['Stime_1'] = np.where(pt_data['Stime'] > 14, 3, pt_data['Stime'])\n",
    "# pt_data['Stime_1'] = np.where(pt_data['Stime'] > 18, 4, pt_data['Stime'])\n",
    "# pt_data['Stime_1'] = np.where(pt_data['Stime'] > 22, 5, pt_data['Stime'])"
   ]
  },
  {
   "cell_type": "code",
   "execution_count": 17,
   "metadata": {},
   "outputs": [],
   "source": [
    "pt_data['Purpose'] = np.where(pt_data['Purpose'] == 1, 200, pt_data['Purpose'])\n",
    "pt_data['Purpose'] = np.where(pt_data['Purpose'] == 2, 200, pt_data['Purpose'])\n",
    "pt_data['Purpose'] = np.where(pt_data['Purpose'] == 10, 200, pt_data['Purpose'])\n",
    "pt_data['Purpose'] = np.where(pt_data['Purpose'] == 11, 200, pt_data['Purpose'])\n",
    "pt_data['Purpose'] = np.where(pt_data['Purpose'] == 12, 200, pt_data['Purpose'])\n",
    "pt_data['Purpose'] = np.where(pt_data['Purpose'] == 13, 200, pt_data['Purpose'])\n",
    "pt_data['Purpose'] = np.where(pt_data['Purpose'] == 14, 200, pt_data['Purpose'])\n",
    "pt_data['Purpose'] = np.where(pt_data['Purpose'] == 3, 201, pt_data['Purpose'])\n",
    "pt_data['Purpose'] = np.where(pt_data['Purpose'] == 4, 202, pt_data['Purpose'])\n",
    "pt_data['Purpose'] = np.where(pt_data['Purpose'] == 5, 203, pt_data['Purpose'])\n",
    "pt_data['Purpose'] = np.where(pt_data['Purpose'] == 6, 203, pt_data['Purpose'])\n",
    "pt_data['Purpose'] = np.where(pt_data['Purpose'] == 7, 203, pt_data['Purpose'])\n",
    "pt_data['Purpose'] = np.where(pt_data['Purpose'] == 8, 204, pt_data['Purpose'])\n",
    "pt_data['Purpose'] = np.where(pt_data['Purpose'] == 9, 204, pt_data['Purpose'])\n",
    "pt_data['Purpose'] = np.where(pt_data['Purpose'] == 99, 204, pt_data['Purpose'])\n",
    "                                                            "
   ]
  },
  {
   "cell_type": "code",
   "execution_count": 18,
   "metadata": {},
   "outputs": [],
   "source": [
    "pt_data['Transportation'] = np.where(pt_data['Transportation'] == 1, 400, pt_data['Transportation'])\n",
    "pt_data['Transportation'] = np.where(pt_data['Transportation'] == 2, 400, pt_data['Transportation'])\n",
    "pt_data['Transportation'] = np.where(pt_data['Transportation'] == 3, 401, pt_data['Transportation'])\n",
    "pt_data['Transportation'] = np.where(pt_data['Transportation'] == 4, 401, pt_data['Transportation'])\n",
    "pt_data['Transportation'] = np.where(pt_data['Transportation'] == 5, 402, pt_data['Transportation'])\n",
    "pt_data['Transportation'] = np.where(pt_data['Transportation'] == 6, 403, pt_data['Transportation'])"
   ]
  },
  {
   "cell_type": "code",
   "execution_count": 19,
   "metadata": {},
   "outputs": [],
   "source": [
    "pt_data = pt_data[pt_data.Transportation != 7]\n",
    "pt_data = pt_data[pt_data.Transportation != 8]"
   ]
  },
  {
   "cell_type": "code",
   "execution_count": 20,
   "metadata": {},
   "outputs": [
    {
     "name": "stdout",
     "output_type": "stream",
     "text": [
      "1441493\n"
     ]
    }
   ],
   "source": [
    "print(len(pt_data))"
   ]
  },
  {
   "cell_type": "code",
   "execution_count": 21,
   "metadata": {},
   "outputs": [
    {
     "data": {
      "text/html": [
       "<div>\n",
       "<style scoped>\n",
       "    .dataframe tbody tr th:only-of-type {\n",
       "        vertical-align: middle;\n",
       "    }\n",
       "\n",
       "    .dataframe tbody tr th {\n",
       "        vertical-align: top;\n",
       "    }\n",
       "\n",
       "    .dataframe thead th {\n",
       "        text-align: right;\n",
       "    }\n",
       "</style>\n",
       "<table border=\"1\" class=\"dataframe\">\n",
       "  <thead>\n",
       "    <tr style=\"text-align: right;\">\n",
       "      <th></th>\n",
       "      <th>Sex</th>\n",
       "      <th>Age</th>\n",
       "      <th>Purpose</th>\n",
       "      <th>Transportation</th>\n",
       "      <th>StartTimeHr</th>\n",
       "      <th>EndTimeHr</th>\n",
       "      <th>TravelTimeMin</th>\n",
       "    </tr>\n",
       "  </thead>\n",
       "  <tbody>\n",
       "    <tr>\n",
       "      <th>1516</th>\n",
       "      <td>1</td>\n",
       "      <td>16</td>\n",
       "      <td>204</td>\n",
       "      <td>402</td>\n",
       "      <td>5.333</td>\n",
       "      <td>5.350</td>\n",
       "      <td>1</td>\n",
       "    </tr>\n",
       "    <tr>\n",
       "      <th>1517</th>\n",
       "      <td>1</td>\n",
       "      <td>6</td>\n",
       "      <td>204</td>\n",
       "      <td>402</td>\n",
       "      <td>5.667</td>\n",
       "      <td>5.750</td>\n",
       "      <td>5</td>\n",
       "    </tr>\n",
       "    <tr>\n",
       "      <th>1518</th>\n",
       "      <td>2</td>\n",
       "      <td>5</td>\n",
       "      <td>204</td>\n",
       "      <td>402</td>\n",
       "      <td>5.667</td>\n",
       "      <td>6.000</td>\n",
       "      <td>20</td>\n",
       "    </tr>\n",
       "    <tr>\n",
       "      <th>1519</th>\n",
       "      <td>1</td>\n",
       "      <td>9</td>\n",
       "      <td>204</td>\n",
       "      <td>402</td>\n",
       "      <td>5.500</td>\n",
       "      <td>6.000</td>\n",
       "      <td>30</td>\n",
       "    </tr>\n",
       "    <tr>\n",
       "      <th>1520</th>\n",
       "      <td>1</td>\n",
       "      <td>13</td>\n",
       "      <td>204</td>\n",
       "      <td>402</td>\n",
       "      <td>6.000</td>\n",
       "      <td>6.083</td>\n",
       "      <td>5</td>\n",
       "    </tr>\n",
       "  </tbody>\n",
       "</table>\n",
       "</div>"
      ],
      "text/plain": [
       "      Sex  Age  Purpose  Transportation  StartTimeHr  EndTimeHr  TravelTimeMin\n",
       "1516    1   16      204             402        5.333      5.350              1\n",
       "1517    1    6      204             402        5.667      5.750              5\n",
       "1518    2    5      204             402        5.667      6.000             20\n",
       "1519    1    9      204             402        5.500      6.000             30\n",
       "1520    1   13      204             402        6.000      6.083              5"
      ]
     },
     "execution_count": 21,
     "metadata": {},
     "output_type": "execute_result"
    }
   ],
   "source": [
    "pt_data.head()"
   ]
  },
  {
   "cell_type": "code",
   "execution_count": 22,
   "metadata": {},
   "outputs": [],
   "source": [
    "# pt_data.to_csv(\"final_pt_data.csv\")"
   ]
  },
  {
   "cell_type": "code",
   "execution_count": 23,
   "metadata": {},
   "outputs": [],
   "source": [
    "###dummy data for all the categorical variables\n",
    "\n",
    "features = pt_data.drop([\"Transportation\"], axis = 1)\n",
    "# features = pt_data"
   ]
  },
  {
   "cell_type": "code",
   "execution_count": 24,
   "metadata": {},
   "outputs": [
    {
     "data": {
      "text/html": [
       "<div>\n",
       "<style scoped>\n",
       "    .dataframe tbody tr th:only-of-type {\n",
       "        vertical-align: middle;\n",
       "    }\n",
       "\n",
       "    .dataframe tbody tr th {\n",
       "        vertical-align: top;\n",
       "    }\n",
       "\n",
       "    .dataframe thead th {\n",
       "        text-align: right;\n",
       "    }\n",
       "</style>\n",
       "<table border=\"1\" class=\"dataframe\">\n",
       "  <thead>\n",
       "    <tr style=\"text-align: right;\">\n",
       "      <th></th>\n",
       "      <th>Sex</th>\n",
       "      <th>Age</th>\n",
       "      <th>Purpose</th>\n",
       "      <th>StartTimeHr</th>\n",
       "      <th>EndTimeHr</th>\n",
       "      <th>TravelTimeMin</th>\n",
       "    </tr>\n",
       "  </thead>\n",
       "  <tbody>\n",
       "    <tr>\n",
       "      <th>1516</th>\n",
       "      <td>1</td>\n",
       "      <td>16</td>\n",
       "      <td>204</td>\n",
       "      <td>5.333</td>\n",
       "      <td>5.350</td>\n",
       "      <td>1</td>\n",
       "    </tr>\n",
       "    <tr>\n",
       "      <th>1517</th>\n",
       "      <td>1</td>\n",
       "      <td>6</td>\n",
       "      <td>204</td>\n",
       "      <td>5.667</td>\n",
       "      <td>5.750</td>\n",
       "      <td>5</td>\n",
       "    </tr>\n",
       "    <tr>\n",
       "      <th>1518</th>\n",
       "      <td>2</td>\n",
       "      <td>5</td>\n",
       "      <td>204</td>\n",
       "      <td>5.667</td>\n",
       "      <td>6.000</td>\n",
       "      <td>20</td>\n",
       "    </tr>\n",
       "    <tr>\n",
       "      <th>1519</th>\n",
       "      <td>1</td>\n",
       "      <td>9</td>\n",
       "      <td>204</td>\n",
       "      <td>5.500</td>\n",
       "      <td>6.000</td>\n",
       "      <td>30</td>\n",
       "    </tr>\n",
       "    <tr>\n",
       "      <th>1520</th>\n",
       "      <td>1</td>\n",
       "      <td>13</td>\n",
       "      <td>204</td>\n",
       "      <td>6.000</td>\n",
       "      <td>6.083</td>\n",
       "      <td>5</td>\n",
       "    </tr>\n",
       "  </tbody>\n",
       "</table>\n",
       "</div>"
      ],
      "text/plain": [
       "      Sex  Age  Purpose  StartTimeHr  EndTimeHr  TravelTimeMin\n",
       "1516    1   16      204        5.333      5.350              1\n",
       "1517    1    6      204        5.667      5.750              5\n",
       "1518    2    5      204        5.667      6.000             20\n",
       "1519    1    9      204        5.500      6.000             30\n",
       "1520    1   13      204        6.000      6.083              5"
      ]
     },
     "execution_count": 24,
     "metadata": {},
     "output_type": "execute_result"
    }
   ],
   "source": [
    "features.head()"
   ]
  },
  {
   "cell_type": "code",
   "execution_count": 25,
   "metadata": {},
   "outputs": [],
   "source": [
    "features = features.astype({\"Sex\": \"category\", \"Age\":\"category\", \"Purpose\" : \"category\"})\n",
    "# features = features.astype({\"Sex\": \"category\", \"Purpose\" : \"category\"})\n"
   ]
  },
  {
   "cell_type": "code",
   "execution_count": 26,
   "metadata": {},
   "outputs": [
    {
     "data": {
      "text/plain": [
       "Sex              category\n",
       "Age              category\n",
       "Purpose          category\n",
       "StartTimeHr       float64\n",
       "EndTimeHr         float64\n",
       "TravelTimeMin       int64\n",
       "dtype: object"
      ]
     },
     "execution_count": 26,
     "metadata": {},
     "output_type": "execute_result"
    }
   ],
   "source": [
    "features.dtypes"
   ]
  },
  {
   "cell_type": "code",
   "execution_count": 27,
   "metadata": {},
   "outputs": [
    {
     "data": {
      "text/html": [
       "<div>\n",
       "<style scoped>\n",
       "    .dataframe tbody tr th:only-of-type {\n",
       "        vertical-align: middle;\n",
       "    }\n",
       "\n",
       "    .dataframe tbody tr th {\n",
       "        vertical-align: top;\n",
       "    }\n",
       "\n",
       "    .dataframe thead th {\n",
       "        text-align: right;\n",
       "    }\n",
       "</style>\n",
       "<table border=\"1\" class=\"dataframe\">\n",
       "  <thead>\n",
       "    <tr style=\"text-align: right;\">\n",
       "      <th></th>\n",
       "      <th>Sex</th>\n",
       "      <th>Age</th>\n",
       "      <th>Purpose</th>\n",
       "      <th>StartTimeHr</th>\n",
       "      <th>EndTimeHr</th>\n",
       "      <th>TravelTimeMin</th>\n",
       "    </tr>\n",
       "  </thead>\n",
       "  <tbody>\n",
       "    <tr>\n",
       "      <th>1516</th>\n",
       "      <td>1</td>\n",
       "      <td>16</td>\n",
       "      <td>204</td>\n",
       "      <td>5.333</td>\n",
       "      <td>5.350</td>\n",
       "      <td>1</td>\n",
       "    </tr>\n",
       "    <tr>\n",
       "      <th>1517</th>\n",
       "      <td>1</td>\n",
       "      <td>6</td>\n",
       "      <td>204</td>\n",
       "      <td>5.667</td>\n",
       "      <td>5.750</td>\n",
       "      <td>5</td>\n",
       "    </tr>\n",
       "    <tr>\n",
       "      <th>1518</th>\n",
       "      <td>2</td>\n",
       "      <td>5</td>\n",
       "      <td>204</td>\n",
       "      <td>5.667</td>\n",
       "      <td>6.000</td>\n",
       "      <td>20</td>\n",
       "    </tr>\n",
       "    <tr>\n",
       "      <th>1519</th>\n",
       "      <td>1</td>\n",
       "      <td>9</td>\n",
       "      <td>204</td>\n",
       "      <td>5.500</td>\n",
       "      <td>6.000</td>\n",
       "      <td>30</td>\n",
       "    </tr>\n",
       "    <tr>\n",
       "      <th>1520</th>\n",
       "      <td>1</td>\n",
       "      <td>13</td>\n",
       "      <td>204</td>\n",
       "      <td>6.000</td>\n",
       "      <td>6.083</td>\n",
       "      <td>5</td>\n",
       "    </tr>\n",
       "  </tbody>\n",
       "</table>\n",
       "</div>"
      ],
      "text/plain": [
       "     Sex Age Purpose  StartTimeHr  EndTimeHr  TravelTimeMin\n",
       "1516   1  16     204        5.333      5.350              1\n",
       "1517   1   6     204        5.667      5.750              5\n",
       "1518   2   5     204        5.667      6.000             20\n",
       "1519   1   9     204        5.500      6.000             30\n",
       "1520   1  13     204        6.000      6.083              5"
      ]
     },
     "execution_count": 27,
     "metadata": {},
     "output_type": "execute_result"
    }
   ],
   "source": [
    "features.head()"
   ]
  },
  {
   "cell_type": "code",
   "execution_count": 28,
   "metadata": {},
   "outputs": [],
   "source": [
    "features = pd.get_dummies(features)"
   ]
  },
  {
   "cell_type": "code",
   "execution_count": 29,
   "metadata": {},
   "outputs": [
    {
     "data": {
      "text/html": [
       "<div>\n",
       "<style scoped>\n",
       "    .dataframe tbody tr th:only-of-type {\n",
       "        vertical-align: middle;\n",
       "    }\n",
       "\n",
       "    .dataframe tbody tr th {\n",
       "        vertical-align: top;\n",
       "    }\n",
       "\n",
       "    .dataframe thead th {\n",
       "        text-align: right;\n",
       "    }\n",
       "</style>\n",
       "<table border=\"1\" class=\"dataframe\">\n",
       "  <thead>\n",
       "    <tr style=\"text-align: right;\">\n",
       "      <th></th>\n",
       "      <th>StartTimeHr</th>\n",
       "      <th>EndTimeHr</th>\n",
       "      <th>TravelTimeMin</th>\n",
       "      <th>Sex_1</th>\n",
       "      <th>Sex_2</th>\n",
       "      <th>Age_2</th>\n",
       "      <th>Age_3</th>\n",
       "      <th>Age_4</th>\n",
       "      <th>Age_5</th>\n",
       "      <th>Age_6</th>\n",
       "      <th>...</th>\n",
       "      <th>Age_14</th>\n",
       "      <th>Age_15</th>\n",
       "      <th>Age_16</th>\n",
       "      <th>Age_17</th>\n",
       "      <th>Age_18</th>\n",
       "      <th>Purpose_200</th>\n",
       "      <th>Purpose_201</th>\n",
       "      <th>Purpose_202</th>\n",
       "      <th>Purpose_203</th>\n",
       "      <th>Purpose_204</th>\n",
       "    </tr>\n",
       "  </thead>\n",
       "  <tbody>\n",
       "    <tr>\n",
       "      <th>1516</th>\n",
       "      <td>5.333</td>\n",
       "      <td>5.350</td>\n",
       "      <td>1</td>\n",
       "      <td>1</td>\n",
       "      <td>0</td>\n",
       "      <td>0</td>\n",
       "      <td>0</td>\n",
       "      <td>0</td>\n",
       "      <td>0</td>\n",
       "      <td>0</td>\n",
       "      <td>...</td>\n",
       "      <td>0</td>\n",
       "      <td>0</td>\n",
       "      <td>1</td>\n",
       "      <td>0</td>\n",
       "      <td>0</td>\n",
       "      <td>0</td>\n",
       "      <td>0</td>\n",
       "      <td>0</td>\n",
       "      <td>0</td>\n",
       "      <td>1</td>\n",
       "    </tr>\n",
       "    <tr>\n",
       "      <th>1517</th>\n",
       "      <td>5.667</td>\n",
       "      <td>5.750</td>\n",
       "      <td>5</td>\n",
       "      <td>1</td>\n",
       "      <td>0</td>\n",
       "      <td>0</td>\n",
       "      <td>0</td>\n",
       "      <td>0</td>\n",
       "      <td>0</td>\n",
       "      <td>1</td>\n",
       "      <td>...</td>\n",
       "      <td>0</td>\n",
       "      <td>0</td>\n",
       "      <td>0</td>\n",
       "      <td>0</td>\n",
       "      <td>0</td>\n",
       "      <td>0</td>\n",
       "      <td>0</td>\n",
       "      <td>0</td>\n",
       "      <td>0</td>\n",
       "      <td>1</td>\n",
       "    </tr>\n",
       "    <tr>\n",
       "      <th>1518</th>\n",
       "      <td>5.667</td>\n",
       "      <td>6.000</td>\n",
       "      <td>20</td>\n",
       "      <td>0</td>\n",
       "      <td>1</td>\n",
       "      <td>0</td>\n",
       "      <td>0</td>\n",
       "      <td>0</td>\n",
       "      <td>1</td>\n",
       "      <td>0</td>\n",
       "      <td>...</td>\n",
       "      <td>0</td>\n",
       "      <td>0</td>\n",
       "      <td>0</td>\n",
       "      <td>0</td>\n",
       "      <td>0</td>\n",
       "      <td>0</td>\n",
       "      <td>0</td>\n",
       "      <td>0</td>\n",
       "      <td>0</td>\n",
       "      <td>1</td>\n",
       "    </tr>\n",
       "    <tr>\n",
       "      <th>1519</th>\n",
       "      <td>5.500</td>\n",
       "      <td>6.000</td>\n",
       "      <td>30</td>\n",
       "      <td>1</td>\n",
       "      <td>0</td>\n",
       "      <td>0</td>\n",
       "      <td>0</td>\n",
       "      <td>0</td>\n",
       "      <td>0</td>\n",
       "      <td>0</td>\n",
       "      <td>...</td>\n",
       "      <td>0</td>\n",
       "      <td>0</td>\n",
       "      <td>0</td>\n",
       "      <td>0</td>\n",
       "      <td>0</td>\n",
       "      <td>0</td>\n",
       "      <td>0</td>\n",
       "      <td>0</td>\n",
       "      <td>0</td>\n",
       "      <td>1</td>\n",
       "    </tr>\n",
       "    <tr>\n",
       "      <th>1520</th>\n",
       "      <td>6.000</td>\n",
       "      <td>6.083</td>\n",
       "      <td>5</td>\n",
       "      <td>1</td>\n",
       "      <td>0</td>\n",
       "      <td>0</td>\n",
       "      <td>0</td>\n",
       "      <td>0</td>\n",
       "      <td>0</td>\n",
       "      <td>0</td>\n",
       "      <td>...</td>\n",
       "      <td>0</td>\n",
       "      <td>0</td>\n",
       "      <td>0</td>\n",
       "      <td>0</td>\n",
       "      <td>0</td>\n",
       "      <td>0</td>\n",
       "      <td>0</td>\n",
       "      <td>0</td>\n",
       "      <td>0</td>\n",
       "      <td>1</td>\n",
       "    </tr>\n",
       "  </tbody>\n",
       "</table>\n",
       "<p>5 rows × 27 columns</p>\n",
       "</div>"
      ],
      "text/plain": [
       "      StartTimeHr  EndTimeHr  TravelTimeMin  Sex_1  Sex_2  Age_2  Age_3  \\\n",
       "1516        5.333      5.350              1      1      0      0      0   \n",
       "1517        5.667      5.750              5      1      0      0      0   \n",
       "1518        5.667      6.000             20      0      1      0      0   \n",
       "1519        5.500      6.000             30      1      0      0      0   \n",
       "1520        6.000      6.083              5      1      0      0      0   \n",
       "\n",
       "      Age_4  Age_5  Age_6  ...  Age_14  Age_15  Age_16  Age_17  Age_18  \\\n",
       "1516      0      0      0  ...       0       0       1       0       0   \n",
       "1517      0      0      1  ...       0       0       0       0       0   \n",
       "1518      0      1      0  ...       0       0       0       0       0   \n",
       "1519      0      0      0  ...       0       0       0       0       0   \n",
       "1520      0      0      0  ...       0       0       0       0       0   \n",
       "\n",
       "      Purpose_200  Purpose_201  Purpose_202  Purpose_203  Purpose_204  \n",
       "1516            0            0            0            0            1  \n",
       "1517            0            0            0            0            1  \n",
       "1518            0            0            0            0            1  \n",
       "1519            0            0            0            0            1  \n",
       "1520            0            0            0            0            1  \n",
       "\n",
       "[5 rows x 27 columns]"
      ]
     },
     "execution_count": 29,
     "metadata": {},
     "output_type": "execute_result"
    }
   ],
   "source": [
    "features.head()"
   ]
  },
  {
   "cell_type": "code",
   "execution_count": 30,
   "metadata": {},
   "outputs": [
    {
     "data": {
      "text/plain": [
       "Index(['StartTimeHr', 'EndTimeHr', 'TravelTimeMin', 'Sex_1', 'Sex_2', 'Age_2',\n",
       "       'Age_3', 'Age_4', 'Age_5', 'Age_6', 'Age_7', 'Age_8', 'Age_9', 'Age_10',\n",
       "       'Age_11', 'Age_12', 'Age_13', 'Age_14', 'Age_15', 'Age_16', 'Age_17',\n",
       "       'Age_18', 'Purpose_200', 'Purpose_201', 'Purpose_202', 'Purpose_203',\n",
       "       'Purpose_204'],\n",
       "      dtype='object')"
      ]
     },
     "execution_count": 30,
     "metadata": {},
     "output_type": "execute_result"
    }
   ],
   "source": [
    "features.columns"
   ]
  },
  {
   "cell_type": "code",
   "execution_count": 31,
   "metadata": {},
   "outputs": [],
   "source": [
    "# features.to_csv(\"pt_data_with_dummies.csv\")"
   ]
  },
  {
   "cell_type": "code",
   "execution_count": 32,
   "metadata": {},
   "outputs": [],
   "source": [
    "labels = pt_data[[\"Transportation\"]]\n",
    "labels = labels.astype({\"Transportation\": \"category\"})"
   ]
  },
  {
   "cell_type": "code",
   "execution_count": 33,
   "metadata": {},
   "outputs": [
    {
     "data": {
      "text/plain": [
       "Transportation    category\n",
       "dtype: object"
      ]
     },
     "execution_count": 33,
     "metadata": {},
     "output_type": "execute_result"
    }
   ],
   "source": [
    "labels.dtypes"
   ]
  },
  {
   "cell_type": "code",
   "execution_count": 34,
   "metadata": {},
   "outputs": [],
   "source": [
    "# labels = pd.get_dummies(labels)"
   ]
  },
  {
   "cell_type": "code",
   "execution_count": 35,
   "metadata": {},
   "outputs": [],
   "source": [
    "# ####using train_test split\n",
    "from sklearn.model_selection import train_test_split\n",
    "X_train, X_test, y_train, y_test = train_test_split(features, labels, test_size=0.15, random_state=87)"
   ]
  },
  {
   "cell_type": "code",
   "execution_count": 36,
   "metadata": {},
   "outputs": [],
   "source": [
    "# X_train.to_csv(\"final_x_train_latest.csv\")\n",
    "# X_test.to_csv(\"final_x_test_latest.csv\")\n",
    "# y_train.to_csv(\"final_y_train_latest.csv\")\n",
    "# y_test.to_csv(\"final_y_test_latest.csv\")"
   ]
  },
  {
   "cell_type": "code",
   "execution_count": 37,
   "metadata": {},
   "outputs": [],
   "source": [
    "# x_train_csv = pd.read_csv(\"final_x_train.csv\")\n",
    "# x_test_csv = pd.read_csv(\"final_x_test.csv\")\n",
    "\n",
    "# y_train_csv = pd.read_csv(\"final_y_train.csv\")\n",
    "# y_test_csv = pd.read_csv(\"final_y_test.csv\")\n",
    "\n",
    "# # pd.concat([x_train_csv, y_train_csv], axis=1)\n",
    "\n",
    "# train_data_csv = pd.concat([x_train_csv, y_train_csv], axis=1)\n",
    "# test_data_csv = pd.concat([x_test_csv, y_test_csv], axis=1)\n",
    "\n",
    "# # x_test_csv.join(y_test_csv)\n",
    "\n",
    "# train_data_csv.to_csv(\"train_data_csv.csv\")\n",
    "# test_data_csv.to_csv(\"test_data_csv.csv\")"
   ]
  },
  {
   "cell_type": "code",
   "execution_count": 38,
   "metadata": {},
   "outputs": [],
   "source": [
    "# testing = pd.read_csv(\"train_data_csv.csv\")\n",
    "# testing.head()"
   ]
  },
  {
   "cell_type": "code",
   "execution_count": 39,
   "metadata": {},
   "outputs": [],
   "source": [
    "from sklearn import preprocessing\n",
    "from sklearn.ensemble import RandomForestClassifier\n",
    "from sklearn.metrics import log_loss\n",
    "from sklearn.metrics import accuracy_score\n",
    "# from sklearn.linear_model import LogisticRegression\n",
    "X_train_ordinal = X_train.values\n",
    "X_test_ordinal = X_test.values\n",
    "# les = []\n",
    "# l = LogisticRegression()\n",
    "r = RandomForestClassifier(n_estimators=25,max_depth=6)\n"
   ]
  },
  {
   "cell_type": "code",
   "execution_count": 40,
   "metadata": {},
   "outputs": [
    {
     "name": "stdout",
     "output_type": "stream",
     "text": [
      "(1225269, 27)\n"
     ]
    }
   ],
   "source": [
    "print(X_train_ordinal.shape)"
   ]
  },
  {
   "cell_type": "code",
   "execution_count": 41,
   "metadata": {},
   "outputs": [
    {
     "name": "stderr",
     "output_type": "stream",
     "text": [
      "/home/deepank/anaconda3/envs/tensorflow/lib/python3.6/site-packages/ipykernel_launcher.py:1: DataConversionWarning: A column-vector y was passed when a 1d array was expected. Please change the shape of y to (n_samples,), for example using ravel().\n",
      "  \"\"\"Entry point for launching an IPython kernel.\n"
     ]
    },
    {
     "name": "stdout",
     "output_type": "stream",
     "text": [
      "[400 400 400 ... 401 401 403]\n",
      "0.5737152212520349\n"
     ]
    }
   ],
   "source": [
    "r.fit(X_train_ordinal,y_train)\n",
    "y_pred = r.predict(X_test_ordinal)\n",
    "print(y_pred)\n",
    "print(accuracy_score(y_test,y_pred))"
   ]
  },
  {
   "cell_type": "code",
   "execution_count": 42,
   "metadata": {},
   "outputs": [
    {
     "name": "stdout",
     "output_type": "stream",
     "text": [
      "0.3990499113799356\n"
     ]
    }
   ],
   "source": [
    "from sklearn.metrics import cohen_kappa_score\n",
    "print(cohen_kappa_score(y_test,y_pred))"
   ]
  },
  {
   "cell_type": "code",
   "execution_count": 43,
   "metadata": {},
   "outputs": [
    {
     "data": {
      "text/plain": [
       "<matplotlib.axes._subplots.AxesSubplot at 0x7f9368f739e8>"
      ]
     },
     "execution_count": 43,
     "metadata": {},
     "output_type": "execute_result"
    },
    {
     "data": {
      "image/png": "[encoded data removed]",
      "text/plain": [
       "<Figure size 504x504 with 1 Axes>"
      ]
     },
     "metadata": {},
     "output_type": "display_data"
    }
   ],
   "source": [
    "from sklearn.metrics import confusion_matrix\n",
    "import seaborn as sn\n",
    "import pandas as pd\n",
    "import matplotlib.pyplot as plt\n",
    "\n",
    "\n",
    "\n",
    "array = confusion_matrix(y_test, y_pred)\n",
    "sn.set(font_scale=1.5)\n",
    "df_cm = pd.DataFrame(array, index = [\"Public\", \"Private\", \"Bicycle\", \"Walk\"],\n",
    "                  columns = [\"Public\", \"Private\", \"Bicycle\", \"Walk\"])\n",
    "plt.figure(figsize = (7,7))\n",
    "sn.heatmap(df_cm, annot=True, fmt='g', cmap = \"Oranges\", cbar = False)"
   ]
  },
  {
   "cell_type": "code",
   "execution_count": 44,
   "metadata": {},
   "outputs": [
    {
     "name": "stdout",
     "output_type": "stream",
     "text": [
      "             precision    recall  f1-score   support\n",
      "\n",
      "        400       0.74      0.83      0.79     72885\n",
      "        401       0.45      0.55      0.50     63074\n",
      "        402       0.58      0.01      0.02     31675\n",
      "        403       0.50      0.58      0.54     48590\n",
      "\n",
      "avg / total       0.58      0.57      0.53    216224\n",
      "\n"
     ]
    }
   ],
   "source": [
    "from sklearn import metrics\n",
    "print(metrics.classification_report(y_test, y_pred))"
   ]
  },
  {
   "cell_type": "code",
   "execution_count": 45,
   "metadata": {},
   "outputs": [
    {
     "name": "stdout",
     "output_type": "stream",
     "text": [
      "[(0.5712, 'TravelTimeMin'), (0.0864, 'EndTimeHr'), (0.0816, 'StartTimeHr'), (0.0746, 'Age_3'), (0.0628, 'Age_2'), (0.0289, 'Purpose_200'), (0.0241, 'Sex_2'), (0.0168, 'Sex_1'), (0.0139, 'Age_4'), (0.0092, 'Purpose_204'), (0.0082, 'Purpose_201'), (0.0075, 'Purpose_202'), (0.0074, 'Purpose_203'), (0.0015, 'Age_5'), (0.0008, 'Age_9'), (0.0008, 'Age_16'), (0.0007, 'Age_7'), (0.0007, 'Age_13'), (0.0007, 'Age_12'), (0.0006, 'Age_10'), (0.0004, 'Age_6'), (0.0004, 'Age_17'), (0.0003, 'Age_8'), (0.0003, 'Age_14'), (0.0002, 'Age_15'), (0.0001, 'Age_18'), (0.0001, 'Age_11')]\n"
     ]
    }
   ],
   "source": [
    "print (sorted(zip(map(lambda x: round(x, 4), r.feature_importances_), features.columns), \n",
    "             reverse=True))"
   ]
  },
  {
   "cell_type": "code",
   "execution_count": 43,
   "metadata": {},
   "outputs": [],
   "source": [
    "# estimator = r.estimators_[5]\n",
    "# from sklearn.tree import export_graphviz\n",
    "# # Export as dot file\n",
    "# export_graphviz(estimator, \n",
    "#                 out_file='tree.dot',\n",
    "#                 max_depth = 3,\n",
    "#                 feature_names = features.columns,\n",
    "# #                 class_names = iris.target_names,\n",
    "#                 rounded = True, proportion = False, \n",
    "#                 precision = 2, filled = True)\n",
    "\n",
    "# from subprocess import call\n",
    "# call(['dot', '-Tpng', 'tree.dot', '-o', 'tree.png', '-Gdpi=600'])\n",
    "\n",
    "# # Display in jupyter notebook\n",
    "# from IPython.display import Image\n",
    "# Image(filename = 'tree.png')"
   ]
  },
  {
   "cell_type": "code",
   "execution_count": 44,
   "metadata": {},
   "outputs": [],
   "source": [
    "###### XGBOOST CLASSIFIER"
   ]
  },
  {
   "cell_type": "code",
   "execution_count": 39,
   "metadata": {},
   "outputs": [],
   "source": [
    "from xgboost import XGBClassifier\n",
    "model = XGBClassifier(nthread=2, max_depth = 6)"
   ]
  },
  {
   "cell_type": "code",
   "execution_count": 40,
   "metadata": {},
   "outputs": [
    {
     "name": "stderr",
     "output_type": "stream",
     "text": [
      "/home/deepank/anaconda3/envs/tensorflow/lib/python3.6/site-packages/sklearn/preprocessing/label.py:95: DataConversionWarning: A column-vector y was passed when a 1d array was expected. Please change the shape of y to (n_samples, ), for example using ravel().\n",
      "  y = column_or_1d(y, warn=True)\n",
      "/home/deepank/anaconda3/envs/tensorflow/lib/python3.6/site-packages/sklearn/preprocessing/label.py:128: DataConversionWarning: A column-vector y was passed when a 1d array was expected. Please change the shape of y to (n_samples, ), for example using ravel().\n",
      "  y = column_or_1d(y, warn=True)\n"
     ]
    },
    {
     "name": "stdout",
     "output_type": "stream",
     "text": [
      "XGBClassifier(base_score=0.5, booster='gbtree', colsample_bylevel=1,\n",
      "       colsample_bynode=1, colsample_bytree=1, gamma=0, learning_rate=0.1,\n",
      "       max_delta_step=0, max_depth=6, min_child_weight=1, missing=None,\n",
      "       n_estimators=100, n_jobs=1, nthread=2, objective='multi:softprob',\n",
      "       random_state=0, reg_alpha=0, reg_lambda=1, scale_pos_weight=1,\n",
      "       seed=None, silent=None, subsample=1, verbosity=1)\n"
     ]
    }
   ],
   "source": [
    "# model = XGBClassifier(verbosity=2)\n",
    "model.fit(X_train_ordinal,y_train)\n",
    "print(model)"
   ]
  },
  {
   "cell_type": "code",
   "execution_count": 41,
   "metadata": {},
   "outputs": [
    {
     "name": "stderr",
     "output_type": "stream",
     "text": [
      "/home/deepank/anaconda3/envs/tensorflow/lib/python3.6/site-packages/sklearn/preprocessing/label.py:151: DeprecationWarning: The truth value of an empty array is ambiguous. Returning False, but in future this will result in an error. Use `array.size > 0` to check that an array is not empty.\n",
      "  if diff:\n"
     ]
    }
   ],
   "source": [
    "y_pred = model.predict(X_test_ordinal)"
   ]
  },
  {
   "cell_type": "code",
   "execution_count": 42,
   "metadata": {},
   "outputs": [
    {
     "name": "stdout",
     "output_type": "stream",
     "text": [
      "Accuracy: 60.71%\n"
     ]
    }
   ],
   "source": [
    "accuracy = accuracy_score(y_test,y_pred)\n",
    "print(\"Accuracy: %.2f%%\" % (accuracy * 100.0))"
   ]
  },
  {
   "cell_type": "code",
   "execution_count": 43,
   "metadata": {},
   "outputs": [
    {
     "name": "stdout",
     "output_type": "stream",
     "text": [
      "0.451489468614547\n"
     ]
    }
   ],
   "source": [
    "from sklearn.metrics import cohen_kappa_score\n",
    "print(cohen_kappa_score(y_test,y_pred))"
   ]
  },
  {
   "cell_type": "code",
   "execution_count": 44,
   "metadata": {},
   "outputs": [
    {
     "name": "stdout",
     "output_type": "stream",
     "text": [
      "             precision    recall  f1-score   support\n",
      "\n",
      "        400       0.75      0.84      0.79     72885\n",
      "        401       0.49      0.56      0.52     63074\n",
      "        402       0.43      0.23      0.30     31675\n",
      "        403       0.61      0.56      0.58     48590\n",
      "\n",
      "avg / total       0.59      0.61      0.59    216224\n",
      "\n"
     ]
    }
   ],
   "source": [
    "from sklearn import metrics\n",
    "print(metrics.classification_report(y_test, y_pred))"
   ]
  },
  {
   "cell_type": "code",
   "execution_count": 45,
   "metadata": {},
   "outputs": [
    {
     "data": {
      "text/plain": [
       "<matplotlib.axes._subplots.AxesSubplot at 0x7f75d179a470>"
      ]
     },
     "execution_count": 45,
     "metadata": {},
     "output_type": "execute_result"
    },
    {
     "data": {
      "image/png": "[encoded data removed]",
      "text/plain": [
       "<Figure size 504x504 with 1 Axes>"
      ]
     },
     "metadata": {},
     "output_type": "display_data"
    }
   ],
   "source": [
    "from sklearn.metrics import confusion_matrix\n",
    "import seaborn as sn\n",
    "import pandas as pd\n",
    "import matplotlib.pyplot as plt\n",
    "\n",
    "array = confusion_matrix(y_test, y_pred)\n",
    "sn.set(font_scale=1.5)\n",
    "df_cm = pd.DataFrame(array, index = [\"Public\", \"Private\", \"Bicycle\", \"Walk\"],\n",
    "                  columns = [\"Public\", \"Private\", \"Bicycle\", \"Walk\"])\n",
    "plt.figure(figsize = (7,7))\n",
    "sn.heatmap(df_cm, annot=True, fmt='g', cmap = \"Oranges\", cbar = False)"
   ]
  },
  {
   "cell_type": "code",
   "execution_count": 46,
   "metadata": {},
   "outputs": [
    {
     "data": {
      "image/png": "[encoded data removed]",
      "text/plain": [
       "<Figure size 720x720 with 1 Axes>"
      ]
     },
     "metadata": {},
     "output_type": "display_data"
    }
   ],
   "source": [
    "from pylab import rcParams\n",
    "from xgboost import plot_importance\n",
    "from matplotlib import pyplot\n",
    "rcParams['figure.figsize'] = 10, 10\n",
    "plot_importance(model)\n",
    "pyplot.show()"
   ]
  },
  {
   "cell_type": "code",
   "execution_count": 47,
   "metadata": {},
   "outputs": [
    {
     "name": "stdout",
     "output_type": "stream",
     "text": [
      "[(0.2825, 'TravelTimeMin'), (0.1531, 'Age_3'), (0.094, 'Age_2'), (0.0802, 'Age_4'), (0.0356, 'Sex_1'), (0.0332, 'Purpose_200'), (0.0269, 'Age_5'), (0.024, 'Purpose_203'), (0.0232, 'Age_12'), (0.0231, 'Purpose_201'), (0.0226, 'Age_11'), (0.0198, 'Age_17'), (0.0175, 'EndTimeHr'), (0.0167, 'Age_16'), (0.0166, 'Age_18'), (0.0154, 'Age_13'), (0.0152, 'Age_9'), (0.0145, 'Age_10'), (0.0143, 'Purpose_204'), (0.0136, 'Age_6'), (0.0123, 'StartTimeHr'), (0.0113, 'Age_14'), (0.0108, 'Age_8'), (0.0099, 'Age_15'), (0.0091, 'Purpose_202'), (0.0045, 'Age_7'), (0.0, 'Sex_2')]\n"
     ]
    }
   ],
   "source": [
    "print (sorted(zip(map(lambda x: round(x, 4), model.feature_importances_), features.columns), \n",
    "             reverse=True))"
   ]
  },
  {
   "cell_type": "code",
   "execution_count": 53,
   "metadata": {},
   "outputs": [
    {
     "data": {
      "text/plain": [
       "{'f2': 5119,\n",
       " 'f18': 374,\n",
       " 'f24': 702,\n",
       " 'f1': 5002,\n",
       " 'f0': 4636,\n",
       " 'f5': 754,\n",
       " 'f6': 600,\n",
       " 'f23': 867,\n",
       " 'f3': 1374,\n",
       " 'f26': 690,\n",
       " 'f22': 928,\n",
       " 'f25': 797,\n",
       " 'f7': 524,\n",
       " 'f8': 325,\n",
       " 'f13': 89,\n",
       " 'f19': 369,\n",
       " 'f16': 124,\n",
       " 'f17': 260,\n",
       " 'f21': 131,\n",
       " 'f12': 115,\n",
       " 'f20': 213,\n",
       " 'f9': 148,\n",
       " 'f11': 134,\n",
       " 'f10': 93,\n",
       " 'f15': 77,\n",
       " 'f14': 60}"
      ]
     },
     "execution_count": 53,
     "metadata": {},
     "output_type": "execute_result"
    }
   ],
   "source": [
    "#Available importance_types = [‘weight’, ‘gain’, ‘cover’, ‘total_gain’, ‘total_cover’]\n",
    "f = \"weight\"\n",
    "model.get_booster().get_score(importance_type= f)"
   ]
  },
  {
   "cell_type": "code",
   "execution_count": 54,
   "metadata": {},
   "outputs": [],
   "source": [
    "# from sklearn.tree import export_graphviz\n",
    "# !conda install -c anaconda graphviz \n",
    "# import graphviz\n",
    "# from xgboost import plot_tree\n",
    "# plot_tree(model)"
   ]
  },
  {
   "cell_type": "code",
   "execution_count": 55,
   "metadata": {},
   "outputs": [],
   "source": [
    "# # !pip install pydotplus\n",
    "# from sklearn.externals.six import StringIO  \n",
    "# from IPython.display import Image  \n",
    "# from sklearn.tree import export_graphviz\n",
    "# import pydotplus\n",
    "# dot_data = StringIO()\n",
    "# export_graphviz(model, out_file=dot_data,  \n",
    "#                 filled=True, rounded=True,\n",
    "#                 special_characters=True, feature_names=features.columns, class_names=['low','avg','high'])\n",
    "# graph = pydotplus.graph_from_dot_data(dot_data.getvalue())  \n",
    "# Image(graph.create_png())"
   ]
  },
  {
   "cell_type": "code",
   "execution_count": 56,
   "metadata": {},
   "outputs": [],
   "source": [
    "### ANN Model"
   ]
  },
  {
   "cell_type": "code",
   "execution_count": 57,
   "metadata": {},
   "outputs": [
    {
     "name": "stderr",
     "output_type": "stream",
     "text": [
      "/home/deepank/anaconda3/envs/tensorflow/lib/python3.6/site-packages/h5py/__init__.py:36: FutureWarning: Conversion of the second argument of issubdtype from `float` to `np.floating` is deprecated. In future, it will be treated as `np.float64 == np.dtype(float).type`.\n",
      "  from ._conv import register_converters as _register_converters\n",
      "Using TensorFlow backend.\n"
     ]
    },
    {
     "data": {
      "text/plain": [
       "'2.2.0'"
      ]
     },
     "execution_count": 57,
     "metadata": {},
     "output_type": "execute_result"
    }
   ],
   "source": [
    "import os\n",
    "os.environ[\"CUDA_VISIBLE_DEVICES\"] = \"\"\n",
    "import keras\n",
    "keras.__version__"
   ]
  },
  {
   "cell_type": "code",
   "execution_count": 40,
   "metadata": {},
   "outputs": [
    {
     "name": "stderr",
     "output_type": "stream",
     "text": [
      "/home/deepank/anaconda3/envs/tensorflow/lib/python3.6/site-packages/sklearn/preprocessing/_encoders.py:414: FutureWarning: The handling of integer data will change in version 0.22. Currently, the categories are determined based on the range [0, max(values)], while in the future they will be determined based on the unique values.\n",
      "If you want the future behaviour and silence this warning, you can specify \"categories='auto'\".\n",
      "In case you used a LabelEncoder before this OneHotEncoder to convert the categories to integers, then you can now use the OneHotEncoder directly.\n",
      "  warnings.warn(msg, FutureWarning)\n",
      "/home/deepank/anaconda3/envs/tensorflow/lib/python3.6/site-packages/sklearn/preprocessing/_encoders.py:414: FutureWarning: The handling of integer data will change in version 0.22. Currently, the categories are determined based on the range [0, max(values)], while in the future they will be determined based on the unique values.\n",
      "If you want the future behaviour and silence this warning, you can specify \"categories='auto'\".\n",
      "In case you used a LabelEncoder before this OneHotEncoder to convert the categories to integers, then you can now use the OneHotEncoder directly.\n",
      "  warnings.warn(msg, FutureWarning)\n"
     ]
    }
   ],
   "source": [
    "from sklearn.preprocessing import OneHotEncoder\n",
    "ohe = OneHotEncoder()\n",
    "y_train = ohe.fit_transform(y_train).toarray()\n",
    "y_test = ohe.fit_transform(y_test).toarray()\n"
   ]
  },
  {
   "cell_type": "code",
   "execution_count": 59,
   "metadata": {},
   "outputs": [],
   "source": [
    "import keras\n",
    "from keras.models import Sequential\n",
    "from keras.layers import Dense,Dropout\n",
    "# Neural network\n",
    "model = Sequential()\n",
    "model.add(Dense(54, input_dim=27, activation= \"relu\"))\n",
    "# model.add(Dropout(0.5))\n",
    "model.add(Dense(27, activation=\"relu\"))\n",
    "# model.add(Dropout(0.5))\n",
    "model.add(Dense(12, activation=\"relu\"))\n",
    "# model.add(Dropout(0.5))\n",
    "model.add(Dense(4, activation=\"softmax\"))"
   ]
  },
  {
   "cell_type": "code",
   "execution_count": 60,
   "metadata": {},
   "outputs": [
    {
     "name": "stdout",
     "output_type": "stream",
     "text": [
      "_________________________________________________________________\n",
      "Layer (type)                 Output Shape              Param #   \n",
      "=================================================================\n",
      "dense_1 (Dense)              (None, 54)                1512      \n",
      "_________________________________________________________________\n",
      "dense_2 (Dense)              (None, 27)                1485      \n",
      "_________________________________________________________________\n",
      "dense_3 (Dense)              (None, 12)                336       \n",
      "_________________________________________________________________\n",
      "dense_4 (Dense)              (None, 4)                 52        \n",
      "=================================================================\n",
      "Total params: 3,385\n",
      "Trainable params: 3,385\n",
      "Non-trainable params: 0\n",
      "_________________________________________________________________\n"
     ]
    }
   ],
   "source": [
    "model.summary()"
   ]
  },
  {
   "cell_type": "code",
   "execution_count": 61,
   "metadata": {},
   "outputs": [],
   "source": [
    "model.compile(loss='categorical_crossentropy', optimizer='adam', metrics=['accuracy'])"
   ]
  },
  {
   "cell_type": "code",
   "execution_count": 62,
   "metadata": {},
   "outputs": [
    {
     "name": "stdout",
     "output_type": "stream",
     "text": [
      "(1225269, 27)\n",
      "(1225269, 4)\n"
     ]
    }
   ],
   "source": [
    "print(X_train_ordinal.shape)\n",
    "print(y_train.shape)"
   ]
  },
  {
   "cell_type": "code",
   "execution_count": 71,
   "metadata": {
    "scrolled": true
   },
   "outputs": [
    {
     "name": "stdout",
     "output_type": "stream",
     "text": [
      "Train on 1225269 samples, validate on 216224 samples\n",
      "Epoch 1/100\n",
      "1225269/1225269 [==============================] - 23s 19us/step - loss: 0.8940 - acc: 0.6030 - val_loss: 0.8923 - val_acc: 0.6031\n",
      "Epoch 2/100\n",
      "1225269/1225269 [==============================] - 23s 19us/step - loss: 0.8939 - acc: 0.6029 - val_loss: 0.8966 - val_acc: 0.6000\n",
      "Epoch 3/100\n",
      "1225269/1225269 [==============================] - 23s 19us/step - loss: 0.8939 - acc: 0.6031 - val_loss: 0.8931 - val_acc: 0.6043\n",
      "Epoch 4/100\n",
      "1225269/1225269 [==============================] - 23s 18us/step - loss: 0.8939 - acc: 0.6030 - val_loss: 0.8951 - val_acc: 0.6027\n",
      "Epoch 5/100\n",
      "1225269/1225269 [==============================] - 23s 19us/step - loss: 0.8940 - acc: 0.6030 - val_loss: 0.8950 - val_acc: 0.6028\n",
      "Epoch 6/100\n",
      "1225269/1225269 [==============================] - 23s 19us/step - loss: 0.8939 - acc: 0.6029 - val_loss: 0.8940 - val_acc: 0.6026\n",
      "Epoch 7/100\n",
      "1225269/1225269 [==============================] - 23s 18us/step - loss: 0.8938 - acc: 0.6032 - val_loss: 0.8929 - val_acc: 0.6042\n",
      "Epoch 8/100\n",
      "1225269/1225269 [==============================] - 23s 19us/step - loss: 0.8938 - acc: 0.6030 - val_loss: 0.8945 - val_acc: 0.6018\n",
      "Epoch 9/100\n",
      "1225269/1225269 [==============================] - 23s 19us/step - loss: 0.8938 - acc: 0.6032 - val_loss: 0.8934 - val_acc: 0.6035\n",
      "Epoch 10/100\n",
      "1225269/1225269 [==============================] - 24s 19us/step - loss: 0.8937 - acc: 0.6030 - val_loss: 0.8922 - val_acc: 0.6032\n",
      "Epoch 11/100\n",
      "1225269/1225269 [==============================] - 23s 19us/step - loss: 0.8938 - acc: 0.6032 - val_loss: 0.8927 - val_acc: 0.6036\n",
      "Epoch 12/100\n",
      "1225269/1225269 [==============================] - 23s 19us/step - loss: 0.8937 - acc: 0.6032 - val_loss: 0.8952 - val_acc: 0.6038\n",
      "Epoch 13/100\n",
      "1225269/1225269 [==============================] - 24s 19us/step - loss: 0.8936 - acc: 0.6033 - val_loss: 0.8962 - val_acc: 0.6017\n",
      "Epoch 14/100\n",
      "1225269/1225269 [==============================] - 24s 19us/step - loss: 0.8936 - acc: 0.6033 - val_loss: 0.8941 - val_acc: 0.6021\n",
      "Epoch 15/100\n",
      "1225269/1225269 [==============================] - 23s 19us/step - loss: 0.8935 - acc: 0.6032 - val_loss: 0.8929 - val_acc: 0.6036\n",
      "Epoch 16/100\n",
      "1225269/1225269 [==============================] - 24s 19us/step - loss: 0.8936 - acc: 0.6031 - val_loss: 0.8932 - val_acc: 0.6022\n",
      "Epoch 17/100\n",
      "1225269/1225269 [==============================] - 23s 19us/step - loss: 0.8936 - acc: 0.6031 - val_loss: 0.8954 - val_acc: 0.6030\n",
      "Epoch 18/100\n",
      "1225269/1225269 [==============================] - 24s 19us/step - loss: 0.8935 - acc: 0.6035 - val_loss: 0.8934 - val_acc: 0.6032\n",
      "Epoch 19/100\n",
      "1225269/1225269 [==============================] - 24s 19us/step - loss: 0.8935 - acc: 0.6033 - val_loss: 0.8919 - val_acc: 0.6038\n",
      "Epoch 20/100\n",
      "1225269/1225269 [==============================] - 24s 19us/step - loss: 0.8935 - acc: 0.6035 - val_loss: 0.8960 - val_acc: 0.6018\n",
      "Epoch 21/100\n",
      "1225269/1225269 [==============================] - 24s 20us/step - loss: 0.8935 - acc: 0.6034 - val_loss: 0.8950 - val_acc: 0.6022\n",
      "Epoch 22/100\n",
      "1225269/1225269 [==============================] - 24s 19us/step - loss: 0.8934 - acc: 0.6035 - val_loss: 0.8925 - val_acc: 0.6036\n",
      "Epoch 23/100\n",
      "1225269/1225269 [==============================] - 24s 20us/step - loss: 0.8934 - acc: 0.6033 - val_loss: 0.8950 - val_acc: 0.6023\n",
      "Epoch 24/100\n",
      "1225269/1225269 [==============================] - 24s 19us/step - loss: 0.8933 - acc: 0.6033 - val_loss: 0.8934 - val_acc: 0.6035\n",
      "Epoch 25/100\n",
      "1225269/1225269 [==============================] - 23s 19us/step - loss: 0.8933 - acc: 0.6035 - val_loss: 0.8975 - val_acc: 0.6014\n",
      "Epoch 26/100\n",
      "1225269/1225269 [==============================] - 23s 19us/step - loss: 0.8934 - acc: 0.6038 - val_loss: 0.8944 - val_acc: 0.6026\n",
      "Epoch 27/100\n",
      "1225269/1225269 [==============================] - 24s 19us/step - loss: 0.8933 - acc: 0.6035 - val_loss: 0.8963 - val_acc: 0.6021\n",
      "Epoch 28/100\n",
      "1225269/1225269 [==============================] - 23s 19us/step - loss: 0.8933 - acc: 0.6035 - val_loss: 0.8939 - val_acc: 0.6027\n",
      "Epoch 29/100\n",
      "1225269/1225269 [==============================] - 23s 19us/step - loss: 0.8934 - acc: 0.6034 - val_loss: 0.8915 - val_acc: 0.6044\n",
      "Epoch 30/100\n",
      "1225269/1225269 [==============================] - 24s 19us/step - loss: 0.8932 - acc: 0.6035 - val_loss: 0.8941 - val_acc: 0.6032\n",
      "Epoch 31/100\n",
      "1225269/1225269 [==============================] - 24s 19us/step - loss: 0.8932 - acc: 0.6036 - val_loss: 0.8925 - val_acc: 0.6035\n",
      "Epoch 32/100\n",
      "1225269/1225269 [==============================] - 23s 19us/step - loss: 0.8932 - acc: 0.6034 - val_loss: 0.8943 - val_acc: 0.6034\n",
      "Epoch 33/100\n",
      "1225269/1225269 [==============================] - 23s 19us/step - loss: 0.8933 - acc: 0.6033 - val_loss: 0.8931 - val_acc: 0.6032\n",
      "Epoch 34/100\n",
      "1225269/1225269 [==============================] - 23s 19us/step - loss: 0.8932 - acc: 0.6034 - val_loss: 0.8912 - val_acc: 0.6045\n",
      "Epoch 35/100\n",
      "1225269/1225269 [==============================] - 24s 19us/step - loss: 0.8931 - acc: 0.6034 - val_loss: 0.8928 - val_acc: 0.6040\n",
      "Epoch 36/100\n",
      "1225269/1225269 [==============================] - 23s 19us/step - loss: 0.8931 - acc: 0.6035 - val_loss: 0.8933 - val_acc: 0.6033\n",
      "Epoch 37/100\n",
      "1225269/1225269 [==============================] - 23s 19us/step - loss: 0.8930 - acc: 0.6036 - val_loss: 0.8947 - val_acc: 0.6029\n",
      "Epoch 38/100\n",
      "1225269/1225269 [==============================] - 23s 19us/step - loss: 0.8931 - acc: 0.6035 - val_loss: 0.8962 - val_acc: 0.6014\n",
      "Epoch 39/100\n",
      "1225269/1225269 [==============================] - 23s 19us/step - loss: 0.8931 - acc: 0.6036 - val_loss: 0.8918 - val_acc: 0.6030\n",
      "Epoch 40/100\n",
      "1225269/1225269 [==============================] - 23s 19us/step - loss: 0.8930 - acc: 0.6034 - val_loss: 0.8934 - val_acc: 0.6026\n",
      "Epoch 41/100\n",
      "1225269/1225269 [==============================] - 24s 19us/step - loss: 0.8931 - acc: 0.6036 - val_loss: 0.8939 - val_acc: 0.6033\n",
      "Epoch 42/100\n",
      "1225269/1225269 [==============================] - 24s 19us/step - loss: 0.8930 - acc: 0.6039 - val_loss: 0.8918 - val_acc: 0.6033\n",
      "Epoch 43/100\n",
      "1225269/1225269 [==============================] - 23s 19us/step - loss: 0.8930 - acc: 0.6033 - val_loss: 0.8928 - val_acc: 0.6038\n",
      "Epoch 44/100\n",
      "1225269/1225269 [==============================] - 23s 18us/step - loss: 0.8931 - acc: 0.6037 - val_loss: 0.8920 - val_acc: 0.6034\n",
      "Epoch 45/100\n",
      "1225269/1225269 [==============================] - 23s 18us/step - loss: 0.8930 - acc: 0.6036 - val_loss: 0.8929 - val_acc: 0.6033\n",
      "Epoch 46/100\n",
      "1225269/1225269 [==============================] - 23s 18us/step - loss: 0.8931 - acc: 0.6035 - val_loss: 0.8936 - val_acc: 0.6031\n",
      "Epoch 47/100\n",
      "1225269/1225269 [==============================] - 23s 19us/step - loss: 0.8930 - acc: 0.6037 - val_loss: 0.8934 - val_acc: 0.6034\n",
      "Epoch 48/100\n",
      "1225269/1225269 [==============================] - 23s 18us/step - loss: 0.8931 - acc: 0.6036 - val_loss: 0.8918 - val_acc: 0.6038\n",
      "Epoch 49/100\n",
      "1225269/1225269 [==============================] - 23s 19us/step - loss: 0.8930 - acc: 0.6038 - val_loss: 0.8928 - val_acc: 0.6044\n",
      "Epoch 50/100\n",
      "1225269/1225269 [==============================] - 22s 18us/step - loss: 0.8930 - acc: 0.6036 - val_loss: 0.8927 - val_acc: 0.6038\n",
      "Epoch 51/100\n",
      "1225269/1225269 [==============================] - 23s 18us/step - loss: 0.8928 - acc: 0.6036 - val_loss: 0.8927 - val_acc: 0.6040\n",
      "Epoch 52/100\n",
      "1225269/1225269 [==============================] - 23s 19us/step - loss: 0.8929 - acc: 0.6040 - val_loss: 0.8933 - val_acc: 0.6039\n",
      "Epoch 53/100\n",
      "1225269/1225269 [==============================] - 23s 19us/step - loss: 0.8930 - acc: 0.6037 - val_loss: 0.8926 - val_acc: 0.6043\n",
      "Epoch 54/100\n",
      "1225269/1225269 [==============================] - 23s 19us/step - loss: 0.8930 - acc: 0.6038 - val_loss: 0.8924 - val_acc: 0.6037\n",
      "Epoch 55/100\n",
      "1225269/1225269 [==============================] - 23s 19us/step - loss: 0.8929 - acc: 0.6038 - val_loss: 0.8917 - val_acc: 0.6028\n",
      "Epoch 56/100\n",
      "1225269/1225269 [==============================] - 23s 19us/step - loss: 0.8928 - acc: 0.6037 - val_loss: 0.8925 - val_acc: 0.6038\n",
      "Epoch 57/100\n",
      "1225269/1225269 [==============================] - 23s 19us/step - loss: 0.8929 - acc: 0.6040 - val_loss: 0.8925 - val_acc: 0.6044\n",
      "Epoch 58/100\n",
      "1225269/1225269 [==============================] - 23s 19us/step - loss: 0.8928 - acc: 0.6039 - val_loss: 0.8932 - val_acc: 0.6044\n",
      "Epoch 59/100\n",
      "1225269/1225269 [==============================] - 23s 19us/step - loss: 0.8928 - acc: 0.6039 - val_loss: 0.8936 - val_acc: 0.6034\n",
      "Epoch 60/100\n",
      "1225269/1225269 [==============================] - 24s 19us/step - loss: 0.8928 - acc: 0.6038 - val_loss: 0.8929 - val_acc: 0.6034\n",
      "Epoch 61/100\n",
      "1225269/1225269 [==============================] - 23s 19us/step - loss: 0.8928 - acc: 0.6038 - val_loss: 0.8922 - val_acc: 0.6050\n",
      "Epoch 62/100\n",
      "1225269/1225269 [==============================] - 24s 19us/step - loss: 0.8928 - acc: 0.6038 - val_loss: 0.8942 - val_acc: 0.6028\n",
      "Epoch 63/100\n",
      "1225269/1225269 [==============================] - 24s 20us/step - loss: 0.8927 - acc: 0.6037 - val_loss: 0.8920 - val_acc: 0.6041\n",
      "Epoch 64/100\n",
      "1225269/1225269 [==============================] - 24s 19us/step - loss: 0.8927 - acc: 0.6037 - val_loss: 0.8942 - val_acc: 0.6037\n",
      "Epoch 65/100\n",
      "1225269/1225269 [==============================] - 23s 19us/step - loss: 0.8928 - acc: 0.6039 - val_loss: 0.8926 - val_acc: 0.6033\n",
      "Epoch 66/100\n",
      "1225269/1225269 [==============================] - 23s 19us/step - loss: 0.8928 - acc: 0.6041 - val_loss: 0.8943 - val_acc: 0.6031\n",
      "Epoch 67/100\n",
      "1225269/1225269 [==============================] - 23s 19us/step - loss: 0.8928 - acc: 0.6037 - val_loss: 0.8916 - val_acc: 0.6042\n",
      "Epoch 68/100\n",
      "1225269/1225269 [==============================] - 23s 19us/step - loss: 0.8927 - acc: 0.6037 - val_loss: 0.8916 - val_acc: 0.6045\n",
      "Epoch 69/100\n",
      "1225269/1225269 [==============================] - 23s 19us/step - loss: 0.8926 - acc: 0.6040 - val_loss: 0.8933 - val_acc: 0.6041\n",
      "Epoch 70/100\n",
      "1225269/1225269 [==============================] - 23s 19us/step - loss: 0.8927 - acc: 0.6041 - val_loss: 0.8938 - val_acc: 0.6037\n",
      "Epoch 71/100\n",
      "1225269/1225269 [==============================] - 23s 19us/step - loss: 0.8926 - acc: 0.6037 - val_loss: 0.8922 - val_acc: 0.6036\n",
      "Epoch 72/100\n",
      "1225269/1225269 [==============================] - 23s 19us/step - loss: 0.8925 - acc: 0.6039 - val_loss: 0.8927 - val_acc: 0.6037\n",
      "Epoch 73/100\n",
      "1225269/1225269 [==============================] - 23s 19us/step - loss: 0.8925 - acc: 0.6040 - val_loss: 0.8937 - val_acc: 0.6044\n",
      "Epoch 74/100\n",
      "1225269/1225269 [==============================] - 23s 19us/step - loss: 0.8925 - acc: 0.6038 - val_loss: 0.8916 - val_acc: 0.6050\n",
      "Epoch 75/100\n",
      "1225269/1225269 [==============================] - 23s 19us/step - loss: 0.8925 - acc: 0.6040 - val_loss: 0.8916 - val_acc: 0.6041\n",
      "Epoch 76/100\n",
      "1225269/1225269 [==============================] - 23s 19us/step - loss: 0.8925 - acc: 0.6039 - val_loss: 0.8923 - val_acc: 0.6044\n",
      "Epoch 77/100\n",
      "1225269/1225269 [==============================] - 23s 19us/step - loss: 0.8924 - acc: 0.6041 - val_loss: 0.8913 - val_acc: 0.6041\n",
      "Epoch 78/100\n",
      "1225269/1225269 [==============================] - 24s 19us/step - loss: 0.8925 - acc: 0.6041 - val_loss: 0.8921 - val_acc: 0.6036\n",
      "Epoch 79/100\n",
      "1225269/1225269 [==============================] - 23s 19us/step - loss: 0.8924 - acc: 0.6038 - val_loss: 0.8911 - val_acc: 0.6040\n",
      "Epoch 80/100\n",
      "1225269/1225269 [==============================] - 23s 19us/step - loss: 0.8925 - acc: 0.6038 - val_loss: 0.8921 - val_acc: 0.6047\n",
      "Epoch 81/100\n",
      "1225269/1225269 [==============================] - 24s 19us/step - loss: 0.8924 - acc: 0.6038 - val_loss: 0.8927 - val_acc: 0.6037\n",
      "Epoch 82/100\n",
      "1225269/1225269 [==============================] - 23s 19us/step - loss: 0.8924 - acc: 0.6040 - val_loss: 0.8926 - val_acc: 0.6037\n",
      "Epoch 83/100\n",
      "1225269/1225269 [==============================] - 24s 19us/step - loss: 0.8924 - acc: 0.6039 - val_loss: 0.8916 - val_acc: 0.6044\n",
      "Epoch 84/100\n",
      "1225269/1225269 [==============================] - 24s 19us/step - loss: 0.8925 - acc: 0.6042 - val_loss: 0.8930 - val_acc: 0.6049\n",
      "Epoch 85/100\n",
      "1225269/1225269 [==============================] - 23s 19us/step - loss: 0.8923 - acc: 0.6041 - val_loss: 0.8921 - val_acc: 0.6040\n",
      "Epoch 86/100\n",
      "1225269/1225269 [==============================] - 24s 19us/step - loss: 0.8923 - acc: 0.6040 - val_loss: 0.8919 - val_acc: 0.6036\n",
      "Epoch 87/100\n",
      "1225269/1225269 [==============================] - 24s 19us/step - loss: 0.8923 - acc: 0.6042 - val_loss: 0.8931 - val_acc: 0.6041\n",
      "Epoch 88/100\n",
      "1225269/1225269 [==============================] - 24s 19us/step - loss: 0.8922 - acc: 0.6038 - val_loss: 0.8915 - val_acc: 0.6043\n",
      "Epoch 89/100\n",
      "1225269/1225269 [==============================] - 24s 19us/step - loss: 0.8923 - acc: 0.6041 - val_loss: 0.8938 - val_acc: 0.6024\n",
      "Epoch 90/100\n",
      "1225269/1225269 [==============================] - 24s 20us/step - loss: 0.8923 - acc: 0.6040 - val_loss: 0.8919 - val_acc: 0.6042\n",
      "Epoch 91/100\n",
      "1225269/1225269 [==============================] - 24s 19us/step - loss: 0.8924 - acc: 0.6042 - val_loss: 0.8925 - val_acc: 0.6036\n",
      "Epoch 92/100\n",
      "1225269/1225269 [==============================] - 23s 19us/step - loss: 0.8922 - acc: 0.6040 - val_loss: 0.8924 - val_acc: 0.6032\n",
      "Epoch 93/100\n",
      "1225269/1225269 [==============================] - 23s 19us/step - loss: 0.8923 - acc: 0.6040 - val_loss: 0.8925 - val_acc: 0.6031\n",
      "Epoch 94/100\n",
      "1225269/1225269 [==============================] - 23s 19us/step - loss: 0.8921 - acc: 0.6040 - val_loss: 0.8932 - val_acc: 0.6039\n",
      "Epoch 95/100\n",
      "1225269/1225269 [==============================] - 23s 19us/step - loss: 0.8922 - acc: 0.6040 - val_loss: 0.8919 - val_acc: 0.6053\n",
      "Epoch 96/100\n",
      "1225269/1225269 [==============================] - 23s 19us/step - loss: 0.8923 - acc: 0.6039 - val_loss: 0.8927 - val_acc: 0.6040\n",
      "Epoch 97/100\n",
      "1225269/1225269 [==============================] - 24s 19us/step - loss: 0.8922 - acc: 0.6041 - val_loss: 0.8929 - val_acc: 0.6048\n",
      "Epoch 98/100\n",
      "1225269/1225269 [==============================] - 23s 19us/step - loss: 0.8923 - acc: 0.6042 - val_loss: 0.8922 - val_acc: 0.6047\n",
      "Epoch 99/100\n",
      "1225269/1225269 [==============================] - 24s 19us/step - loss: 0.8923 - acc: 0.6041 - val_loss: 0.8927 - val_acc: 0.6033\n",
      "Epoch 100/100\n",
      "1225269/1225269 [==============================] - 24s 19us/step - loss: 0.8922 - acc: 0.6040 - val_loss: 0.8914 - val_acc: 0.6044\n"
     ]
    }
   ],
   "source": [
    "history = model.fit(X_train_ordinal, y_train, validation_data = (X_test_ordinal,y_test), epochs=100,batch_size=64)"
   ]
  },
  {
   "cell_type": "code",
   "execution_count": 72,
   "metadata": {},
   "outputs": [],
   "source": [
    "y_pred = model.predict(X_test_ordinal)"
   ]
  },
  {
   "cell_type": "code",
   "execution_count": 73,
   "metadata": {},
   "outputs": [
    {
     "name": "stdout",
     "output_type": "stream",
     "text": [
      "[0 0 0 ... 0 3 2]\n"
     ]
    }
   ],
   "source": [
    "print(np.argmax(y_pred,axis = 1))\n"
   ]
  },
  {
   "cell_type": "code",
   "execution_count": 74,
   "metadata": {},
   "outputs": [
    {
     "name": "stdout",
     "output_type": "stream",
     "text": [
      "Accuracy: 60.44%\n"
     ]
    }
   ],
   "source": [
    "accuracy = accuracy_score(np.argmax(y_test,axis = 1), np.argmax(y_pred,axis = 1))\n",
    "print(\"Accuracy: %.2f%%\" % (accuracy * 100.0))"
   ]
  },
  {
   "cell_type": "code",
   "execution_count": 75,
   "metadata": {},
   "outputs": [
    {
     "name": "stdout",
     "output_type": "stream",
     "text": [
      "0.4509441491099303\n"
     ]
    }
   ],
   "source": [
    "from sklearn.metrics import cohen_kappa_score\n",
    "print(cohen_kappa_score(np.argmax(y_test,axis = 1), np.argmax(y_pred,axis = 1)))"
   ]
  },
  {
   "cell_type": "code",
   "execution_count": 76,
   "metadata": {},
   "outputs": [
    {
     "name": "stdout",
     "output_type": "stream",
     "text": [
      "             precision    recall  f1-score   support\n",
      "\n",
      "          0       0.74      0.84      0.79     72885\n",
      "          1       0.51      0.51      0.51     63074\n",
      "          2       0.41      0.29      0.34     31675\n",
      "          3       0.59      0.58      0.59     48590\n",
      "\n",
      "avg / total       0.59      0.60      0.59    216224\n",
      "\n"
     ]
    }
   ],
   "source": [
    "from sklearn import metrics\n",
    "print(metrics.classification_report(np.argmax(y_test,axis = 1), np.argmax(y_pred,axis = 1)))"
   ]
  },
  {
   "cell_type": "code",
   "execution_count": 77,
   "metadata": {},
   "outputs": [
    {
     "data": {
      "text/plain": [
       "<matplotlib.axes._subplots.AxesSubplot at 0x7f47285492e8>"
      ]
     },
     "execution_count": 77,
     "metadata": {},
     "output_type": "execute_result"
    },
    {
     "data": {
      "image/png": "[encoded data removed]",
      "text/plain": [
       "<Figure size 504x504 with 1 Axes>"
      ]
     },
     "metadata": {},
     "output_type": "display_data"
    }
   ],
   "source": [
    "from sklearn.metrics import confusion_matrix\n",
    "import seaborn as sn\n",
    "import pandas as pd\n",
    "import matplotlib.pyplot as plt\n",
    "\n",
    "array = confusion_matrix(np.argmax(y_test,axis = 1), np.argmax(y_pred,axis = 1))\n",
    "sn.set(font_scale=1.5)\n",
    "df_cm = pd.DataFrame(array, index = [\"Public\", \"Private\", \"Bicycle\", \"Walk\"],\n",
    "                  columns = [\"Public\", \"Private\", \"Bicycle\", \"Walk\"])\n",
    "plt.figure(figsize = (7,7))\n",
    "sn.heatmap(df_cm, annot=True, fmt='g', cmap = \"Oranges\", cbar = False)"
   ]
  },
  {
   "cell_type": "code",
   "execution_count": 78,
   "metadata": {},
   "outputs": [
    {
     "data": {
      "image/png": "[encoded data removed]",
      "text/plain": [
       "<Figure size 720x720 with 1 Axes>"
      ]
     },
     "metadata": {},
     "output_type": "display_data"
    },
    {
     "data": {
      "image/png": "[encoded data removed]",
      "text/plain": [
       "<Figure size 720x720 with 1 Axes>"
      ]
     },
     "metadata": {},
     "output_type": "display_data"
    }
   ],
   "source": [
    "import matplotlib.pyplot as plt\n",
    "\n",
    "# Plot training & validation accuracy values\n",
    "plt.plot(history.history['acc'])\n",
    "plt.plot(history.history['val_acc'])\n",
    "plt.title('Model accuracy')\n",
    "plt.ylabel('Accuracy')\n",
    "plt.xlabel('Epoch')\n",
    "plt.legend(['Train', 'Test'], loc='upper left')\n",
    "plt.show()\n",
    "\n",
    "# Plot training & validation loss values\n",
    "plt.plot(history.history['loss'])\n",
    "plt.plot(history.history['val_loss'])\n",
    "plt.title('Model loss')\n",
    "plt.ylabel('Loss')\n",
    "plt.xlabel('Epoch')\n",
    "plt.legend(['Train', 'Test'], loc='upper left')\n",
    "plt.show()"
   ]
  },
  {
   "cell_type": "code",
   "execution_count": 79,
   "metadata": {},
   "outputs": [],
   "source": [
    "from keras.models import load_model\n",
    "\n",
    "model.save('ANN_model_100epochs.h5')"
   ]
  },
  {
   "cell_type": "code",
   "execution_count": 41,
   "metadata": {},
   "outputs": [],
   "source": [
    "#### MNL #######\n",
    "\n",
    "import numpy as np\n",
    "import pandas as pd\n",
    "import statsmodels.api as sm\n",
    "import matplotlib.pyplot as plt\n",
    "\n",
    "\n",
    "X = X_train\n",
    "\n",
    "y = np.argmax(y_train, axis = 1)\n"
   ]
  },
  {
   "cell_type": "code",
   "execution_count": 42,
   "metadata": {},
   "outputs": [
    {
     "data": {
      "text/plain": [
       "Index(['StartTimeHr', 'EndTimeHr', 'TravelTimeMin', 'Sex_1', 'Sex_2', 'Age_2',\n",
       "       'Age_3', 'Age_4', 'Age_5', 'Age_6', 'Age_7', 'Age_8', 'Age_9', 'Age_10',\n",
       "       'Age_11', 'Age_12', 'Age_13', 'Age_14', 'Age_15', 'Age_16', 'Age_17',\n",
       "       'Age_18', 'Purpose_200', 'Purpose_201', 'Purpose_202', 'Purpose_203',\n",
       "       'Purpose_204'],\n",
       "      dtype='object')"
      ]
     },
     "execution_count": 42,
     "metadata": {},
     "output_type": "execute_result"
    }
   ],
   "source": [
    "X.columns"
   ]
  },
  {
   "cell_type": "code",
   "execution_count": 43,
   "metadata": {},
   "outputs": [
    {
     "data": {
      "text/plain": [
       "array([0, 0, 0, ..., 2, 3, 3])"
      ]
     },
     "execution_count": 43,
     "metadata": {},
     "output_type": "execute_result"
    }
   ],
   "source": [
    "y"
   ]
  },
  {
   "cell_type": "code",
   "execution_count": 44,
   "metadata": {},
   "outputs": [
    {
     "name": "stderr",
     "output_type": "stream",
     "text": [
      "/home/deepank/anaconda3/envs/tensorflow/lib/python3.6/site-packages/numpy/core/fromnumeric.py:2389: FutureWarning: Method .ptp is deprecated and will be removed in a future version. Use numpy.ptp instead.\n",
      "  return ptp(axis=axis, out=out, **kwargs)\n"
     ]
    },
    {
     "name": "stdout",
     "output_type": "stream",
     "text": [
      "Warning: Maximum number of iterations has been exceeded.\n",
      "         Current function value: 1.016693\n",
      "         Iterations: 35\n"
     ]
    },
    {
     "name": "stderr",
     "output_type": "stream",
     "text": [
      "/home/deepank/anaconda3/envs/tensorflow/lib/python3.6/site-packages/statsmodels/base/model.py:508: ConvergenceWarning: Maximum Likelihood optimization failed to converge. Check mle_retvals\n",
      "  \"Check mle_retvals\", ConvergenceWarning)\n"
     ]
    },
    {
     "name": "stdout",
     "output_type": "stream",
     "text": [
      "                          MNLogit Regression Results                          \n",
      "==============================================================================\n",
      "Dep. Variable:                      y   No. Observations:              1225269\n",
      "Model:                        MNLogit   Df Residuals:                  1225197\n",
      "Method:                           MLE   Df Model:                           69\n",
      "Date:                Sat, 21 Sep 2019   Pseudo R-squ.:                  0.2431\n",
      "Time:                        20:19:17   Log-Likelihood:            -1.2457e+06\n",
      "converged:                      False   LL-Null:                   -1.6458e+06\n",
      "                                        LLR p-value:                     0.000\n",
      "=================================================================================\n",
      "          y=1       coef    std err          z      P>|z|      [0.025      0.975]\n",
      "---------------------------------------------------------------------------------\n",
      "const          1824.3881   4.01e+04      0.045      0.964   -7.68e+04    8.04e+04\n",
      "StartTimeHr      -0.0977        nan        nan        nan         nan         nan\n",
      "EndTimeHr         0.0588        nan        nan        nan         nan         nan\n",
      "TravelTimeMin    -0.0413        nan        nan        nan         nan         nan\n",
      "Sex_1         -1013.5523   1.09e+05     -0.009      0.993   -2.16e+05    2.14e+05\n",
      "Sex_2         -1014.1135   1.09e+05     -0.009      0.993   -2.15e+05    2.13e+05\n",
      "Age_2          -655.7695    4.6e+04     -0.014      0.989   -9.08e+04    8.95e+04\n",
      "Age_3          -657.7523   4.23e+04     -0.016      0.988   -8.36e+04    8.23e+04\n",
      "Age_4          -659.1379   4.97e+04     -0.013      0.989   -9.81e+04    9.67e+04\n",
      "Age_5          -658.0687   4.54e+04     -0.014      0.988   -8.96e+04    8.83e+04\n",
      "Age_6          -657.6815   4.51e+04     -0.015      0.988   -8.91e+04    8.78e+04\n",
      "Age_7          -657.3735   4.28e+04     -0.015      0.988   -8.45e+04    8.31e+04\n",
      "Age_8          -657.2123   4.19e+04     -0.016      0.987   -8.29e+04    8.15e+04\n",
      "Age_9          -657.2240    4.4e+04     -0.015      0.988   -8.69e+04    8.56e+04\n",
      "Age_10         -657.2028   4.56e+04     -0.014      0.988      -9e+04    8.87e+04\n",
      "Age_11         -657.1141   4.17e+04     -0.016      0.987   -8.24e+04    8.11e+04\n",
      "Age_12         -656.9871   4.49e+04     -0.015      0.988   -8.87e+04    8.74e+04\n",
      "Age_13         -656.9012   3.86e+04     -0.017      0.986   -7.62e+04    7.49e+04\n",
      "Age_14         -656.8349   4.47e+04     -0.015      0.988   -8.82e+04    8.69e+04\n",
      "Age_15         -657.2158   3.75e+04     -0.018      0.986   -7.42e+04    7.29e+04\n",
      "Age_16         -657.5962   3.65e+04     -0.018      0.986   -7.23e+04     7.1e+04\n",
      "Age_17         -657.7389   3.78e+04     -0.017      0.986   -7.48e+04    7.35e+04\n",
      "Age_18         -656.8998   4.56e+04     -0.014      0.989   -9.01e+04    8.87e+04\n",
      "Purpose_200    -151.6021        nan        nan        nan         nan         nan\n",
      "Purpose_201    -151.1930        nan        nan        nan         nan         nan\n",
      "Purpose_202    -151.1573        nan        nan        nan         nan         nan\n",
      "Purpose_203    -150.9965        nan        nan        nan         nan         nan\n",
      "Purpose_204    -150.7096        nan        nan        nan         nan         nan\n",
      "---------------------------------------------------------------------------------\n",
      "          y=2       coef    std err          z      P>|z|      [0.025      0.975]\n",
      "---------------------------------------------------------------------------------\n",
      "const          2915.5435   5.51e+04      0.053      0.958   -1.05e+05    1.11e+05\n",
      "StartTimeHr      -0.0346   3212.688  -1.08e-05      1.000   -6296.787    6296.718\n",
      "EndTimeHr        -0.0405   3201.238  -1.27e-05      1.000   -6274.351    6274.270\n",
      "TravelTimeMin    -0.0959     54.249     -0.002      0.999    -106.422     106.230\n",
      "Sex_1         -2498.9167        nan        nan        nan         nan         nan\n",
      "Sex_2         -2498.8498        nan        nan        nan         nan         nan\n",
      "Age_2          -137.1714        nan        nan        nan         nan         nan\n",
      "Age_3          -137.9394        nan        nan        nan         nan         nan\n",
      "Age_4          -138.0867        nan        nan        nan         nan         nan\n",
      "Age_5          -138.9449        nan        nan        nan         nan         nan\n",
      "Age_6          -139.0721        nan        nan        nan         nan         nan\n",
      "Age_7          -138.8808        nan        nan        nan         nan         nan\n",
      "Age_8          -138.6788        nan        nan        nan         nan         nan\n",
      "Age_9          -138.7025        nan        nan        nan         nan         nan\n",
      "Age_10         -138.7825        nan        nan        nan         nan         nan\n",
      "Age_11         -138.7820        nan        nan        nan         nan         nan\n",
      "Age_12         -138.7144        nan        nan        nan         nan         nan\n",
      "Age_13         -138.5715        nan        nan        nan         nan         nan\n",
      "Age_14         -138.4234        nan        nan        nan         nan         nan\n",
      "Age_15         -138.7609        nan        nan        nan         nan         nan\n",
      "Age_16         -139.1649        nan        nan        nan         nan         nan\n",
      "Age_17         -139.3188        nan        nan        nan         nan         nan\n",
      "Age_18         -139.4155        nan        nan        nan         nan         nan\n",
      "Purpose_200    -275.6833   1.13e+05     -0.002      0.998   -2.22e+05    2.22e+05\n",
      "Purpose_201    -274.7839    1.2e+05     -0.002      0.998   -2.35e+05    2.34e+05\n",
      "Purpose_202    -274.8639   1.22e+05     -0.002      0.998    -2.4e+05    2.39e+05\n",
      "Purpose_203    -274.9669   1.16e+05     -0.002      0.998   -2.27e+05    2.26e+05\n",
      "Purpose_204    -274.7155   1.13e+05     -0.002      0.998   -2.22e+05    2.22e+05\n",
      "---------------------------------------------------------------------------------\n",
      "          y=3       coef    std err          z      P>|z|      [0.025      0.975]\n",
      "---------------------------------------------------------------------------------\n",
      "const             1.7784    7.6e+04   2.34e-05      1.000   -1.49e+05    1.49e+05\n",
      "StartTimeHr      -0.0412        nan        nan        nan         nan         nan\n",
      "EndTimeHr        -0.0427        nan        nan        nan         nan         nan\n",
      "TravelTimeMin    -0.0960        nan        nan        nan         nan         nan\n",
      "Sex_1             1.2929        nan        nan        nan         nan         nan\n",
      "Sex_2             1.3124        nan        nan        nan         nan         nan\n",
      "Age_2             2.7110        nan        nan        nan         nan         nan\n",
      "Age_3             1.9917        nan        nan        nan         nan         nan\n",
      "Age_4            -0.2207        nan        nan        nan         nan         nan\n",
      "Age_5            -0.6968        nan        nan        nan         nan         nan\n",
      "Age_6            -0.5210        nan        nan        nan         nan         nan\n",
      "Age_7            -0.3503        nan        nan        nan         nan         nan\n",
      "Age_8            -0.3249        nan        nan        nan         nan         nan\n",
      "Age_9            -0.4079        nan        nan        nan         nan         nan\n",
      "Age_10           -0.4626        nan        nan        nan         nan         nan\n",
      "Age_11           -0.3915        nan        nan        nan         nan         nan\n",
      "Age_12           -0.2524        nan        nan        nan         nan         nan\n",
      "Age_13           -0.0372        nan        nan        nan         nan         nan\n",
      "Age_14            0.2959        nan        nan        nan         nan         nan\n",
      "Age_15            0.1784        nan        nan        nan         nan         nan\n",
      "Age_16            0.0687        nan        nan        nan         nan         nan\n",
      "Age_17            0.0768        nan        nan        nan         nan         nan\n",
      "Age_18            0.3725        nan        nan        nan         nan         nan\n",
      "Purpose_200      -0.2609        nan        nan        nan         nan         nan\n",
      "Purpose_201       0.5094        nan        nan        nan         nan         nan\n",
      "Purpose_202       0.6485        nan        nan        nan         nan         nan\n",
      "Purpose_203       0.8758        nan        nan        nan         nan         nan\n",
      "Purpose_204       0.2803        nan        nan        nan         nan         nan\n",
      "=================================================================================\n"
     ]
    },
    {
     "name": "stderr",
     "output_type": "stream",
     "text": [
      "/home/deepank/anaconda3/envs/tensorflow/lib/python3.6/site-packages/statsmodels/discrete/discrete_model.py:3967: RuntimeWarning: invalid value encountered in sqrt\n",
      "  bse = np.sqrt(np.diag(self.cov_params()))\n",
      "/home/deepank/anaconda3/envs/tensorflow/lib/python3.6/site-packages/scipy/stats/_distn_infrastructure.py:877: RuntimeWarning: invalid value encountered in greater\n",
      "  return (self.a < x) & (x < self.b)\n",
      "/home/deepank/anaconda3/envs/tensorflow/lib/python3.6/site-packages/scipy/stats/_distn_infrastructure.py:877: RuntimeWarning: invalid value encountered in less\n",
      "  return (self.a < x) & (x < self.b)\n",
      "/home/deepank/anaconda3/envs/tensorflow/lib/python3.6/site-packages/scipy/stats/_distn_infrastructure.py:1831: RuntimeWarning: invalid value encountered in less_equal\n",
      "  cond2 = cond0 & (x <= self.a)\n"
     ]
    }
   ],
   "source": [
    "Xc = sm.add_constant(X)\n",
    "\n",
    "#instantiate and fit multinomial logit\n",
    "mlogit = sm.MNLogit(y, Xc)\n",
    "fmlogit = mlogit.fit()\n",
    "\n",
    "print(fmlogit.summary())"
   ]
  },
  {
   "cell_type": "code",
   "execution_count": 45,
   "metadata": {},
   "outputs": [
    {
     "data": {
      "text/html": [
       "<div>\n",
       "<style scoped>\n",
       "    .dataframe tbody tr th:only-of-type {\n",
       "        vertical-align: middle;\n",
       "    }\n",
       "\n",
       "    .dataframe tbody tr th {\n",
       "        vertical-align: top;\n",
       "    }\n",
       "\n",
       "    .dataframe thead th {\n",
       "        text-align: right;\n",
       "    }\n",
       "</style>\n",
       "<table border=\"1\" class=\"dataframe\">\n",
       "  <thead>\n",
       "    <tr style=\"text-align: right;\">\n",
       "      <th></th>\n",
       "      <th>const</th>\n",
       "      <th>StartTimeHr</th>\n",
       "      <th>EndTimeHr</th>\n",
       "      <th>TravelTimeMin</th>\n",
       "      <th>Sex_1</th>\n",
       "      <th>Sex_2</th>\n",
       "      <th>Age_2</th>\n",
       "      <th>Age_3</th>\n",
       "      <th>Age_4</th>\n",
       "      <th>Age_5</th>\n",
       "      <th>...</th>\n",
       "      <th>Age_14</th>\n",
       "      <th>Age_15</th>\n",
       "      <th>Age_16</th>\n",
       "      <th>Age_17</th>\n",
       "      <th>Age_18</th>\n",
       "      <th>Purpose_200</th>\n",
       "      <th>Purpose_201</th>\n",
       "      <th>Purpose_202</th>\n",
       "      <th>Purpose_203</th>\n",
       "      <th>Purpose_204</th>\n",
       "    </tr>\n",
       "  </thead>\n",
       "  <tbody>\n",
       "    <tr>\n",
       "      <th>585458</th>\n",
       "      <td>1.000</td>\n",
       "      <td>11.000</td>\n",
       "      <td>11.833</td>\n",
       "      <td>50</td>\n",
       "      <td>1</td>\n",
       "      <td>0</td>\n",
       "      <td>0</td>\n",
       "      <td>0</td>\n",
       "      <td>0</td>\n",
       "      <td>0</td>\n",
       "      <td>...</td>\n",
       "      <td>0</td>\n",
       "      <td>0</td>\n",
       "      <td>0</td>\n",
       "      <td>0</td>\n",
       "      <td>0</td>\n",
       "      <td>0</td>\n",
       "      <td>1</td>\n",
       "      <td>0</td>\n",
       "      <td>0</td>\n",
       "      <td>0</td>\n",
       "    </tr>\n",
       "    <tr>\n",
       "      <th>442529</th>\n",
       "      <td>1.000</td>\n",
       "      <td>8.417</td>\n",
       "      <td>8.933</td>\n",
       "      <td>31</td>\n",
       "      <td>1</td>\n",
       "      <td>0</td>\n",
       "      <td>0</td>\n",
       "      <td>0</td>\n",
       "      <td>0</td>\n",
       "      <td>0</td>\n",
       "      <td>...</td>\n",
       "      <td>0</td>\n",
       "      <td>0</td>\n",
       "      <td>0</td>\n",
       "      <td>0</td>\n",
       "      <td>0</td>\n",
       "      <td>1</td>\n",
       "      <td>0</td>\n",
       "      <td>0</td>\n",
       "      <td>0</td>\n",
       "      <td>0</td>\n",
       "    </tr>\n",
       "    <tr>\n",
       "      <th>748030</th>\n",
       "      <td>1.000</td>\n",
       "      <td>19.583</td>\n",
       "      <td>21.667</td>\n",
       "      <td>125</td>\n",
       "      <td>1</td>\n",
       "      <td>0</td>\n",
       "      <td>0</td>\n",
       "      <td>0</td>\n",
       "      <td>0</td>\n",
       "      <td>0</td>\n",
       "      <td>...</td>\n",
       "      <td>0</td>\n",
       "      <td>0</td>\n",
       "      <td>0</td>\n",
       "      <td>0</td>\n",
       "      <td>0</td>\n",
       "      <td>0</td>\n",
       "      <td>1</td>\n",
       "      <td>0</td>\n",
       "      <td>0</td>\n",
       "      <td>0</td>\n",
       "    </tr>\n",
       "    <tr>\n",
       "      <th>1037987</th>\n",
       "      <td>1.000</td>\n",
       "      <td>12.333</td>\n",
       "      <td>12.500</td>\n",
       "      <td>10</td>\n",
       "      <td>0</td>\n",
       "      <td>1</td>\n",
       "      <td>0</td>\n",
       "      <td>0</td>\n",
       "      <td>0</td>\n",
       "      <td>0</td>\n",
       "      <td>...</td>\n",
       "      <td>0</td>\n",
       "      <td>0</td>\n",
       "      <td>0</td>\n",
       "      <td>0</td>\n",
       "      <td>0</td>\n",
       "      <td>0</td>\n",
       "      <td>1</td>\n",
       "      <td>0</td>\n",
       "      <td>0</td>\n",
       "      <td>0</td>\n",
       "    </tr>\n",
       "    <tr>\n",
       "      <th>499122</th>\n",
       "      <td>1.000</td>\n",
       "      <td>11.500</td>\n",
       "      <td>12.667</td>\n",
       "      <td>70</td>\n",
       "      <td>1</td>\n",
       "      <td>0</td>\n",
       "      <td>0</td>\n",
       "      <td>0</td>\n",
       "      <td>0</td>\n",
       "      <td>0</td>\n",
       "      <td>...</td>\n",
       "      <td>0</td>\n",
       "      <td>0</td>\n",
       "      <td>0</td>\n",
       "      <td>0</td>\n",
       "      <td>0</td>\n",
       "      <td>1</td>\n",
       "      <td>0</td>\n",
       "      <td>0</td>\n",
       "      <td>0</td>\n",
       "      <td>0</td>\n",
       "    </tr>\n",
       "  </tbody>\n",
       "</table>\n",
       "<p>5 rows × 28 columns</p>\n",
       "</div>"
      ],
      "text/plain": [
       "         const  StartTimeHr  EndTimeHr  TravelTimeMin  Sex_1  Sex_2  Age_2  \\\n",
       "585458   1.000       11.000     11.833             50      1      0      0   \n",
       "442529   1.000        8.417      8.933             31      1      0      0   \n",
       "748030   1.000       19.583     21.667            125      1      0      0   \n",
       "1037987  1.000       12.333     12.500             10      0      1      0   \n",
       "499122   1.000       11.500     12.667             70      1      0      0   \n",
       "\n",
       "         Age_3  Age_4  Age_5  ...  Age_14  Age_15  Age_16  Age_17  Age_18  \\\n",
       "585458       0      0      0  ...       0       0       0       0       0   \n",
       "442529       0      0      0  ...       0       0       0       0       0   \n",
       "748030       0      0      0  ...       0       0       0       0       0   \n",
       "1037987      0      0      0  ...       0       0       0       0       0   \n",
       "499122       0      0      0  ...       0       0       0       0       0   \n",
       "\n",
       "         Purpose_200  Purpose_201  Purpose_202  Purpose_203  Purpose_204  \n",
       "585458             0            1            0            0            0  \n",
       "442529             1            0            0            0            0  \n",
       "748030             0            1            0            0            0  \n",
       "1037987            0            1            0            0            0  \n",
       "499122             1            0            0            0            0  \n",
       "\n",
       "[5 rows x 28 columns]"
      ]
     },
     "execution_count": 45,
     "metadata": {},
     "output_type": "execute_result"
    }
   ],
   "source": [
    "x_test = X_test\n",
    "# x_test = x_test.drop(\"Unnamed: 0\", axis = 1)\n",
    "x_test  = sm.add_constant(x_test)\n",
    "x_test.head()"
   ]
  },
  {
   "cell_type": "code",
   "execution_count": 46,
   "metadata": {},
   "outputs": [],
   "source": [
    "pred = fmlogit.predict(x_test)"
   ]
  },
  {
   "cell_type": "code",
   "execution_count": 47,
   "metadata": {},
   "outputs": [
    {
     "name": "stdout",
     "output_type": "stream",
     "text": [
      "216224\n"
     ]
    }
   ],
   "source": [
    "print(len(pred))"
   ]
  },
  {
   "cell_type": "code",
   "execution_count": 48,
   "metadata": {},
   "outputs": [],
   "source": [
    "y_test = np.argmax(y_test, axis = 1)"
   ]
  },
  {
   "cell_type": "code",
   "execution_count": 49,
   "metadata": {},
   "outputs": [
    {
     "name": "stdout",
     "output_type": "stream",
     "text": [
      "216224\n"
     ]
    }
   ],
   "source": [
    "print(len(y_test))"
   ]
  },
  {
   "cell_type": "code",
   "execution_count": 50,
   "metadata": {},
   "outputs": [],
   "source": [
    "from sklearn.metrics import accuracy_score\n",
    "import numpy as np"
   ]
  },
  {
   "cell_type": "code",
   "execution_count": 51,
   "metadata": {},
   "outputs": [
    {
     "name": "stdout",
     "output_type": "stream",
     "text": [
      "0.5694326254254847\n"
     ]
    }
   ],
   "source": [
    "print(accuracy_score(y_test, np.argmax(pred.values, axis = 1)))"
   ]
  },
  {
   "cell_type": "code",
   "execution_count": 52,
   "metadata": {},
   "outputs": [
    {
     "name": "stdout",
     "output_type": "stream",
     "text": [
      "0.4016558275489702\n"
     ]
    }
   ],
   "source": [
    "from sklearn.metrics import cohen_kappa_score\n",
    "print(cohen_kappa_score(y_test, np.argmax(pred.values, axis = 1)))"
   ]
  },
  {
   "cell_type": "code",
   "execution_count": 53,
   "metadata": {},
   "outputs": [
    {
     "data": {
      "text/plain": [
       "<matplotlib.axes._subplots.AxesSubplot at 0x7ff77a80e208>"
      ]
     },
     "execution_count": 53,
     "metadata": {},
     "output_type": "execute_result"
    },
    {
     "data": {
      "image/png": "[encoded data removed]",
      "text/plain": [
       "<Figure size 504x504 with 1 Axes>"
      ]
     },
     "metadata": {},
     "output_type": "display_data"
    }
   ],
   "source": [
    "from sklearn.metrics import confusion_matrix\n",
    "import seaborn as sn\n",
    "import pandas as pd\n",
    "import matplotlib.pyplot as plt\n",
    "\n",
    "\n",
    "\n",
    "array = confusion_matrix(y_test, np.argmax(pred.values, axis = 1))\n",
    "sn.set(font_scale=1.5)\n",
    "df_cm = pd.DataFrame(array, index = [\"Public\", \"Private\", \"Bicycle\", \"Walk\"],\n",
    "                  columns = [\"Public\", \"Private\", \"Bicycle\", \"Walk\"])\n",
    "plt.figure(figsize = (7,7))\n",
    "sn.heatmap(df_cm, annot=True, fmt='g', cmap = \"Oranges\", cbar = False)"
   ]
  },
  {
   "cell_type": "code",
   "execution_count": 54,
   "metadata": {},
   "outputs": [
    {
     "name": "stdout",
     "output_type": "stream",
     "text": [
      "              precision    recall  f1-score   support\n",
      "\n",
      "           0       0.77      0.77      0.77     72885\n",
      "           1       0.46      0.53      0.49     63074\n",
      "           2       0.38      0.16      0.23     31675\n",
      "           3       0.51      0.59      0.54     48590\n",
      "\n",
      "    accuracy                           0.57    216224\n",
      "   macro avg       0.53      0.51      0.51    216224\n",
      "weighted avg       0.56      0.57      0.56    216224\n",
      "\n"
     ]
    }
   ],
   "source": [
    "from sklearn import metrics\n",
    "print(metrics.classification_report(y_test, np.argmax(pred.values, axis = 1)))"
   ]
  },
  {
   "cell_type": "code",
   "execution_count": null,
   "metadata": {},
   "outputs": [],
   "source": []
  }
 ],
 "metadata": {
  "kernelspec": {
   "display_name": "Python 3",
   "language": "python",
   "name": "python3"
  },
  "language_info": {
   "codemirror_mode": {
    "name": "ipython",
    "version": 3
   },
   "file_extension": ".py",
   "mimetype": "text/x-python",
   "name": "python",
   "nbconvert_exporter": "python",
   "pygments_lexer": "ipython3",
   "version": "3.6.7"
  }
 },
 "nbformat": 4,
 "nbformat_minor": 2
}
