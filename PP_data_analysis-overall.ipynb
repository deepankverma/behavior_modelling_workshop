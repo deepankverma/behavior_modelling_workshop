{
 "cells": [
  {
   "cell_type": "code",
   "execution_count": 1,
   "metadata": {},
   "outputs": [],
   "source": [
    "import pandas as pd\n",
    "import numpy as np\n",
    "%matplotlib inline\n",
    "pd.set_option('display.float_format', lambda x: '%.3f' % x)"
   ]
  },
  {
   "cell_type": "code",
   "execution_count": 2,
   "metadata": {},
   "outputs": [],
   "source": [
    "# get file encoding type\n",
    "\n",
    "import os    \n",
    "from chardet import detect\n",
    "\n",
    "def get_encoding_type(file):\n",
    "    with open(file, 'rb') as f:\n",
    "        rawdata = f.read()\n",
    "    return detect(rawdata)['encoding']"
   ]
  },
  {
   "cell_type": "code",
   "execution_count": 3,
   "metadata": {},
   "outputs": [],
   "source": [
    "pp_data = pd.read_csv(\"PP_Data_Clean_English_new.csv\", encoding = get_encoding_type(\"PP_Data_Clean_English_new.csv\"))"
   ]
  },
  {
   "cell_type": "code",
   "execution_count": 4,
   "metadata": {},
   "outputs": [
    {
     "data": {
      "text/html": [
       "<div>\n",
       "<style scoped>\n",
       "    .dataframe tbody tr th:only-of-type {\n",
       "        vertical-align: middle;\n",
       "    }\n",
       "\n",
       "    .dataframe tbody tr th {\n",
       "        vertical-align: top;\n",
       "    }\n",
       "\n",
       "    .dataframe thead th {\n",
       "        text-align: right;\n",
       "    }\n",
       "</style>\n",
       "<table border=\"1\" class=\"dataframe\">\n",
       "  <thead>\n",
       "    <tr style=\"text-align: right;\">\n",
       "      <th></th>\n",
       "      <th>TripID</th>\n",
       "      <th>MonitorID</th>\n",
       "      <th>PurposeCode</th>\n",
       "      <th>PurposeJP</th>\n",
       "      <th>PurposeENG</th>\n",
       "      <th>DepartureTime</th>\n",
       "      <th>ArrivalTime</th>\n",
       "      <th>TripDurationSec</th>\n",
       "      <th>ODDistanceM</th>\n",
       "      <th>LatitudeO</th>\n",
       "      <th>...</th>\n",
       "      <th>TimeWalk</th>\n",
       "      <th>ModeAvailableBus</th>\n",
       "      <th>DistanceBus</th>\n",
       "      <th>TimeBus</th>\n",
       "      <th>FareBus</th>\n",
       "      <th>AcessDistanceBus</th>\n",
       "      <th>AccessTimeBus</th>\n",
       "      <th>EgressDistanceBus</th>\n",
       "      <th>EgressTimeBus</th>\n",
       "      <th>TotalTimeBus</th>\n",
       "    </tr>\n",
       "  </thead>\n",
       "  <tbody>\n",
       "    <tr>\n",
       "      <th>0</th>\n",
       "      <td>255461</td>\n",
       "      <td>yd021</td>\n",
       "      <td>800</td>\n",
       "      <td>散歩･回遊</td>\n",
       "      <td>Leisure Walk</td>\n",
       "      <td>2009/10/31 06:19:00</td>\n",
       "      <td>2009/10/31 07:50:01</td>\n",
       "      <td>5461</td>\n",
       "      <td>19341.213</td>\n",
       "      <td>35.346</td>\n",
       "      <td>...</td>\n",
       "      <td>270.400</td>\n",
       "      <td>0</td>\n",
       "      <td>0.000</td>\n",
       "      <td>0</td>\n",
       "      <td>0</td>\n",
       "      <td>0</td>\n",
       "      <td>0.000</td>\n",
       "      <td>0</td>\n",
       "      <td>0.000</td>\n",
       "      <td>0.000</td>\n",
       "    </tr>\n",
       "    <tr>\n",
       "      <th>1</th>\n",
       "      <td>256674</td>\n",
       "      <td>yd027</td>\n",
       "      <td>500</td>\n",
       "      <td>買い物</td>\n",
       "      <td>Shopping</td>\n",
       "      <td>2009/11/13 19:08:13</td>\n",
       "      <td>2009/11/13 20:13:43</td>\n",
       "      <td>3930</td>\n",
       "      <td>20793.135</td>\n",
       "      <td>35.444</td>\n",
       "      <td>...</td>\n",
       "      <td>293.100</td>\n",
       "      <td>0</td>\n",
       "      <td>0.000</td>\n",
       "      <td>0</td>\n",
       "      <td>0</td>\n",
       "      <td>0</td>\n",
       "      <td>0.000</td>\n",
       "      <td>0</td>\n",
       "      <td>0.000</td>\n",
       "      <td>0.000</td>\n",
       "    </tr>\n",
       "    <tr>\n",
       "      <th>2</th>\n",
       "      <td>255291</td>\n",
       "      <td>yd025</td>\n",
       "      <td>400</td>\n",
       "      <td>業務</td>\n",
       "      <td>Work</td>\n",
       "      <td>2009/10/29 07:36:03</td>\n",
       "      <td>2009/10/29 08:21:20</td>\n",
       "      <td>2717</td>\n",
       "      <td>10421.324</td>\n",
       "      <td>35.367</td>\n",
       "      <td>...</td>\n",
       "      <td>143.400</td>\n",
       "      <td>0</td>\n",
       "      <td>0.000</td>\n",
       "      <td>0</td>\n",
       "      <td>0</td>\n",
       "      <td>0</td>\n",
       "      <td>0.000</td>\n",
       "      <td>0</td>\n",
       "      <td>0.000</td>\n",
       "      <td>0.000</td>\n",
       "    </tr>\n",
       "    <tr>\n",
       "      <th>3</th>\n",
       "      <td>256382</td>\n",
       "      <td>yd021</td>\n",
       "      <td>100</td>\n",
       "      <td>出勤</td>\n",
       "      <td>Commute</td>\n",
       "      <td>2009/11/10 06:55:33</td>\n",
       "      <td>2009/11/10 07:58:02</td>\n",
       "      <td>3749</td>\n",
       "      <td>24456.996</td>\n",
       "      <td>35.326</td>\n",
       "      <td>...</td>\n",
       "      <td>342.300</td>\n",
       "      <td>0</td>\n",
       "      <td>0.000</td>\n",
       "      <td>0</td>\n",
       "      <td>0</td>\n",
       "      <td>0</td>\n",
       "      <td>0.000</td>\n",
       "      <td>0</td>\n",
       "      <td>0.000</td>\n",
       "      <td>0.000</td>\n",
       "    </tr>\n",
       "    <tr>\n",
       "      <th>4</th>\n",
       "      <td>257459</td>\n",
       "      <td>yd028</td>\n",
       "      <td>700</td>\n",
       "      <td>娯楽</td>\n",
       "      <td>Leisure</td>\n",
       "      <td>2009/11/21 10:40:54</td>\n",
       "      <td>2009/11/21 12:31:44</td>\n",
       "      <td>6650</td>\n",
       "      <td>42660.902</td>\n",
       "      <td>35.464</td>\n",
       "      <td>...</td>\n",
       "      <td>595.900</td>\n",
       "      <td>0</td>\n",
       "      <td>0.000</td>\n",
       "      <td>0</td>\n",
       "      <td>0</td>\n",
       "      <td>0</td>\n",
       "      <td>0.000</td>\n",
       "      <td>0</td>\n",
       "      <td>0.000</td>\n",
       "      <td>0.000</td>\n",
       "    </tr>\n",
       "  </tbody>\n",
       "</table>\n",
       "<p>5 rows × 62 columns</p>\n",
       "</div>"
      ],
      "text/plain": [
       "   TripID MonitorID  PurposeCode PurposeJP    PurposeENG        DepartureTime  \\\n",
       "0  255461     yd021          800     散歩･回遊  Leisure Walk  2009/10/31 06:19:00   \n",
       "1  256674     yd027          500       買い物      Shopping  2009/11/13 19:08:13   \n",
       "2  255291     yd025          400        業務          Work  2009/10/29 07:36:03   \n",
       "3  256382     yd021          100        出勤       Commute  2009/11/10 06:55:33   \n",
       "4  257459     yd028          700        娯楽       Leisure  2009/11/21 10:40:54   \n",
       "\n",
       "           ArrivalTime  TripDurationSec  ODDistanceM  LatitudeO      ...       \\\n",
       "0  2009/10/31 07:50:01             5461    19341.213     35.346      ...        \n",
       "1  2009/11/13 20:13:43             3930    20793.135     35.444      ...        \n",
       "2  2009/10/29 08:21:20             2717    10421.324     35.367      ...        \n",
       "3  2009/11/10 07:58:02             3749    24456.996     35.326      ...        \n",
       "4  2009/11/21 12:31:44             6650    42660.902     35.464      ...        \n",
       "\n",
       "   TimeWalk  ModeAvailableBus DistanceBus  TimeBus FareBus  AcessDistanceBus  \\\n",
       "0   270.400                 0       0.000        0       0                 0   \n",
       "1   293.100                 0       0.000        0       0                 0   \n",
       "2   143.400                 0       0.000        0       0                 0   \n",
       "3   342.300                 0       0.000        0       0                 0   \n",
       "4   595.900                 0       0.000        0       0                 0   \n",
       "\n",
       "  AccessTimeBus  EgressDistanceBus  EgressTimeBus  TotalTimeBus  \n",
       "0         0.000                  0          0.000         0.000  \n",
       "1         0.000                  0          0.000         0.000  \n",
       "2         0.000                  0          0.000         0.000  \n",
       "3         0.000                  0          0.000         0.000  \n",
       "4         0.000                  0          0.000         0.000  \n",
       "\n",
       "[5 rows x 62 columns]"
      ]
     },
     "execution_count": 4,
     "metadata": {},
     "output_type": "execute_result"
    }
   ],
   "source": [
    "pp_data.head()"
   ]
  },
  {
   "cell_type": "code",
   "execution_count": 5,
   "metadata": {},
   "outputs": [
    {
     "data": {
      "text/html": [
       "<div>\n",
       "<style scoped>\n",
       "    .dataframe tbody tr th:only-of-type {\n",
       "        vertical-align: middle;\n",
       "    }\n",
       "\n",
       "    .dataframe tbody tr th {\n",
       "        vertical-align: top;\n",
       "    }\n",
       "\n",
       "    .dataframe thead th {\n",
       "        text-align: right;\n",
       "    }\n",
       "</style>\n",
       "<table border=\"1\" class=\"dataframe\">\n",
       "  <thead>\n",
       "    <tr style=\"text-align: right;\">\n",
       "      <th></th>\n",
       "      <th>TripID</th>\n",
       "      <th>PurposeCode</th>\n",
       "      <th>TripDurationSec</th>\n",
       "      <th>ODDistanceM</th>\n",
       "      <th>LatitudeO</th>\n",
       "      <th>LongitudeO</th>\n",
       "      <th>DistrictCodeO</th>\n",
       "      <th>Zone4codeO</th>\n",
       "      <th>Zone5codeO</th>\n",
       "      <th>LatitudeD</th>\n",
       "      <th>...</th>\n",
       "      <th>TimeWalk</th>\n",
       "      <th>ModeAvailableBus</th>\n",
       "      <th>DistanceBus</th>\n",
       "      <th>TimeBus</th>\n",
       "      <th>FareBus</th>\n",
       "      <th>AcessDistanceBus</th>\n",
       "      <th>AccessTimeBus</th>\n",
       "      <th>EgressDistanceBus</th>\n",
       "      <th>EgressTimeBus</th>\n",
       "      <th>TotalTimeBus</th>\n",
       "    </tr>\n",
       "  </thead>\n",
       "  <tbody>\n",
       "    <tr>\n",
       "      <th>count</th>\n",
       "      <td>1522.000</td>\n",
       "      <td>1522.000</td>\n",
       "      <td>1522.000</td>\n",
       "      <td>1522.000</td>\n",
       "      <td>1522.000</td>\n",
       "      <td>1522.000</td>\n",
       "      <td>1366.000</td>\n",
       "      <td>1366.000</td>\n",
       "      <td>1366.000</td>\n",
       "      <td>1522.000</td>\n",
       "      <td>...</td>\n",
       "      <td>1522.000</td>\n",
       "      <td>1522.000</td>\n",
       "      <td>1522.000</td>\n",
       "      <td>1522.000</td>\n",
       "      <td>1522.000</td>\n",
       "      <td>1522.000</td>\n",
       "      <td>1522.000</td>\n",
       "      <td>1522.000</td>\n",
       "      <td>1522.000</td>\n",
       "      <td>1522.000</td>\n",
       "    </tr>\n",
       "    <tr>\n",
       "      <th>mean</th>\n",
       "      <td>256565.300</td>\n",
       "      <td>373.286</td>\n",
       "      <td>2722.477</td>\n",
       "      <td>10120.871</td>\n",
       "      <td>35.464</td>\n",
       "      <td>139.591</td>\n",
       "      <td>125.914</td>\n",
       "      <td>1205931.037</td>\n",
       "      <td>121693764.046</td>\n",
       "      <td>35.467</td>\n",
       "      <td>...</td>\n",
       "      <td>147.162</td>\n",
       "      <td>0.255</td>\n",
       "      <td>0.363</td>\n",
       "      <td>1.656</td>\n",
       "      <td>53.463</td>\n",
       "      <td>72.790</td>\n",
       "      <td>1.093</td>\n",
       "      <td>67.666</td>\n",
       "      <td>1.015</td>\n",
       "      <td>3.764</td>\n",
       "    </tr>\n",
       "    <tr>\n",
       "      <th>std</th>\n",
       "      <td>797.537</td>\n",
       "      <td>281.927</td>\n",
       "      <td>2080.745</td>\n",
       "      <td>11289.430</td>\n",
       "      <td>0.083</td>\n",
       "      <td>0.104</td>\n",
       "      <td>41.134</td>\n",
       "      <td>414466.093</td>\n",
       "      <td>42644581.974</td>\n",
       "      <td>0.086</td>\n",
       "      <td>...</td>\n",
       "      <td>161.783</td>\n",
       "      <td>0.436</td>\n",
       "      <td>0.992</td>\n",
       "      <td>4.494</td>\n",
       "      <td>91.472</td>\n",
       "      <td>142.436</td>\n",
       "      <td>2.140</td>\n",
       "      <td>131.128</td>\n",
       "      <td>1.967</td>\n",
       "      <td>7.529</td>\n",
       "    </tr>\n",
       "    <tr>\n",
       "      <th>min</th>\n",
       "      <td>255279.000</td>\n",
       "      <td>100.000</td>\n",
       "      <td>187.000</td>\n",
       "      <td>36.899</td>\n",
       "      <td>35.240</td>\n",
       "      <td>139.156</td>\n",
       "      <td>101.000</td>\n",
       "      <td>1000112.000</td>\n",
       "      <td>100011202.000</td>\n",
       "      <td>35.233</td>\n",
       "      <td>...</td>\n",
       "      <td>1.200</td>\n",
       "      <td>0.000</td>\n",
       "      <td>0.000</td>\n",
       "      <td>0.000</td>\n",
       "      <td>0.000</td>\n",
       "      <td>0.000</td>\n",
       "      <td>0.000</td>\n",
       "      <td>0.000</td>\n",
       "      <td>0.000</td>\n",
       "      <td>0.000</td>\n",
       "    </tr>\n",
       "    <tr>\n",
       "      <th>25%</th>\n",
       "      <td>255866.250</td>\n",
       "      <td>200.000</td>\n",
       "      <td>1070.500</td>\n",
       "      <td>1095.100</td>\n",
       "      <td>35.430</td>\n",
       "      <td>139.557</td>\n",
       "      <td>103.000</td>\n",
       "      <td>1002008.000</td>\n",
       "      <td>100200803.000</td>\n",
       "      <td>35.431</td>\n",
       "      <td>...</td>\n",
       "      <td>18.100</td>\n",
       "      <td>0.000</td>\n",
       "      <td>0.000</td>\n",
       "      <td>0.000</td>\n",
       "      <td>0.000</td>\n",
       "      <td>0.000</td>\n",
       "      <td>0.000</td>\n",
       "      <td>0.000</td>\n",
       "      <td>0.000</td>\n",
       "      <td>0.000</td>\n",
       "    </tr>\n",
       "    <tr>\n",
       "      <th>50%</th>\n",
       "      <td>256519.500</td>\n",
       "      <td>200.000</td>\n",
       "      <td>2157.500</td>\n",
       "      <td>4307.046</td>\n",
       "      <td>35.445</td>\n",
       "      <td>139.633</td>\n",
       "      <td>104.000</td>\n",
       "      <td>1003012.000</td>\n",
       "      <td>100301201.000</td>\n",
       "      <td>35.447</td>\n",
       "      <td>...</td>\n",
       "      <td>68.950</td>\n",
       "      <td>0.000</td>\n",
       "      <td>0.000</td>\n",
       "      <td>0.000</td>\n",
       "      <td>0.000</td>\n",
       "      <td>0.000</td>\n",
       "      <td>0.000</td>\n",
       "      <td>0.000</td>\n",
       "      <td>0.000</td>\n",
       "      <td>0.000</td>\n",
       "    </tr>\n",
       "    <tr>\n",
       "      <th>75%</th>\n",
       "      <td>257243.750</td>\n",
       "      <td>500.000</td>\n",
       "      <td>3921.250</td>\n",
       "      <td>19154.811</td>\n",
       "      <td>35.466</td>\n",
       "      <td>139.648</td>\n",
       "      <td>115.000</td>\n",
       "      <td>1009248.000</td>\n",
       "      <td>100924357.500</td>\n",
       "      <td>35.466</td>\n",
       "      <td>...</td>\n",
       "      <td>276.975</td>\n",
       "      <td>1.000</td>\n",
       "      <td>0.210</td>\n",
       "      <td>1.000</td>\n",
       "      <td>210.000</td>\n",
       "      <td>34.750</td>\n",
       "      <td>0.500</td>\n",
       "      <td>43.000</td>\n",
       "      <td>0.600</td>\n",
       "      <td>4.800</td>\n",
       "    </tr>\n",
       "    <tr>\n",
       "      <th>max</th>\n",
       "      <td>258042.000</td>\n",
       "      <td>999.000</td>\n",
       "      <td>10707.000</td>\n",
       "      <td>66884.922</td>\n",
       "      <td>36.032</td>\n",
       "      <td>140.036</td>\n",
       "      <td>321.000</td>\n",
       "      <td>3210102.000</td>\n",
       "      <td>321020711.000</td>\n",
       "      <td>36.032</td>\n",
       "      <td>...</td>\n",
       "      <td>939.400</td>\n",
       "      <td>1.000</td>\n",
       "      <td>9.460</td>\n",
       "      <td>43.000</td>\n",
       "      <td>210.000</td>\n",
       "      <td>637.000</td>\n",
       "      <td>9.600</td>\n",
       "      <td>615.000</td>\n",
       "      <td>9.200</td>\n",
       "      <td>52.300</td>\n",
       "    </tr>\n",
       "  </tbody>\n",
       "</table>\n",
       "<p>8 rows × 45 columns</p>\n",
       "</div>"
      ],
      "text/plain": [
       "          TripID  PurposeCode  TripDurationSec  ODDistanceM  LatitudeO  \\\n",
       "count   1522.000     1522.000         1522.000     1522.000   1522.000   \n",
       "mean  256565.300      373.286         2722.477    10120.871     35.464   \n",
       "std      797.537      281.927         2080.745    11289.430      0.083   \n",
       "min   255279.000      100.000          187.000       36.899     35.240   \n",
       "25%   255866.250      200.000         1070.500     1095.100     35.430   \n",
       "50%   256519.500      200.000         2157.500     4307.046     35.445   \n",
       "75%   257243.750      500.000         3921.250    19154.811     35.466   \n",
       "max   258042.000      999.000        10707.000    66884.922     36.032   \n",
       "\n",
       "       LongitudeO  DistrictCodeO  Zone4codeO    Zone5codeO  LatitudeD  \\\n",
       "count    1522.000       1366.000    1366.000      1366.000   1522.000   \n",
       "mean      139.591        125.914 1205931.037 121693764.046     35.467   \n",
       "std         0.104         41.134  414466.093  42644581.974      0.086   \n",
       "min       139.156        101.000 1000112.000 100011202.000     35.233   \n",
       "25%       139.557        103.000 1002008.000 100200803.000     35.431   \n",
       "50%       139.633        104.000 1003012.000 100301201.000     35.447   \n",
       "75%       139.648        115.000 1009248.000 100924357.500     35.466   \n",
       "max       140.036        321.000 3210102.000 321020711.000     36.032   \n",
       "\n",
       "           ...       TimeWalk  ModeAvailableBus  DistanceBus  TimeBus  \\\n",
       "count      ...       1522.000          1522.000     1522.000 1522.000   \n",
       "mean       ...        147.162             0.255        0.363    1.656   \n",
       "std        ...        161.783             0.436        0.992    4.494   \n",
       "min        ...          1.200             0.000        0.000    0.000   \n",
       "25%        ...         18.100             0.000        0.000    0.000   \n",
       "50%        ...         68.950             0.000        0.000    0.000   \n",
       "75%        ...        276.975             1.000        0.210    1.000   \n",
       "max        ...        939.400             1.000        9.460   43.000   \n",
       "\n",
       "       FareBus  AcessDistanceBus  AccessTimeBus  EgressDistanceBus  \\\n",
       "count 1522.000          1522.000       1522.000           1522.000   \n",
       "mean    53.463            72.790          1.093             67.666   \n",
       "std     91.472           142.436          2.140            131.128   \n",
       "min      0.000             0.000          0.000              0.000   \n",
       "25%      0.000             0.000          0.000              0.000   \n",
       "50%      0.000             0.000          0.000              0.000   \n",
       "75%    210.000            34.750          0.500             43.000   \n",
       "max    210.000           637.000          9.600            615.000   \n",
       "\n",
       "       EgressTimeBus  TotalTimeBus  \n",
       "count       1522.000      1522.000  \n",
       "mean           1.015         3.764  \n",
       "std            1.967         7.529  \n",
       "min            0.000         0.000  \n",
       "25%            0.000         0.000  \n",
       "50%            0.000         0.000  \n",
       "75%            0.600         4.800  \n",
       "max            9.200        52.300  \n",
       "\n",
       "[8 rows x 45 columns]"
      ]
     },
     "execution_count": 5,
     "metadata": {},
     "output_type": "execute_result"
    }
   ],
   "source": [
    "pp_data.describe()"
   ]
  },
  {
   "cell_type": "code",
   "execution_count": 6,
   "metadata": {},
   "outputs": [
    {
     "data": {
      "text/plain": [
       "Index(['TripID', 'MonitorID', 'PurposeCode', 'PurposeJP', 'PurposeENG',\n",
       "       'DepartureTime', 'ArrivalTime', 'TripDurationSec', 'ODDistanceM',\n",
       "       'LatitudeO', 'LongitudeO', 'DistrictCodeO', 'DistrictNameO',\n",
       "       'Zone4codeO', 'Zone4nameO', 'Zone5codeO', 'Zone5nameO', 'LatitudeD',\n",
       "       'LongitudeD', 'DistrictCodeD', 'DistrictNameD', 'Zone4codeD',\n",
       "       'Zone4nameD', 'Zone5codeD', 'Zone5nameD', 'Age', 'Gender', 'Male',\n",
       "       'HomeLocation', 'MainModeCode', 'MainModeJP', 'MainModeENG',\n",
       "       'ChoiceTime', 'ModeAvailableCar', 'DistanceCar', 'TimeCar',\n",
       "       'ModeAvailableTrain', 'TimeTrain', 'FareTrain', 'DepartureStation',\n",
       "       'ArrivalStation', 'NumberChanges', 'AccessDistanceTrain',\n",
       "       'AccessTimeTrain', 'EgressDistanceTrain', 'EgressTimeTrain',\n",
       "       'TotalTimeTrain', 'ModeAvailableBike', 'DistanceBike', 'TimeBike',\n",
       "       'ModeAvailableWalk', 'DistanceWalk', 'TimeWalk', 'ModeAvailableBus',\n",
       "       'DistanceBus', 'TimeBus', 'FareBus', 'AcessDistanceBus',\n",
       "       'AccessTimeBus', 'EgressDistanceBus', 'EgressTimeBus', 'TotalTimeBus'],\n",
       "      dtype='object')"
      ]
     },
     "execution_count": 6,
     "metadata": {},
     "output_type": "execute_result"
    }
   ],
   "source": [
    "pp_data.columns"
   ]
  },
  {
   "cell_type": "code",
   "execution_count": 7,
   "metadata": {},
   "outputs": [],
   "source": [
    "pp_data = pp_data[[\"Male\", \"Age\", \"PurposeCode\", \"MainModeCode\", \"DepartureTime\", \"ArrivalTime\", \"TripDurationSec\"]]"
   ]
  },
  {
   "cell_type": "code",
   "execution_count": 8,
   "metadata": {},
   "outputs": [
    {
     "name": "stdout",
     "output_type": "stream",
     "text": [
      "1522\n"
     ]
    }
   ],
   "source": [
    "print(len(pp_data))"
   ]
  },
  {
   "cell_type": "code",
   "execution_count": 9,
   "metadata": {},
   "outputs": [
    {
     "data": {
      "text/html": [
       "<div>\n",
       "<style scoped>\n",
       "    .dataframe tbody tr th:only-of-type {\n",
       "        vertical-align: middle;\n",
       "    }\n",
       "\n",
       "    .dataframe tbody tr th {\n",
       "        vertical-align: top;\n",
       "    }\n",
       "\n",
       "    .dataframe thead th {\n",
       "        text-align: right;\n",
       "    }\n",
       "</style>\n",
       "<table border=\"1\" class=\"dataframe\">\n",
       "  <thead>\n",
       "    <tr style=\"text-align: right;\">\n",
       "      <th></th>\n",
       "      <th>Male</th>\n",
       "      <th>Age</th>\n",
       "      <th>PurposeCode</th>\n",
       "      <th>MainModeCode</th>\n",
       "      <th>DepartureTime</th>\n",
       "      <th>ArrivalTime</th>\n",
       "      <th>TripDurationSec</th>\n",
       "    </tr>\n",
       "  </thead>\n",
       "  <tbody>\n",
       "    <tr>\n",
       "      <th>0</th>\n",
       "      <td>1</td>\n",
       "      <td>46</td>\n",
       "      <td>800</td>\n",
       "      <td>410</td>\n",
       "      <td>2009/10/31 06:19:00</td>\n",
       "      <td>2009/10/31 07:50:01</td>\n",
       "      <td>5461</td>\n",
       "    </tr>\n",
       "    <tr>\n",
       "      <th>1</th>\n",
       "      <td>1</td>\n",
       "      <td>38</td>\n",
       "      <td>500</td>\n",
       "      <td>200</td>\n",
       "      <td>2009/11/13 19:08:13</td>\n",
       "      <td>2009/11/13 20:13:43</td>\n",
       "      <td>3930</td>\n",
       "    </tr>\n",
       "    <tr>\n",
       "      <th>2</th>\n",
       "      <td>0</td>\n",
       "      <td>39</td>\n",
       "      <td>400</td>\n",
       "      <td>200</td>\n",
       "      <td>2009/10/29 07:36:03</td>\n",
       "      <td>2009/10/29 08:21:20</td>\n",
       "      <td>2717</td>\n",
       "    </tr>\n",
       "    <tr>\n",
       "      <th>3</th>\n",
       "      <td>1</td>\n",
       "      <td>46</td>\n",
       "      <td>100</td>\n",
       "      <td>200</td>\n",
       "      <td>2009/11/10 06:55:33</td>\n",
       "      <td>2009/11/10 07:58:02</td>\n",
       "      <td>3749</td>\n",
       "    </tr>\n",
       "    <tr>\n",
       "      <th>4</th>\n",
       "      <td>1</td>\n",
       "      <td>37</td>\n",
       "      <td>700</td>\n",
       "      <td>200</td>\n",
       "      <td>2009/11/21 10:40:54</td>\n",
       "      <td>2009/11/21 12:31:44</td>\n",
       "      <td>6650</td>\n",
       "    </tr>\n",
       "  </tbody>\n",
       "</table>\n",
       "</div>"
      ],
      "text/plain": [
       "   Male  Age  PurposeCode  MainModeCode        DepartureTime  \\\n",
       "0     1   46          800           410  2009/10/31 06:19:00   \n",
       "1     1   38          500           200  2009/11/13 19:08:13   \n",
       "2     0   39          400           200  2009/10/29 07:36:03   \n",
       "3     1   46          100           200  2009/11/10 06:55:33   \n",
       "4     1   37          700           200  2009/11/21 10:40:54   \n",
       "\n",
       "           ArrivalTime  TripDurationSec  \n",
       "0  2009/10/31 07:50:01             5461  \n",
       "1  2009/11/13 20:13:43             3930  \n",
       "2  2009/10/29 08:21:20             2717  \n",
       "3  2009/11/10 07:58:02             3749  \n",
       "4  2009/11/21 12:31:44             6650  "
      ]
     },
     "execution_count": 9,
     "metadata": {},
     "output_type": "execute_result"
    }
   ],
   "source": [
    "pp_data.head()"
   ]
  },
  {
   "cell_type": "code",
   "execution_count": 10,
   "metadata": {},
   "outputs": [
    {
     "data": {
      "text/plain": [
       "Male                int64\n",
       "Age                 int64\n",
       "PurposeCode         int64\n",
       "MainModeCode        int64\n",
       "DepartureTime      object\n",
       "ArrivalTime        object\n",
       "TripDurationSec     int64\n",
       "dtype: object"
      ]
     },
     "execution_count": 10,
     "metadata": {},
     "output_type": "execute_result"
    }
   ],
   "source": [
    "pp_data.dtypes"
   ]
  },
  {
   "cell_type": "code",
   "execution_count": 11,
   "metadata": {},
   "outputs": [],
   "source": [
    "pp_data['DepartureTime1'] = pd.to_datetime(pp_data['DepartureTime']).dt.minute\n",
    "pp_data['DepartureTime'] = pd.to_datetime(pp_data['DepartureTime']).dt.hour\n",
    "\n",
    "pp_data['ArrivalTime1'] = pd.to_datetime(pp_data['ArrivalTime']).dt.minute\n",
    "pp_data['ArrivalTime'] = pd.to_datetime(pp_data['ArrivalTime']).dt.hour"
   ]
  },
  {
   "cell_type": "code",
   "execution_count": 12,
   "metadata": {},
   "outputs": [
    {
     "data": {
      "text/html": [
       "<div>\n",
       "<style scoped>\n",
       "    .dataframe tbody tr th:only-of-type {\n",
       "        vertical-align: middle;\n",
       "    }\n",
       "\n",
       "    .dataframe tbody tr th {\n",
       "        vertical-align: top;\n",
       "    }\n",
       "\n",
       "    .dataframe thead th {\n",
       "        text-align: right;\n",
       "    }\n",
       "</style>\n",
       "<table border=\"1\" class=\"dataframe\">\n",
       "  <thead>\n",
       "    <tr style=\"text-align: right;\">\n",
       "      <th></th>\n",
       "      <th>Male</th>\n",
       "      <th>Age</th>\n",
       "      <th>PurposeCode</th>\n",
       "      <th>MainModeCode</th>\n",
       "      <th>DepartureTime</th>\n",
       "      <th>ArrivalTime</th>\n",
       "      <th>TripDurationSec</th>\n",
       "      <th>DepartureTime1</th>\n",
       "      <th>ArrivalTime1</th>\n",
       "    </tr>\n",
       "  </thead>\n",
       "  <tbody>\n",
       "    <tr>\n",
       "      <th>0</th>\n",
       "      <td>1</td>\n",
       "      <td>46</td>\n",
       "      <td>800</td>\n",
       "      <td>410</td>\n",
       "      <td>6</td>\n",
       "      <td>7</td>\n",
       "      <td>5461</td>\n",
       "      <td>19</td>\n",
       "      <td>50</td>\n",
       "    </tr>\n",
       "    <tr>\n",
       "      <th>1</th>\n",
       "      <td>1</td>\n",
       "      <td>38</td>\n",
       "      <td>500</td>\n",
       "      <td>200</td>\n",
       "      <td>19</td>\n",
       "      <td>20</td>\n",
       "      <td>3930</td>\n",
       "      <td>8</td>\n",
       "      <td>13</td>\n",
       "    </tr>\n",
       "    <tr>\n",
       "      <th>2</th>\n",
       "      <td>0</td>\n",
       "      <td>39</td>\n",
       "      <td>400</td>\n",
       "      <td>200</td>\n",
       "      <td>7</td>\n",
       "      <td>8</td>\n",
       "      <td>2717</td>\n",
       "      <td>36</td>\n",
       "      <td>21</td>\n",
       "    </tr>\n",
       "    <tr>\n",
       "      <th>3</th>\n",
       "      <td>1</td>\n",
       "      <td>46</td>\n",
       "      <td>100</td>\n",
       "      <td>200</td>\n",
       "      <td>6</td>\n",
       "      <td>7</td>\n",
       "      <td>3749</td>\n",
       "      <td>55</td>\n",
       "      <td>58</td>\n",
       "    </tr>\n",
       "    <tr>\n",
       "      <th>4</th>\n",
       "      <td>1</td>\n",
       "      <td>37</td>\n",
       "      <td>700</td>\n",
       "      <td>200</td>\n",
       "      <td>10</td>\n",
       "      <td>12</td>\n",
       "      <td>6650</td>\n",
       "      <td>40</td>\n",
       "      <td>31</td>\n",
       "    </tr>\n",
       "  </tbody>\n",
       "</table>\n",
       "</div>"
      ],
      "text/plain": [
       "   Male  Age  PurposeCode  MainModeCode  DepartureTime  ArrivalTime  \\\n",
       "0     1   46          800           410              6            7   \n",
       "1     1   38          500           200             19           20   \n",
       "2     0   39          400           200              7            8   \n",
       "3     1   46          100           200              6            7   \n",
       "4     1   37          700           200             10           12   \n",
       "\n",
       "   TripDurationSec  DepartureTime1  ArrivalTime1  \n",
       "0             5461              19            50  \n",
       "1             3930               8            13  \n",
       "2             2717              36            21  \n",
       "3             3749              55            58  \n",
       "4             6650              40            31  "
      ]
     },
     "execution_count": 12,
     "metadata": {},
     "output_type": "execute_result"
    }
   ],
   "source": [
    "pp_data.head()"
   ]
  },
  {
   "cell_type": "code",
   "execution_count": 13,
   "metadata": {},
   "outputs": [],
   "source": [
    "pp_data[\"DepartureTime\"] = (pp_data[\"DepartureTime\"] * 3600) + (pp_data[\"DepartureTime1\"] * 60)\n",
    "pp_data[\"ArrivalTime\"] = (pp_data[\"ArrivalTime\"] * 3600) + (pp_data[\"ArrivalTime1\"] * 60)"
   ]
  },
  {
   "cell_type": "code",
   "execution_count": 14,
   "metadata": {},
   "outputs": [
    {
     "data": {
      "text/html": [
       "<div>\n",
       "<style scoped>\n",
       "    .dataframe tbody tr th:only-of-type {\n",
       "        vertical-align: middle;\n",
       "    }\n",
       "\n",
       "    .dataframe tbody tr th {\n",
       "        vertical-align: top;\n",
       "    }\n",
       "\n",
       "    .dataframe thead th {\n",
       "        text-align: right;\n",
       "    }\n",
       "</style>\n",
       "<table border=\"1\" class=\"dataframe\">\n",
       "  <thead>\n",
       "    <tr style=\"text-align: right;\">\n",
       "      <th></th>\n",
       "      <th>Male</th>\n",
       "      <th>Age</th>\n",
       "      <th>PurposeCode</th>\n",
       "      <th>MainModeCode</th>\n",
       "      <th>DepartureTime</th>\n",
       "      <th>ArrivalTime</th>\n",
       "      <th>TripDurationSec</th>\n",
       "      <th>DepartureTime1</th>\n",
       "      <th>ArrivalTime1</th>\n",
       "    </tr>\n",
       "  </thead>\n",
       "  <tbody>\n",
       "    <tr>\n",
       "      <th>0</th>\n",
       "      <td>1</td>\n",
       "      <td>46</td>\n",
       "      <td>800</td>\n",
       "      <td>410</td>\n",
       "      <td>22740</td>\n",
       "      <td>28200</td>\n",
       "      <td>5461</td>\n",
       "      <td>19</td>\n",
       "      <td>50</td>\n",
       "    </tr>\n",
       "    <tr>\n",
       "      <th>1</th>\n",
       "      <td>1</td>\n",
       "      <td>38</td>\n",
       "      <td>500</td>\n",
       "      <td>200</td>\n",
       "      <td>68880</td>\n",
       "      <td>72780</td>\n",
       "      <td>3930</td>\n",
       "      <td>8</td>\n",
       "      <td>13</td>\n",
       "    </tr>\n",
       "    <tr>\n",
       "      <th>2</th>\n",
       "      <td>0</td>\n",
       "      <td>39</td>\n",
       "      <td>400</td>\n",
       "      <td>200</td>\n",
       "      <td>27360</td>\n",
       "      <td>30060</td>\n",
       "      <td>2717</td>\n",
       "      <td>36</td>\n",
       "      <td>21</td>\n",
       "    </tr>\n",
       "    <tr>\n",
       "      <th>3</th>\n",
       "      <td>1</td>\n",
       "      <td>46</td>\n",
       "      <td>100</td>\n",
       "      <td>200</td>\n",
       "      <td>24900</td>\n",
       "      <td>28680</td>\n",
       "      <td>3749</td>\n",
       "      <td>55</td>\n",
       "      <td>58</td>\n",
       "    </tr>\n",
       "    <tr>\n",
       "      <th>4</th>\n",
       "      <td>1</td>\n",
       "      <td>37</td>\n",
       "      <td>700</td>\n",
       "      <td>200</td>\n",
       "      <td>38400</td>\n",
       "      <td>45060</td>\n",
       "      <td>6650</td>\n",
       "      <td>40</td>\n",
       "      <td>31</td>\n",
       "    </tr>\n",
       "  </tbody>\n",
       "</table>\n",
       "</div>"
      ],
      "text/plain": [
       "   Male  Age  PurposeCode  MainModeCode  DepartureTime  ArrivalTime  \\\n",
       "0     1   46          800           410          22740        28200   \n",
       "1     1   38          500           200          68880        72780   \n",
       "2     0   39          400           200          27360        30060   \n",
       "3     1   46          100           200          24900        28680   \n",
       "4     1   37          700           200          38400        45060   \n",
       "\n",
       "   TripDurationSec  DepartureTime1  ArrivalTime1  \n",
       "0             5461              19            50  \n",
       "1             3930               8            13  \n",
       "2             2717              36            21  \n",
       "3             3749              55            58  \n",
       "4             6650              40            31  "
      ]
     },
     "execution_count": 14,
     "metadata": {},
     "output_type": "execute_result"
    }
   ],
   "source": [
    "pp_data.head()"
   ]
  },
  {
   "cell_type": "code",
   "execution_count": 15,
   "metadata": {},
   "outputs": [],
   "source": [
    "pp_data[\"DepartureTime\"] = pp_data[\"DepartureTime\"] / 3600.0\n",
    "pp_data[\"ArrivalTime\"] = pp_data[\"ArrivalTime\"] / 3600.0\n",
    "pp_data[\"TripDurationSec\"] = pp_data[\"TripDurationSec\"] / 60"
   ]
  },
  {
   "cell_type": "code",
   "execution_count": 16,
   "metadata": {},
   "outputs": [
    {
     "data": {
      "text/html": [
       "<div>\n",
       "<style scoped>\n",
       "    .dataframe tbody tr th:only-of-type {\n",
       "        vertical-align: middle;\n",
       "    }\n",
       "\n",
       "    .dataframe tbody tr th {\n",
       "        vertical-align: top;\n",
       "    }\n",
       "\n",
       "    .dataframe thead th {\n",
       "        text-align: right;\n",
       "    }\n",
       "</style>\n",
       "<table border=\"1\" class=\"dataframe\">\n",
       "  <thead>\n",
       "    <tr style=\"text-align: right;\">\n",
       "      <th></th>\n",
       "      <th>Male</th>\n",
       "      <th>Age</th>\n",
       "      <th>PurposeCode</th>\n",
       "      <th>MainModeCode</th>\n",
       "      <th>DepartureTime</th>\n",
       "      <th>ArrivalTime</th>\n",
       "      <th>TripDurationSec</th>\n",
       "      <th>DepartureTime1</th>\n",
       "      <th>ArrivalTime1</th>\n",
       "    </tr>\n",
       "  </thead>\n",
       "  <tbody>\n",
       "    <tr>\n",
       "      <th>0</th>\n",
       "      <td>1</td>\n",
       "      <td>46</td>\n",
       "      <td>800</td>\n",
       "      <td>410</td>\n",
       "      <td>6.317</td>\n",
       "      <td>7.833</td>\n",
       "      <td>91.017</td>\n",
       "      <td>19</td>\n",
       "      <td>50</td>\n",
       "    </tr>\n",
       "    <tr>\n",
       "      <th>1</th>\n",
       "      <td>1</td>\n",
       "      <td>38</td>\n",
       "      <td>500</td>\n",
       "      <td>200</td>\n",
       "      <td>19.133</td>\n",
       "      <td>20.217</td>\n",
       "      <td>65.500</td>\n",
       "      <td>8</td>\n",
       "      <td>13</td>\n",
       "    </tr>\n",
       "    <tr>\n",
       "      <th>2</th>\n",
       "      <td>0</td>\n",
       "      <td>39</td>\n",
       "      <td>400</td>\n",
       "      <td>200</td>\n",
       "      <td>7.600</td>\n",
       "      <td>8.350</td>\n",
       "      <td>45.283</td>\n",
       "      <td>36</td>\n",
       "      <td>21</td>\n",
       "    </tr>\n",
       "    <tr>\n",
       "      <th>3</th>\n",
       "      <td>1</td>\n",
       "      <td>46</td>\n",
       "      <td>100</td>\n",
       "      <td>200</td>\n",
       "      <td>6.917</td>\n",
       "      <td>7.967</td>\n",
       "      <td>62.483</td>\n",
       "      <td>55</td>\n",
       "      <td>58</td>\n",
       "    </tr>\n",
       "    <tr>\n",
       "      <th>4</th>\n",
       "      <td>1</td>\n",
       "      <td>37</td>\n",
       "      <td>700</td>\n",
       "      <td>200</td>\n",
       "      <td>10.667</td>\n",
       "      <td>12.517</td>\n",
       "      <td>110.833</td>\n",
       "      <td>40</td>\n",
       "      <td>31</td>\n",
       "    </tr>\n",
       "  </tbody>\n",
       "</table>\n",
       "</div>"
      ],
      "text/plain": [
       "   Male  Age  PurposeCode  MainModeCode  DepartureTime  ArrivalTime  \\\n",
       "0     1   46          800           410          6.317        7.833   \n",
       "1     1   38          500           200         19.133       20.217   \n",
       "2     0   39          400           200          7.600        8.350   \n",
       "3     1   46          100           200          6.917        7.967   \n",
       "4     1   37          700           200         10.667       12.517   \n",
       "\n",
       "   TripDurationSec  DepartureTime1  ArrivalTime1  \n",
       "0           91.017              19            50  \n",
       "1           65.500               8            13  \n",
       "2           45.283              36            21  \n",
       "3           62.483              55            58  \n",
       "4          110.833              40            31  "
      ]
     },
     "execution_count": 16,
     "metadata": {},
     "output_type": "execute_result"
    }
   ],
   "source": [
    "pp_data.head()"
   ]
  },
  {
   "cell_type": "code",
   "execution_count": 17,
   "metadata": {},
   "outputs": [
    {
     "data": {
      "text/html": [
       "<div>\n",
       "<style scoped>\n",
       "    .dataframe tbody tr th:only-of-type {\n",
       "        vertical-align: middle;\n",
       "    }\n",
       "\n",
       "    .dataframe tbody tr th {\n",
       "        vertical-align: top;\n",
       "    }\n",
       "\n",
       "    .dataframe thead th {\n",
       "        text-align: right;\n",
       "    }\n",
       "</style>\n",
       "<table border=\"1\" class=\"dataframe\">\n",
       "  <thead>\n",
       "    <tr style=\"text-align: right;\">\n",
       "      <th></th>\n",
       "      <th>Male</th>\n",
       "      <th>Age</th>\n",
       "      <th>PurposeCode</th>\n",
       "      <th>MainModeCode</th>\n",
       "      <th>DepartureTime</th>\n",
       "      <th>ArrivalTime</th>\n",
       "      <th>TripDurationSec</th>\n",
       "    </tr>\n",
       "  </thead>\n",
       "  <tbody>\n",
       "    <tr>\n",
       "      <th>0</th>\n",
       "      <td>1</td>\n",
       "      <td>46</td>\n",
       "      <td>800</td>\n",
       "      <td>410</td>\n",
       "      <td>6.317</td>\n",
       "      <td>7.833</td>\n",
       "      <td>91.017</td>\n",
       "    </tr>\n",
       "    <tr>\n",
       "      <th>1</th>\n",
       "      <td>1</td>\n",
       "      <td>38</td>\n",
       "      <td>500</td>\n",
       "      <td>200</td>\n",
       "      <td>19.133</td>\n",
       "      <td>20.217</td>\n",
       "      <td>65.500</td>\n",
       "    </tr>\n",
       "    <tr>\n",
       "      <th>2</th>\n",
       "      <td>0</td>\n",
       "      <td>39</td>\n",
       "      <td>400</td>\n",
       "      <td>200</td>\n",
       "      <td>7.600</td>\n",
       "      <td>8.350</td>\n",
       "      <td>45.283</td>\n",
       "    </tr>\n",
       "    <tr>\n",
       "      <th>3</th>\n",
       "      <td>1</td>\n",
       "      <td>46</td>\n",
       "      <td>100</td>\n",
       "      <td>200</td>\n",
       "      <td>6.917</td>\n",
       "      <td>7.967</td>\n",
       "      <td>62.483</td>\n",
       "    </tr>\n",
       "    <tr>\n",
       "      <th>4</th>\n",
       "      <td>1</td>\n",
       "      <td>37</td>\n",
       "      <td>700</td>\n",
       "      <td>200</td>\n",
       "      <td>10.667</td>\n",
       "      <td>12.517</td>\n",
       "      <td>110.833</td>\n",
       "    </tr>\n",
       "  </tbody>\n",
       "</table>\n",
       "</div>"
      ],
      "text/plain": [
       "   Male  Age  PurposeCode  MainModeCode  DepartureTime  ArrivalTime  \\\n",
       "0     1   46          800           410          6.317        7.833   \n",
       "1     1   38          500           200         19.133       20.217   \n",
       "2     0   39          400           200          7.600        8.350   \n",
       "3     1   46          100           200          6.917        7.967   \n",
       "4     1   37          700           200         10.667       12.517   \n",
       "\n",
       "   TripDurationSec  \n",
       "0           91.017  \n",
       "1           65.500  \n",
       "2           45.283  \n",
       "3           62.483  \n",
       "4          110.833  "
      ]
     },
     "execution_count": 17,
     "metadata": {},
     "output_type": "execute_result"
    }
   ],
   "source": [
    "pp_data = pp_data.drop([\"DepartureTime1\", \"ArrivalTime1\"], axis =1)\n",
    "pp_data.head()"
   ]
  },
  {
   "cell_type": "code",
   "execution_count": 18,
   "metadata": {},
   "outputs": [
    {
     "data": {
      "text/plain": [
       "array([[<matplotlib.axes._subplots.AxesSubplot object at 0x7f3f758a4518>]],\n",
       "      dtype=object)"
      ]
     },
     "execution_count": 18,
     "metadata": {},
     "output_type": "execute_result"
    },
    {
     "data": {
      "image/png": "[encoded data removed]",
      "text/plain": [
       "<Figure size 432x288 with 1 Axes>"
      ]
     },
     "metadata": {},
     "output_type": "display_data"
    }
   ],
   "source": [
    "pp_data.hist(column='DepartureTime')"
   ]
  },
  {
   "cell_type": "code",
   "execution_count": 19,
   "metadata": {},
   "outputs": [
    {
     "data": {
      "text/plain": [
       "array([[<matplotlib.axes._subplots.AxesSubplot object at 0x7f3f6f9e49e8>]],\n",
       "      dtype=object)"
      ]
     },
     "execution_count": 19,
     "metadata": {},
     "output_type": "execute_result"
    },
    {
     "data": {
      "image/png": "[encoded data removed]",
      "text/plain": [
       "<Figure size 432x288 with 1 Axes>"
      ]
     },
     "metadata": {},
     "output_type": "display_data"
    }
   ],
   "source": [
    "pp_data.hist(column='ArrivalTime')"
   ]
  },
  {
   "cell_type": "code",
   "execution_count": 20,
   "metadata": {},
   "outputs": [
    {
     "data": {
      "text/plain": [
       "array([[<matplotlib.axes._subplots.AxesSubplot object at 0x7f3f6f94cac8>]],\n",
       "      dtype=object)"
      ]
     },
     "execution_count": 20,
     "metadata": {},
     "output_type": "execute_result"
    },
    {
     "data": {
      "image/png": "[encoded data removed]",
      "text/plain": [
       "<Figure size 432x288 with 1 Axes>"
      ]
     },
     "metadata": {},
     "output_type": "display_data"
    }
   ],
   "source": [
    "pp_data.hist(column='TripDurationSec')"
   ]
  },
  {
   "cell_type": "code",
   "execution_count": 21,
   "metadata": {},
   "outputs": [
    {
     "data": {
      "text/plain": [
       "array([[<matplotlib.axes._subplots.AxesSubplot object at 0x7f3f6f929128>]],\n",
       "      dtype=object)"
      ]
     },
     "execution_count": 21,
     "metadata": {},
     "output_type": "execute_result"
    },
    {
     "data": {
      "image/png": "[encoded data removed]",
      "text/plain": [
       "<Figure size 432x288 with 1 Axes>"
      ]
     },
     "metadata": {},
     "output_type": "display_data"
    }
   ],
   "source": [
    "pp_data.hist(column='Age')"
   ]
  },
  {
   "cell_type": "code",
   "execution_count": 22,
   "metadata": {},
   "outputs": [],
   "source": [
    "# import numpy as np\n",
    "\n",
    "\n",
    "# pt_data['Stime'] = np.where((pt_data['Stime'].between(time[0], time[1], inclusive=True)), 100, pt_data['Stime'])\n",
    "# pt_data['Stime'] = np.where((pt_data['Stime'].between(time[1], time[2], inclusive=True)), 101, pt_data['Stime'])\n",
    "# pt_data['Stime'] = np.where((pt_data['Stime'].between(time[2], time[3], inclusive=True)), 102, pt_data['Stime'])\n",
    "# pt_data['Stime'] = np.where((pt_data['Stime'].between(time[3], time[4], inclusive=True)), 103, pt_data['Stime'])\n",
    "# pt_data['Stime'] = np.where((pt_data['Stime'].between(time[4], time[5], inclusive=True)), 104, pt_data['Stime'])\n",
    "# pt_data['Stime'] = np.where((pt_data['Stime'].between(time[6], time[0], inclusive=True)), 104, pt_data['Stime'])\n",
    "\n",
    "# pt_data['Stime_1'] = np.where(pt_data['Stime'] > 0, 5, pt_data['Stime'])\n",
    "# pt_data['Stime_1'] = np.where(pt_data['Stime'] > 5, 1, pt_data['Stime'])\n",
    "# pt_data['Stime_1'] = np.where(pt_data['Stime'] > 9, 2, pt_data['Stime'])\n",
    "# pt_data['Stime_1'] = np.where(pt_data['Stime'] > 14, 3, pt_data['Stime'])\n",
    "# pt_data['Stime_1'] = np.where(pt_data['Stime'] > 18, 4, pt_data['Stime'])\n",
    "# pt_data['Stime_1'] = np.where(pt_data['Stime'] > 22, 5, pt_data['Stime'])"
   ]
  },
  {
   "cell_type": "code",
   "execution_count": 23,
   "metadata": {},
   "outputs": [],
   "source": [
    "pp_data['PurposeCode'] = np.where(pp_data['PurposeCode'] == 100, 2000, pp_data['PurposeCode'])\n",
    "pp_data['PurposeCode'] = np.where(pp_data['PurposeCode'] == 300, 2000, pp_data['PurposeCode'])\n",
    "pp_data['PurposeCode'] = np.where(pp_data['PurposeCode'] == 400, 2000, pp_data['PurposeCode'])\n",
    "\n",
    "pp_data['PurposeCode'] = np.where(pp_data['PurposeCode'] == 200, 2010, pp_data['PurposeCode'])\n",
    "\n",
    "pp_data['PurposeCode'] = np.where(pp_data['PurposeCode'] == 500, 2020, pp_data['PurposeCode'])\n",
    "\n",
    "pp_data['PurposeCode'] = np.where(pp_data['PurposeCode'] == 600, 2030, pp_data['PurposeCode'])\n",
    "pp_data['PurposeCode'] = np.where(pp_data['PurposeCode'] == 700, 2030, pp_data['PurposeCode'])\n",
    "pp_data['PurposeCode'] = np.where(pp_data['PurposeCode'] == 800, 2030, pp_data['PurposeCode'])\n",
    "pp_data['PurposeCode'] = np.where(pp_data['PurposeCode'] == 900, 2030, pp_data['PurposeCode'])\n",
    "\n",
    "pp_data['PurposeCode'] = np.where(pp_data['PurposeCode'] == 910, 2040, pp_data['PurposeCode'])\n",
    "pp_data['PurposeCode'] = np.where(pp_data['PurposeCode'] == 999, 2040, pp_data['PurposeCode'])                                                            "
   ]
  },
  {
   "cell_type": "code",
   "execution_count": 24,
   "metadata": {},
   "outputs": [],
   "source": [
    "pp_data['MainModeCode'] = np.where(pp_data['MainModeCode'] == 200, 4000, pp_data['MainModeCode'])\n",
    "pp_data['MainModeCode'] = np.where(pp_data['MainModeCode'] == 240, 4000, pp_data['MainModeCode'])\n",
    "\n",
    "pp_data['MainModeCode'] = np.where(pp_data['MainModeCode'] == 100, 4010, pp_data['MainModeCode'])\n",
    "pp_data['MainModeCode'] = np.where(pp_data['MainModeCode'] == 300, 4010, pp_data['MainModeCode'])\n",
    "\n",
    "pp_data['MainModeCode'] = np.where(pp_data['MainModeCode'] == 410, 4020, pp_data['MainModeCode'])\n",
    "\n",
    "pp_data['MainModeCode'] = np.where(pp_data['MainModeCode'] == 420, 4030, pp_data['MainModeCode'])\n"
   ]
  },
  {
   "cell_type": "code",
   "execution_count": 25,
   "metadata": {},
   "outputs": [],
   "source": [
    "pp_data = pp_data[pp_data.MainModeCode != 500]\n",
    "pp_data = pp_data[pp_data.MainModeCode != 600]\n",
    "pp_data = pp_data[pp_data.MainModeCode != 700]\n",
    "pp_data = pp_data[pp_data.MainModeCode != 800]\n",
    "pp_data = pp_data[pp_data.MainModeCode != 999]"
   ]
  },
  {
   "cell_type": "code",
   "execution_count": 26,
   "metadata": {},
   "outputs": [
    {
     "name": "stdout",
     "output_type": "stream",
     "text": [
      "1502\n"
     ]
    }
   ],
   "source": [
    "print(len(pp_data))"
   ]
  },
  {
   "cell_type": "code",
   "execution_count": 27,
   "metadata": {},
   "outputs": [
    {
     "data": {
      "text/html": [
       "<div>\n",
       "<style scoped>\n",
       "    .dataframe tbody tr th:only-of-type {\n",
       "        vertical-align: middle;\n",
       "    }\n",
       "\n",
       "    .dataframe tbody tr th {\n",
       "        vertical-align: top;\n",
       "    }\n",
       "\n",
       "    .dataframe thead th {\n",
       "        text-align: right;\n",
       "    }\n",
       "</style>\n",
       "<table border=\"1\" class=\"dataframe\">\n",
       "  <thead>\n",
       "    <tr style=\"text-align: right;\">\n",
       "      <th></th>\n",
       "      <th>Male</th>\n",
       "      <th>Age</th>\n",
       "      <th>PurposeCode</th>\n",
       "      <th>MainModeCode</th>\n",
       "      <th>DepartureTime</th>\n",
       "      <th>ArrivalTime</th>\n",
       "      <th>TripDurationSec</th>\n",
       "    </tr>\n",
       "  </thead>\n",
       "  <tbody>\n",
       "    <tr>\n",
       "      <th>0</th>\n",
       "      <td>1</td>\n",
       "      <td>46</td>\n",
       "      <td>2030</td>\n",
       "      <td>4020</td>\n",
       "      <td>6.317</td>\n",
       "      <td>7.833</td>\n",
       "      <td>91.017</td>\n",
       "    </tr>\n",
       "    <tr>\n",
       "      <th>1</th>\n",
       "      <td>1</td>\n",
       "      <td>38</td>\n",
       "      <td>2020</td>\n",
       "      <td>4000</td>\n",
       "      <td>19.133</td>\n",
       "      <td>20.217</td>\n",
       "      <td>65.500</td>\n",
       "    </tr>\n",
       "    <tr>\n",
       "      <th>2</th>\n",
       "      <td>0</td>\n",
       "      <td>39</td>\n",
       "      <td>2000</td>\n",
       "      <td>4000</td>\n",
       "      <td>7.600</td>\n",
       "      <td>8.350</td>\n",
       "      <td>45.283</td>\n",
       "    </tr>\n",
       "    <tr>\n",
       "      <th>3</th>\n",
       "      <td>1</td>\n",
       "      <td>46</td>\n",
       "      <td>2000</td>\n",
       "      <td>4000</td>\n",
       "      <td>6.917</td>\n",
       "      <td>7.967</td>\n",
       "      <td>62.483</td>\n",
       "    </tr>\n",
       "    <tr>\n",
       "      <th>4</th>\n",
       "      <td>1</td>\n",
       "      <td>37</td>\n",
       "      <td>2030</td>\n",
       "      <td>4000</td>\n",
       "      <td>10.667</td>\n",
       "      <td>12.517</td>\n",
       "      <td>110.833</td>\n",
       "    </tr>\n",
       "  </tbody>\n",
       "</table>\n",
       "</div>"
      ],
      "text/plain": [
       "   Male  Age  PurposeCode  MainModeCode  DepartureTime  ArrivalTime  \\\n",
       "0     1   46         2030          4020          6.317        7.833   \n",
       "1     1   38         2020          4000         19.133       20.217   \n",
       "2     0   39         2000          4000          7.600        8.350   \n",
       "3     1   46         2000          4000          6.917        7.967   \n",
       "4     1   37         2030          4000         10.667       12.517   \n",
       "\n",
       "   TripDurationSec  \n",
       "0           91.017  \n",
       "1           65.500  \n",
       "2           45.283  \n",
       "3           62.483  \n",
       "4          110.833  "
      ]
     },
     "execution_count": 27,
     "metadata": {},
     "output_type": "execute_result"
    }
   ],
   "source": [
    "pp_data.head()"
   ]
  },
  {
   "cell_type": "code",
   "execution_count": 28,
   "metadata": {},
   "outputs": [],
   "source": [
    "pp_data['Age'] = np.where((pp_data['Age'].between(5, 9, inclusive=True)), 1, pp_data['Age'])\n",
    "pp_data['Age'] = np.where((pp_data['Age'].between(10, 14, inclusive=True)), 2, pp_data['Age'])\n",
    "pp_data['Age'] = np.where((pp_data['Age'].between(15, 19, inclusive=True)), 3, pp_data['Age'])\n",
    "pp_data['Age'] = np.where((pp_data['Age'].between(20, 24, inclusive=True)), 4, pp_data['Age'])\n",
    "pp_data['Age'] = np.where((pp_data['Age'].between(25, 29, inclusive=True)), 5, pp_data['Age'])\n",
    "pp_data['Age'] = np.where((pp_data['Age'].between(30, 34, inclusive=True)), 6, pp_data['Age'])\n",
    "pp_data['Age'] = np.where((pp_data['Age'].between(35, 39, inclusive=True)), 7, pp_data['Age'])\n",
    "pp_data['Age'] = np.where((pp_data['Age'].between(40, 44, inclusive=True)), 8, pp_data['Age'])\n",
    "pp_data['Age'] = np.where((pp_data['Age'].between(45, 49, inclusive=True)), 9, pp_data['Age'])\n",
    "pp_data['Age'] = np.where((pp_data['Age'].between(50, 54, inclusive=True)), 10, pp_data['Age'])\n",
    "pp_data['Age'] = np.where((pp_data['Age'].between(55, 59, inclusive=True)), 11, pp_data['Age'])\n",
    "pp_data['Age'] = np.where((pp_data['Age'].between(60, 64, inclusive=True)), 12, pp_data['Age'])\n",
    "pp_data['Age'] = np.where((pp_data['Age'].between(65, 69, inclusive=True)), 13, pp_data['Age'])\n",
    "pp_data['Age'] = np.where((pp_data['Age'].between(70, 74, inclusive=True)), 14, pp_data['Age'])\n",
    "pp_data['Age'] = np.where((pp_data['Age'].between(75, 79, inclusive=True)), 15, pp_data['Age'])\n",
    "pp_data['Age'] = np.where((pp_data['Age'].between(80, 84, inclusive=True)), 16, pp_data['Age'])\n",
    "pp_data['Age'] = np.where((pp_data['Age'].between(85, 120, inclusive=True)), 17, pp_data['Age'])"
   ]
  },
  {
   "cell_type": "code",
   "execution_count": 29,
   "metadata": {},
   "outputs": [
    {
     "data": {
      "text/html": [
       "<div>\n",
       "<style scoped>\n",
       "    .dataframe tbody tr th:only-of-type {\n",
       "        vertical-align: middle;\n",
       "    }\n",
       "\n",
       "    .dataframe tbody tr th {\n",
       "        vertical-align: top;\n",
       "    }\n",
       "\n",
       "    .dataframe thead th {\n",
       "        text-align: right;\n",
       "    }\n",
       "</style>\n",
       "<table border=\"1\" class=\"dataframe\">\n",
       "  <thead>\n",
       "    <tr style=\"text-align: right;\">\n",
       "      <th></th>\n",
       "      <th>Male</th>\n",
       "      <th>Age</th>\n",
       "      <th>PurposeCode</th>\n",
       "      <th>MainModeCode</th>\n",
       "      <th>DepartureTime</th>\n",
       "      <th>ArrivalTime</th>\n",
       "      <th>TripDurationSec</th>\n",
       "    </tr>\n",
       "  </thead>\n",
       "  <tbody>\n",
       "    <tr>\n",
       "      <th>0</th>\n",
       "      <td>1</td>\n",
       "      <td>9</td>\n",
       "      <td>2030</td>\n",
       "      <td>4020</td>\n",
       "      <td>6.317</td>\n",
       "      <td>7.833</td>\n",
       "      <td>91.017</td>\n",
       "    </tr>\n",
       "    <tr>\n",
       "      <th>1</th>\n",
       "      <td>1</td>\n",
       "      <td>7</td>\n",
       "      <td>2020</td>\n",
       "      <td>4000</td>\n",
       "      <td>19.133</td>\n",
       "      <td>20.217</td>\n",
       "      <td>65.500</td>\n",
       "    </tr>\n",
       "    <tr>\n",
       "      <th>2</th>\n",
       "      <td>0</td>\n",
       "      <td>7</td>\n",
       "      <td>2000</td>\n",
       "      <td>4000</td>\n",
       "      <td>7.600</td>\n",
       "      <td>8.350</td>\n",
       "      <td>45.283</td>\n",
       "    </tr>\n",
       "    <tr>\n",
       "      <th>3</th>\n",
       "      <td>1</td>\n",
       "      <td>9</td>\n",
       "      <td>2000</td>\n",
       "      <td>4000</td>\n",
       "      <td>6.917</td>\n",
       "      <td>7.967</td>\n",
       "      <td>62.483</td>\n",
       "    </tr>\n",
       "    <tr>\n",
       "      <th>4</th>\n",
       "      <td>1</td>\n",
       "      <td>7</td>\n",
       "      <td>2030</td>\n",
       "      <td>4000</td>\n",
       "      <td>10.667</td>\n",
       "      <td>12.517</td>\n",
       "      <td>110.833</td>\n",
       "    </tr>\n",
       "  </tbody>\n",
       "</table>\n",
       "</div>"
      ],
      "text/plain": [
       "   Male  Age  PurposeCode  MainModeCode  DepartureTime  ArrivalTime  \\\n",
       "0     1    9         2030          4020          6.317        7.833   \n",
       "1     1    7         2020          4000         19.133       20.217   \n",
       "2     0    7         2000          4000          7.600        8.350   \n",
       "3     1    9         2000          4000          6.917        7.967   \n",
       "4     1    7         2030          4000         10.667       12.517   \n",
       "\n",
       "   TripDurationSec  \n",
       "0           91.017  \n",
       "1           65.500  \n",
       "2           45.283  \n",
       "3           62.483  \n",
       "4          110.833  "
      ]
     },
     "execution_count": 29,
     "metadata": {},
     "output_type": "execute_result"
    }
   ],
   "source": [
    "pp_data.head()"
   ]
  },
  {
   "cell_type": "code",
   "execution_count": 30,
   "metadata": {},
   "outputs": [],
   "source": [
    "# pt_data.to_csv(\"final_pt_data.csv\")"
   ]
  },
  {
   "cell_type": "code",
   "execution_count": 31,
   "metadata": {},
   "outputs": [],
   "source": [
    "###dummy data for all the categorical variables\n",
    "\n",
    "features = pp_data.drop([\"MainModeCode\"], axis = 1)\n",
    "# features = pp_data"
   ]
  },
  {
   "cell_type": "code",
   "execution_count": 32,
   "metadata": {},
   "outputs": [
    {
     "data": {
      "text/html": [
       "<div>\n",
       "<style scoped>\n",
       "    .dataframe tbody tr th:only-of-type {\n",
       "        vertical-align: middle;\n",
       "    }\n",
       "\n",
       "    .dataframe tbody tr th {\n",
       "        vertical-align: top;\n",
       "    }\n",
       "\n",
       "    .dataframe thead th {\n",
       "        text-align: right;\n",
       "    }\n",
       "</style>\n",
       "<table border=\"1\" class=\"dataframe\">\n",
       "  <thead>\n",
       "    <tr style=\"text-align: right;\">\n",
       "      <th></th>\n",
       "      <th>Male</th>\n",
       "      <th>Age</th>\n",
       "      <th>PurposeCode</th>\n",
       "      <th>DepartureTime</th>\n",
       "      <th>ArrivalTime</th>\n",
       "      <th>TripDurationSec</th>\n",
       "    </tr>\n",
       "  </thead>\n",
       "  <tbody>\n",
       "    <tr>\n",
       "      <th>0</th>\n",
       "      <td>1</td>\n",
       "      <td>9</td>\n",
       "      <td>2030</td>\n",
       "      <td>6.317</td>\n",
       "      <td>7.833</td>\n",
       "      <td>91.017</td>\n",
       "    </tr>\n",
       "    <tr>\n",
       "      <th>1</th>\n",
       "      <td>1</td>\n",
       "      <td>7</td>\n",
       "      <td>2020</td>\n",
       "      <td>19.133</td>\n",
       "      <td>20.217</td>\n",
       "      <td>65.500</td>\n",
       "    </tr>\n",
       "    <tr>\n",
       "      <th>2</th>\n",
       "      <td>0</td>\n",
       "      <td>7</td>\n",
       "      <td>2000</td>\n",
       "      <td>7.600</td>\n",
       "      <td>8.350</td>\n",
       "      <td>45.283</td>\n",
       "    </tr>\n",
       "    <tr>\n",
       "      <th>3</th>\n",
       "      <td>1</td>\n",
       "      <td>9</td>\n",
       "      <td>2000</td>\n",
       "      <td>6.917</td>\n",
       "      <td>7.967</td>\n",
       "      <td>62.483</td>\n",
       "    </tr>\n",
       "    <tr>\n",
       "      <th>4</th>\n",
       "      <td>1</td>\n",
       "      <td>7</td>\n",
       "      <td>2030</td>\n",
       "      <td>10.667</td>\n",
       "      <td>12.517</td>\n",
       "      <td>110.833</td>\n",
       "    </tr>\n",
       "  </tbody>\n",
       "</table>\n",
       "</div>"
      ],
      "text/plain": [
       "   Male  Age  PurposeCode  DepartureTime  ArrivalTime  TripDurationSec\n",
       "0     1    9         2030          6.317        7.833           91.017\n",
       "1     1    7         2020         19.133       20.217           65.500\n",
       "2     0    7         2000          7.600        8.350           45.283\n",
       "3     1    9         2000          6.917        7.967           62.483\n",
       "4     1    7         2030         10.667       12.517          110.833"
      ]
     },
     "execution_count": 32,
     "metadata": {},
     "output_type": "execute_result"
    }
   ],
   "source": [
    "features.head()"
   ]
  },
  {
   "cell_type": "code",
   "execution_count": 33,
   "metadata": {},
   "outputs": [],
   "source": [
    "features = features.astype({\"Male\": \"category\", \"Age\":\"category\", \"PurposeCode\" : \"category\"})"
   ]
  },
  {
   "cell_type": "code",
   "execution_count": 34,
   "metadata": {},
   "outputs": [
    {
     "data": {
      "text/plain": [
       "Male               category\n",
       "Age                category\n",
       "PurposeCode        category\n",
       "DepartureTime       float64\n",
       "ArrivalTime         float64\n",
       "TripDurationSec     float64\n",
       "dtype: object"
      ]
     },
     "execution_count": 34,
     "metadata": {},
     "output_type": "execute_result"
    }
   ],
   "source": [
    "features.dtypes"
   ]
  },
  {
   "cell_type": "code",
   "execution_count": 35,
   "metadata": {},
   "outputs": [
    {
     "data": {
      "text/html": [
       "<div>\n",
       "<style scoped>\n",
       "    .dataframe tbody tr th:only-of-type {\n",
       "        vertical-align: middle;\n",
       "    }\n",
       "\n",
       "    .dataframe tbody tr th {\n",
       "        vertical-align: top;\n",
       "    }\n",
       "\n",
       "    .dataframe thead th {\n",
       "        text-align: right;\n",
       "    }\n",
       "</style>\n",
       "<table border=\"1\" class=\"dataframe\">\n",
       "  <thead>\n",
       "    <tr style=\"text-align: right;\">\n",
       "      <th></th>\n",
       "      <th>Male</th>\n",
       "      <th>Age</th>\n",
       "      <th>PurposeCode</th>\n",
       "      <th>DepartureTime</th>\n",
       "      <th>ArrivalTime</th>\n",
       "      <th>TripDurationSec</th>\n",
       "    </tr>\n",
       "  </thead>\n",
       "  <tbody>\n",
       "    <tr>\n",
       "      <th>0</th>\n",
       "      <td>1</td>\n",
       "      <td>9</td>\n",
       "      <td>2030</td>\n",
       "      <td>6.317</td>\n",
       "      <td>7.833</td>\n",
       "      <td>91.017</td>\n",
       "    </tr>\n",
       "    <tr>\n",
       "      <th>1</th>\n",
       "      <td>1</td>\n",
       "      <td>7</td>\n",
       "      <td>2020</td>\n",
       "      <td>19.133</td>\n",
       "      <td>20.217</td>\n",
       "      <td>65.500</td>\n",
       "    </tr>\n",
       "    <tr>\n",
       "      <th>2</th>\n",
       "      <td>0</td>\n",
       "      <td>7</td>\n",
       "      <td>2000</td>\n",
       "      <td>7.600</td>\n",
       "      <td>8.350</td>\n",
       "      <td>45.283</td>\n",
       "    </tr>\n",
       "    <tr>\n",
       "      <th>3</th>\n",
       "      <td>1</td>\n",
       "      <td>9</td>\n",
       "      <td>2000</td>\n",
       "      <td>6.917</td>\n",
       "      <td>7.967</td>\n",
       "      <td>62.483</td>\n",
       "    </tr>\n",
       "    <tr>\n",
       "      <th>4</th>\n",
       "      <td>1</td>\n",
       "      <td>7</td>\n",
       "      <td>2030</td>\n",
       "      <td>10.667</td>\n",
       "      <td>12.517</td>\n",
       "      <td>110.833</td>\n",
       "    </tr>\n",
       "  </tbody>\n",
       "</table>\n",
       "</div>"
      ],
      "text/plain": [
       "  Male Age PurposeCode  DepartureTime  ArrivalTime  TripDurationSec\n",
       "0    1   9        2030          6.317        7.833           91.017\n",
       "1    1   7        2020         19.133       20.217           65.500\n",
       "2    0   7        2000          7.600        8.350           45.283\n",
       "3    1   9        2000          6.917        7.967           62.483\n",
       "4    1   7        2030         10.667       12.517          110.833"
      ]
     },
     "execution_count": 35,
     "metadata": {},
     "output_type": "execute_result"
    }
   ],
   "source": [
    "features.head()"
   ]
  },
  {
   "cell_type": "code",
   "execution_count": 36,
   "metadata": {},
   "outputs": [],
   "source": [
    "features = pd.get_dummies(features)"
   ]
  },
  {
   "cell_type": "code",
   "execution_count": 37,
   "metadata": {},
   "outputs": [
    {
     "data": {
      "text/html": [
       "<div>\n",
       "<style scoped>\n",
       "    .dataframe tbody tr th:only-of-type {\n",
       "        vertical-align: middle;\n",
       "    }\n",
       "\n",
       "    .dataframe tbody tr th {\n",
       "        vertical-align: top;\n",
       "    }\n",
       "\n",
       "    .dataframe thead th {\n",
       "        text-align: right;\n",
       "    }\n",
       "</style>\n",
       "<table border=\"1\" class=\"dataframe\">\n",
       "  <thead>\n",
       "    <tr style=\"text-align: right;\">\n",
       "      <th></th>\n",
       "      <th>DepartureTime</th>\n",
       "      <th>ArrivalTime</th>\n",
       "      <th>TripDurationSec</th>\n",
       "      <th>Male_0</th>\n",
       "      <th>Male_1</th>\n",
       "      <th>Age_0</th>\n",
       "      <th>Age_5</th>\n",
       "      <th>Age_6</th>\n",
       "      <th>Age_7</th>\n",
       "      <th>Age_8</th>\n",
       "      <th>Age_9</th>\n",
       "      <th>Age_10</th>\n",
       "      <th>PurposeCode_2000</th>\n",
       "      <th>PurposeCode_2010</th>\n",
       "      <th>PurposeCode_2020</th>\n",
       "      <th>PurposeCode_2030</th>\n",
       "      <th>PurposeCode_2040</th>\n",
       "    </tr>\n",
       "  </thead>\n",
       "  <tbody>\n",
       "    <tr>\n",
       "      <th>0</th>\n",
       "      <td>6.317</td>\n",
       "      <td>7.833</td>\n",
       "      <td>91.017</td>\n",
       "      <td>0</td>\n",
       "      <td>1</td>\n",
       "      <td>0</td>\n",
       "      <td>0</td>\n",
       "      <td>0</td>\n",
       "      <td>0</td>\n",
       "      <td>0</td>\n",
       "      <td>1</td>\n",
       "      <td>0</td>\n",
       "      <td>0</td>\n",
       "      <td>0</td>\n",
       "      <td>0</td>\n",
       "      <td>1</td>\n",
       "      <td>0</td>\n",
       "    </tr>\n",
       "    <tr>\n",
       "      <th>1</th>\n",
       "      <td>19.133</td>\n",
       "      <td>20.217</td>\n",
       "      <td>65.500</td>\n",
       "      <td>0</td>\n",
       "      <td>1</td>\n",
       "      <td>0</td>\n",
       "      <td>0</td>\n",
       "      <td>0</td>\n",
       "      <td>1</td>\n",
       "      <td>0</td>\n",
       "      <td>0</td>\n",
       "      <td>0</td>\n",
       "      <td>0</td>\n",
       "      <td>0</td>\n",
       "      <td>1</td>\n",
       "      <td>0</td>\n",
       "      <td>0</td>\n",
       "    </tr>\n",
       "    <tr>\n",
       "      <th>2</th>\n",
       "      <td>7.600</td>\n",
       "      <td>8.350</td>\n",
       "      <td>45.283</td>\n",
       "      <td>1</td>\n",
       "      <td>0</td>\n",
       "      <td>0</td>\n",
       "      <td>0</td>\n",
       "      <td>0</td>\n",
       "      <td>1</td>\n",
       "      <td>0</td>\n",
       "      <td>0</td>\n",
       "      <td>0</td>\n",
       "      <td>1</td>\n",
       "      <td>0</td>\n",
       "      <td>0</td>\n",
       "      <td>0</td>\n",
       "      <td>0</td>\n",
       "    </tr>\n",
       "    <tr>\n",
       "      <th>3</th>\n",
       "      <td>6.917</td>\n",
       "      <td>7.967</td>\n",
       "      <td>62.483</td>\n",
       "      <td>0</td>\n",
       "      <td>1</td>\n",
       "      <td>0</td>\n",
       "      <td>0</td>\n",
       "      <td>0</td>\n",
       "      <td>0</td>\n",
       "      <td>0</td>\n",
       "      <td>1</td>\n",
       "      <td>0</td>\n",
       "      <td>1</td>\n",
       "      <td>0</td>\n",
       "      <td>0</td>\n",
       "      <td>0</td>\n",
       "      <td>0</td>\n",
       "    </tr>\n",
       "    <tr>\n",
       "      <th>4</th>\n",
       "      <td>10.667</td>\n",
       "      <td>12.517</td>\n",
       "      <td>110.833</td>\n",
       "      <td>0</td>\n",
       "      <td>1</td>\n",
       "      <td>0</td>\n",
       "      <td>0</td>\n",
       "      <td>0</td>\n",
       "      <td>1</td>\n",
       "      <td>0</td>\n",
       "      <td>0</td>\n",
       "      <td>0</td>\n",
       "      <td>0</td>\n",
       "      <td>0</td>\n",
       "      <td>0</td>\n",
       "      <td>1</td>\n",
       "      <td>0</td>\n",
       "    </tr>\n",
       "  </tbody>\n",
       "</table>\n",
       "</div>"
      ],
      "text/plain": [
       "   DepartureTime  ArrivalTime  TripDurationSec  Male_0  Male_1  Age_0  Age_5  \\\n",
       "0          6.317        7.833           91.017       0       1      0      0   \n",
       "1         19.133       20.217           65.500       0       1      0      0   \n",
       "2          7.600        8.350           45.283       1       0      0      0   \n",
       "3          6.917        7.967           62.483       0       1      0      0   \n",
       "4         10.667       12.517          110.833       0       1      0      0   \n",
       "\n",
       "   Age_6  Age_7  Age_8  Age_9  Age_10  PurposeCode_2000  PurposeCode_2010  \\\n",
       "0      0      0      0      1       0                 0                 0   \n",
       "1      0      1      0      0       0                 0                 0   \n",
       "2      0      1      0      0       0                 1                 0   \n",
       "3      0      0      0      1       0                 1                 0   \n",
       "4      0      1      0      0       0                 0                 0   \n",
       "\n",
       "   PurposeCode_2020  PurposeCode_2030  PurposeCode_2040  \n",
       "0                 0                 1                 0  \n",
       "1                 1                 0                 0  \n",
       "2                 0                 0                 0  \n",
       "3                 0                 0                 0  \n",
       "4                 0                 1                 0  "
      ]
     },
     "execution_count": 37,
     "metadata": {},
     "output_type": "execute_result"
    }
   ],
   "source": [
    "features.head()"
   ]
  },
  {
   "cell_type": "code",
   "execution_count": 38,
   "metadata": {},
   "outputs": [
    {
     "data": {
      "text/plain": [
       "Index(['DepartureTime', 'ArrivalTime', 'TripDurationSec', 'Male_0', 'Male_1',\n",
       "       'Age_0', 'Age_5', 'Age_6', 'Age_7', 'Age_8', 'Age_9', 'Age_10',\n",
       "       'PurposeCode_2000', 'PurposeCode_2010', 'PurposeCode_2020',\n",
       "       'PurposeCode_2030', 'PurposeCode_2040'],\n",
       "      dtype='object')"
      ]
     },
     "execution_count": 38,
     "metadata": {},
     "output_type": "execute_result"
    }
   ],
   "source": [
    "features.columns"
   ]
  },
  {
   "cell_type": "code",
   "execution_count": 39,
   "metadata": {},
   "outputs": [],
   "source": [
    "# features.to_csv(\"pp_data_with_dummies.csv\")"
   ]
  },
  {
   "cell_type": "code",
   "execution_count": 40,
   "metadata": {},
   "outputs": [],
   "source": [
    "labels = pp_data[[\"MainModeCode\"]]\n",
    "labels = labels.astype({\"MainModeCode\": \"category\"})"
   ]
  },
  {
   "cell_type": "code",
   "execution_count": 41,
   "metadata": {},
   "outputs": [
    {
     "data": {
      "text/plain": [
       "MainModeCode    category\n",
       "dtype: object"
      ]
     },
     "execution_count": 41,
     "metadata": {},
     "output_type": "execute_result"
    }
   ],
   "source": [
    "labels.dtypes"
   ]
  },
  {
   "cell_type": "code",
   "execution_count": 42,
   "metadata": {},
   "outputs": [],
   "source": [
    "# ####using train_test split\n",
    "from sklearn.model_selection import train_test_split\n",
    "X_train, X_test, y_train, y_test = train_test_split(features, labels, test_size=0.30, random_state=42)"
   ]
  },
  {
   "cell_type": "code",
   "execution_count": 43,
   "metadata": {},
   "outputs": [],
   "source": [
    "from sklearn import preprocessing\n",
    "from sklearn.ensemble import RandomForestClassifier\n",
    "from sklearn.metrics import log_loss\n",
    "from sklearn.metrics import accuracy_score\n",
    "# from sklearn.linear_model import LogisticRegression\n",
    "X_train_ordinal = X_train.values\n",
    "X_test_ordinal = X_test.values\n",
    "# les = []\n",
    "# l = LogisticRegression()\n",
    "r = RandomForestClassifier(n_estimators=25,max_depth=10)"
   ]
  },
  {
   "cell_type": "code",
   "execution_count": 44,
   "metadata": {},
   "outputs": [
    {
     "name": "stdout",
     "output_type": "stream",
     "text": [
      "(1051, 17)\n"
     ]
    }
   ],
   "source": [
    "print(X_train_ordinal.shape)"
   ]
  },
  {
   "cell_type": "code",
   "execution_count": 45,
   "metadata": {},
   "outputs": [
    {
     "name": "stdout",
     "output_type": "stream",
     "text": [
      "[4000 4000 4000 4000 4000 4010 4000 4010 4010 4010 4030 4000 4010 4000\n",
      " 4000 4030 4000 4030 4010 4010 4000 4000 4010 4000 4020 4010 4000 4000\n",
      " 4000 4030 4010 4010 4000 4000 4010 4000 4000 4000 4000 4000 4000 4000\n",
      " 4000 4010 4010 4030 4010 4010 4010 4010 4010 4020 4010 4030 4010 4000\n",
      " 4000 4000 4010 4020 4030 4020 4030 4000 4000 4000 4000 4030 4010 4000\n",
      " 4010 4000 4010 4000 4020 4030 4000 4000 4030 4010 4030 4010 4030 4030\n",
      " 4030 4030 4030 4030 4010 4010 4000 4030 4000 4000 4000 4000 4010 4010\n",
      " 4000 4000 4020 4030 4000 4030 4000 4030 4010 4000 4010 4010 4020 4000\n",
      " 4000 4020 4030 4010 4030 4030 4000 4010 4000 4020 4020 4030 4000 4000\n",
      " 4010 4000 4000 4010 4010 4030 4000 4010 4010 4000 4030 4010 4030 4000\n",
      " 4000 4000 4010 4000 4020 4010 4000 4030 4010 4000 4000 4010 4020 4000\n",
      " 4000 4010 4010 4010 4010 4000 4000 4020 4000 4020 4030 4000 4000 4000\n",
      " 4000 4010 4030 4000 4000 4020 4000 4020 4010 4030 4010 4000 4030 4000\n",
      " 4000 4010 4000 4010 4000 4020 4010 4000 4010 4010 4000 4020 4010 4000\n",
      " 4010 4020 4000 4020 4030 4000 4030 4020 4030 4010 4030 4010 4030 4030\n",
      " 4000 4030 4010 4000 4010 4000 4000 4010 4000 4000 4000 4030 4000 4010\n",
      " 4000 4010 4030 4020 4010 4020 4000 4000 4000 4010 4010 4000 4010 4000\n",
      " 4000 4000 4030 4020 4010 4000 4000 4000 4000 4010 4010 4020 4020 4000\n",
      " 4010 4020 4000 4000 4020 4010 4000 4010 4030 4010 4030 4030 4000 4000\n",
      " 4000 4020 4020 4020 4000 4010 4000 4020 4000 4000 4000 4000 4010 4010\n",
      " 4000 4000 4000 4000 4020 4030 4000 4000 4010 4020 4000 4020 4000 4020\n",
      " 4010 4000 4000 4010 4010 4000 4000 4010 4000 4030 4000 4010 4010 4020\n",
      " 4010 4020 4000 4020 4020 4000 4010 4000 4030 4010 4010 4030 4000 4030\n",
      " 4000 4010 4010 4010 4000 4000 4000 4000 4000 4000 4010 4010 4000 4010\n",
      " 4000 4000 4030 4010 4000 4010 4000 4030 4000 4030 4010 4010 4000 4000\n",
      " 4030 4010 4000 4000 4030 4000 4030 4000 4000 4000 4030 4010 4000 4020\n",
      " 4030 4010 4030 4030 4000 4000 4000 4010 4010 4030 4010 4030 4010 4010\n",
      " 4000 4030 4010 4010 4010 4010 4000 4030 4010 4000 4000 4000 4000 4010\n",
      " 4020 4000 4000 4030 4000 4020 4010 4000 4010 4030 4030 4030 4000 4010\n",
      " 4010 4000 4000 4010 4000 4010 4010 4000 4010 4010 4010 4000 4000 4000\n",
      " 4000 4010 4000 4000 4030 4030 4020 4000 4000 4020 4010 4020 4000 4000\n",
      " 4020 4000 4030 4010 4010 4000 4000 4000 4000 4030 4000 4010 4020 4010\n",
      " 4020 4010 4010]\n",
      "0.6452328159645233\n"
     ]
    },
    {
     "name": "stderr",
     "output_type": "stream",
     "text": [
      "/home/deepank/anaconda3/envs/tensorflow/lib/python3.6/site-packages/ipykernel_launcher.py:1: DataConversionWarning: A column-vector y was passed when a 1d array was expected. Please change the shape of y to (n_samples,), for example using ravel().\n",
      "  \"\"\"Entry point for launching an IPython kernel.\n"
     ]
    }
   ],
   "source": [
    "r.fit(X_train_ordinal,y_train)\n",
    "y_pred = r.predict(X_test_ordinal)\n",
    "print(y_pred)\n",
    "print(accuracy_score(y_test,y_pred))"
   ]
  },
  {
   "cell_type": "code",
   "execution_count": 46,
   "metadata": {},
   "outputs": [
    {
     "name": "stdout",
     "output_type": "stream",
     "text": [
      "0.49176656195855817\n"
     ]
    }
   ],
   "source": [
    "from sklearn.metrics import cohen_kappa_score\n",
    "print(cohen_kappa_score(y_test,y_pred))"
   ]
  },
  {
   "cell_type": "code",
   "execution_count": 47,
   "metadata": {},
   "outputs": [
    {
     "data": {
      "text/plain": [
       "array([[136,  19,   2,   9],\n",
       "       [ 44,  93,   8,  15],\n",
       "       [  4,  11,  28,  16],\n",
       "       [ 10,  11,  11,  34]])"
      ]
     },
     "execution_count": 47,
     "metadata": {},
     "output_type": "execute_result"
    }
   ],
   "source": [
    "from sklearn.metrics import confusion_matrix\n",
    "confusion_matrix(y_test, y_pred)"
   ]
  },
  {
   "cell_type": "code",
   "execution_count": 48,
   "metadata": {},
   "outputs": [
    {
     "name": "stdout",
     "output_type": "stream",
     "text": [
      "             precision    recall  f1-score   support\n",
      "\n",
      "       4000       0.70      0.82      0.76       166\n",
      "       4010       0.69      0.58      0.63       160\n",
      "       4020       0.57      0.47      0.52        59\n",
      "       4030       0.46      0.52      0.49        66\n",
      "\n",
      "avg / total       0.65      0.65      0.64       451\n",
      "\n"
     ]
    }
   ],
   "source": [
    "from sklearn import metrics\n",
    "print(metrics.classification_report(y_test, y_pred))"
   ]
  },
  {
   "cell_type": "code",
   "execution_count": 49,
   "metadata": {},
   "outputs": [
    {
     "data": {
      "text/plain": [
       "<matplotlib.axes._subplots.AxesSubplot at 0x7f3f64087c18>"
      ]
     },
     "execution_count": 49,
     "metadata": {},
     "output_type": "execute_result"
    },
    {
     "data": {
      "image/png": "[encoded data removed]",
      "text/plain": [
       "<Figure size 504x504 with 1 Axes>"
      ]
     },
     "metadata": {},
     "output_type": "display_data"
    }
   ],
   "source": [
    "from sklearn.metrics import confusion_matrix\n",
    "import seaborn as sn\n",
    "import pandas as pd\n",
    "import matplotlib.pyplot as plt\n",
    "\n",
    "array = confusion_matrix(y_test, y_pred)\n",
    "sn.set(font_scale=1.5)\n",
    "df_cm = pd.DataFrame(array, index = [\"Public\", \"Private\", \"Bicycle\", \"Walk\"],\n",
    "                  columns = [\"Public\", \"Private\", \"Bicycle\", \"Walk\"])\n",
    "plt.figure(figsize = (7,7))\n",
    "sn.heatmap(df_cm, annot=True, fmt='g', cmap = \"Oranges\", cbar = False)"
   ]
  },
  {
   "cell_type": "code",
   "execution_count": null,
   "metadata": {},
   "outputs": [],
   "source": []
  },
  {
   "cell_type": "code",
   "execution_count": 50,
   "metadata": {},
   "outputs": [],
   "source": [
    "###### XGBOOST CLASSIFIER"
   ]
  },
  {
   "cell_type": "code",
   "execution_count": 51,
   "metadata": {},
   "outputs": [],
   "source": [
    "from xgboost import XGBClassifier\n",
    "model = XGBClassifier(nthread=2)"
   ]
  },
  {
   "cell_type": "code",
   "execution_count": 52,
   "metadata": {},
   "outputs": [
    {
     "name": "stderr",
     "output_type": "stream",
     "text": [
      "/home/deepank/anaconda3/envs/tensorflow/lib/python3.6/site-packages/sklearn/preprocessing/label.py:95: DataConversionWarning: A column-vector y was passed when a 1d array was expected. Please change the shape of y to (n_samples, ), for example using ravel().\n",
      "  y = column_or_1d(y, warn=True)\n",
      "/home/deepank/anaconda3/envs/tensorflow/lib/python3.6/site-packages/sklearn/preprocessing/label.py:128: DataConversionWarning: A column-vector y was passed when a 1d array was expected. Please change the shape of y to (n_samples, ), for example using ravel().\n",
      "  y = column_or_1d(y, warn=True)\n"
     ]
    },
    {
     "name": "stdout",
     "output_type": "stream",
     "text": [
      "XGBClassifier(base_score=0.5, booster='gbtree', colsample_bylevel=1,\n",
      "       colsample_bynode=1, colsample_bytree=1, gamma=0, learning_rate=0.1,\n",
      "       max_delta_step=0, max_depth=6, min_child_weight=1, missing=None,\n",
      "       n_estimators=100, n_jobs=1, nthread=None,\n",
      "       objective='multi:softprob', random_state=0, reg_alpha=0,\n",
      "       reg_lambda=1, scale_pos_weight=1, seed=None, silent=None,\n",
      "       subsample=1, verbosity=1)\n"
     ]
    }
   ],
   "source": [
    "model = XGBClassifier(max_depth=6)\n",
    "model.fit(X_train_ordinal,y_train)\n",
    "print(model)"
   ]
  },
  {
   "cell_type": "code",
   "execution_count": 53,
   "metadata": {},
   "outputs": [
    {
     "name": "stderr",
     "output_type": "stream",
     "text": [
      "/home/deepank/anaconda3/envs/tensorflow/lib/python3.6/site-packages/sklearn/preprocessing/label.py:151: DeprecationWarning: The truth value of an empty array is ambiguous. Returning False, but in future this will result in an error. Use `array.size > 0` to check that an array is not empty.\n",
      "  if diff:\n"
     ]
    }
   ],
   "source": [
    "y_pred = model.predict(X_test_ordinal)"
   ]
  },
  {
   "cell_type": "code",
   "execution_count": 54,
   "metadata": {},
   "outputs": [
    {
     "name": "stdout",
     "output_type": "stream",
     "text": [
      "Accuracy: 64.75%\n"
     ]
    }
   ],
   "source": [
    "accuracy = accuracy_score(y_test,y_pred)\n",
    "print(\"Accuracy: %.2f%%\" % (accuracy * 100.0))"
   ]
  },
  {
   "cell_type": "code",
   "execution_count": 55,
   "metadata": {},
   "outputs": [
    {
     "name": "stdout",
     "output_type": "stream",
     "text": [
      "0.49933672187002553\n"
     ]
    }
   ],
   "source": [
    "from sklearn.metrics import cohen_kappa_score\n",
    "print(cohen_kappa_score(y_test,y_pred))"
   ]
  },
  {
   "cell_type": "code",
   "execution_count": 56,
   "metadata": {},
   "outputs": [
    {
     "data": {
      "image/png": "[encoded data removed]",
      "text/plain": [
       "<Figure size 720x720 with 1 Axes>"
      ]
     },
     "metadata": {},
     "output_type": "display_data"
    }
   ],
   "source": [
    "from pylab import rcParams\n",
    "from xgboost import plot_importance\n",
    "from matplotlib import pyplot\n",
    "rcParams['figure.figsize'] = 10, 10\n",
    "plot_importance(model)\n",
    "pyplot.show()"
   ]
  },
  {
   "cell_type": "code",
   "execution_count": 57,
   "metadata": {},
   "outputs": [
    {
     "data": {
      "text/plain": [
       "<matplotlib.axes._subplots.AxesSubplot at 0x7f3f634c95f8>"
      ]
     },
     "execution_count": 57,
     "metadata": {},
     "output_type": "execute_result"
    },
    {
     "data": {
      "image/png": "[encoded data removed]",
      "text/plain": [
       "<Figure size 504x504 with 1 Axes>"
      ]
     },
     "metadata": {},
     "output_type": "display_data"
    }
   ],
   "source": [
    "from sklearn.metrics import confusion_matrix\n",
    "import seaborn as sn\n",
    "import pandas as pd\n",
    "import matplotlib.pyplot as plt\n",
    "\n",
    "array = confusion_matrix(y_test, y_pred)\n",
    "sn.set(font_scale=1.5)\n",
    "df_cm = pd.DataFrame(array, index = [\"Public\", \"Private\", \"Bicycle\", \"Walk\"],\n",
    "                  columns = [\"Public\", \"Private\", \"Bicycle\", \"Walk\"])\n",
    "plt.figure(figsize = (7,7))\n",
    "sn.heatmap(df_cm, annot=True, fmt='g', cmap = \"Oranges\", cbar = False)"
   ]
  },
  {
   "cell_type": "code",
   "execution_count": 58,
   "metadata": {},
   "outputs": [
    {
     "name": "stdout",
     "output_type": "stream",
     "text": [
      "             precision    recall  f1-score   support\n",
      "\n",
      "       4000       0.70      0.74      0.72       166\n",
      "       4010       0.70      0.62      0.66       160\n",
      "       4020       0.56      0.59      0.57        59\n",
      "       4030       0.49      0.53      0.51        66\n",
      "\n",
      "avg / total       0.65      0.65      0.65       451\n",
      "\n"
     ]
    }
   ],
   "source": [
    "from sklearn import metrics\n",
    "print(metrics.classification_report(y_test, y_pred))"
   ]
  },
  {
   "cell_type": "code",
   "execution_count": 59,
   "metadata": {},
   "outputs": [],
   "source": [
    "### ANN Model"
   ]
  },
  {
   "cell_type": "code",
   "execution_count": 60,
   "metadata": {},
   "outputs": [
    {
     "name": "stderr",
     "output_type": "stream",
     "text": [
      "/home/deepank/anaconda3/envs/tensorflow/lib/python3.6/site-packages/h5py/__init__.py:36: FutureWarning: Conversion of the second argument of issubdtype from `float` to `np.floating` is deprecated. In future, it will be treated as `np.float64 == np.dtype(float).type`.\n",
      "  from ._conv import register_converters as _register_converters\n",
      "Using TensorFlow backend.\n"
     ]
    },
    {
     "data": {
      "text/plain": [
       "'2.2.0'"
      ]
     },
     "execution_count": 60,
     "metadata": {},
     "output_type": "execute_result"
    }
   ],
   "source": [
    "import keras\n",
    "keras.__version__"
   ]
  },
  {
   "cell_type": "code",
   "execution_count": 61,
   "metadata": {},
   "outputs": [],
   "source": [
    "from sklearn.preprocessing import OneHotEncoder\n",
    "ohe = OneHotEncoder()\n",
    "y_train = ohe.fit_transform(y_train).toarray()\n",
    "y_test = ohe.fit_transform(y_test).toarray()\n"
   ]
  },
  {
   "cell_type": "code",
   "execution_count": 62,
   "metadata": {},
   "outputs": [],
   "source": [
    "import keras\n",
    "from keras.models import Sequential\n",
    "from keras.layers import Dense\n",
    "# Neural network\n",
    "model = Sequential()\n",
    "model.add(Dense(54, input_dim=17, activation= \"relu\"))\n",
    "model.add(Dense(27, activation=\"relu\"))\n",
    "model.add(Dense(12, activation=\"relu\"))\n",
    "model.add(Dense(4, activation=\"softmax\"))"
   ]
  },
  {
   "cell_type": "code",
   "execution_count": 63,
   "metadata": {},
   "outputs": [
    {
     "name": "stdout",
     "output_type": "stream",
     "text": [
      "_________________________________________________________________\n",
      "Layer (type)                 Output Shape              Param #   \n",
      "=================================================================\n",
      "dense_1 (Dense)              (None, 54)                972       \n",
      "_________________________________________________________________\n",
      "dense_2 (Dense)              (None, 27)                1485      \n",
      "_________________________________________________________________\n",
      "dense_3 (Dense)              (None, 12)                336       \n",
      "_________________________________________________________________\n",
      "dense_4 (Dense)              (None, 4)                 52        \n",
      "=================================================================\n",
      "Total params: 2,845\n",
      "Trainable params: 2,845\n",
      "Non-trainable params: 0\n",
      "_________________________________________________________________\n"
     ]
    }
   ],
   "source": [
    "model.summary()"
   ]
  },
  {
   "cell_type": "code",
   "execution_count": 64,
   "metadata": {},
   "outputs": [],
   "source": [
    "model.compile(loss='categorical_crossentropy', optimizer='adam', metrics=['accuracy'])"
   ]
  },
  {
   "cell_type": "code",
   "execution_count": 65,
   "metadata": {},
   "outputs": [
    {
     "name": "stdout",
     "output_type": "stream",
     "text": [
      "(1051, 17)\n",
      "(1051, 4)\n"
     ]
    }
   ],
   "source": [
    "print(X_train_ordinal.shape)\n",
    "print(y_train.shape)"
   ]
  },
  {
   "cell_type": "code",
   "execution_count": 66,
   "metadata": {},
   "outputs": [
    {
     "name": "stdout",
     "output_type": "stream",
     "text": [
      "Train on 1051 samples, validate on 451 samples\n",
      "Epoch 1/100\n",
      "1051/1051 [==============================] - 4s 4ms/step - loss: 1.8042 - acc: 0.3178 - val_loss: 1.1416 - val_acc: 0.4235\n",
      "Epoch 2/100\n",
      "1051/1051 [==============================] - 0s 284us/step - loss: 1.1704 - acc: 0.4472 - val_loss: 1.1330 - val_acc: 0.4390\n",
      "Epoch 3/100\n",
      "1051/1051 [==============================] - 0s 345us/step - loss: 1.1546 - acc: 0.4472 - val_loss: 1.1309 - val_acc: 0.4390\n",
      "Epoch 4/100\n",
      "1051/1051 [==============================] - 0s 329us/step - loss: 1.1534 - acc: 0.4643 - val_loss: 1.1046 - val_acc: 0.4457\n",
      "Epoch 5/100\n",
      "1051/1051 [==============================] - 0s 306us/step - loss: 1.1467 - acc: 0.4719 - val_loss: 1.1051 - val_acc: 0.4656\n",
      "Epoch 6/100\n",
      "1051/1051 [==============================] - 0s 348us/step - loss: 1.1308 - acc: 0.4691 - val_loss: 1.0878 - val_acc: 0.4568\n",
      "Epoch 7/100\n",
      "1051/1051 [==============================] - 0s 346us/step - loss: 1.1264 - acc: 0.4681 - val_loss: 1.1072 - val_acc: 0.4745\n",
      "Epoch 8/100\n",
      "1051/1051 [==============================] - 0s 275us/step - loss: 1.1234 - acc: 0.4776 - val_loss: 1.0750 - val_acc: 0.4678\n",
      "Epoch 9/100\n",
      "1051/1051 [==============================] - 0s 290us/step - loss: 1.1046 - acc: 0.4843 - val_loss: 1.0692 - val_acc: 0.4767\n",
      "Epoch 10/100\n",
      "1051/1051 [==============================] - 0s 314us/step - loss: 1.1020 - acc: 0.4805 - val_loss: 1.0581 - val_acc: 0.4856\n",
      "Epoch 11/100\n",
      "1051/1051 [==============================] - 0s 332us/step - loss: 1.0883 - acc: 0.5062 - val_loss: 1.0364 - val_acc: 0.5078\n",
      "Epoch 12/100\n",
      "1051/1051 [==============================] - 0s 263us/step - loss: 1.0640 - acc: 0.5271 - val_loss: 1.0248 - val_acc: 0.5455\n",
      "Epoch 13/100\n",
      "1051/1051 [==============================] - 0s 337us/step - loss: 1.0560 - acc: 0.5309 - val_loss: 1.0234 - val_acc: 0.5388\n",
      "Epoch 14/100\n",
      "1051/1051 [==============================] - 0s 273us/step - loss: 1.0431 - acc: 0.5281 - val_loss: 1.0332 - val_acc: 0.5211\n",
      "Epoch 15/100\n",
      "1051/1051 [==============================] - 0s 315us/step - loss: 1.0193 - acc: 0.5452 - val_loss: 1.0102 - val_acc: 0.5632\n",
      "Epoch 16/100\n",
      "1051/1051 [==============================] - 0s 308us/step - loss: 1.0306 - acc: 0.5328 - val_loss: 0.9972 - val_acc: 0.5565\n",
      "Epoch 17/100\n",
      "1051/1051 [==============================] - 0s 311us/step - loss: 1.0108 - acc: 0.5509 - val_loss: 1.0364 - val_acc: 0.5410\n",
      "Epoch 18/100\n",
      "1051/1051 [==============================] - 0s 357us/step - loss: 0.9921 - acc: 0.5376 - val_loss: 1.0213 - val_acc: 0.5299\n",
      "Epoch 19/100\n",
      "1051/1051 [==============================] - 0s 308us/step - loss: 0.9792 - acc: 0.5604 - val_loss: 0.9982 - val_acc: 0.5588\n",
      "Epoch 20/100\n",
      "1051/1051 [==============================] - 0s 291us/step - loss: 0.9672 - acc: 0.5557 - val_loss: 0.9828 - val_acc: 0.5565\n",
      "Epoch 21/100\n",
      "1051/1051 [==============================] - 0s 311us/step - loss: 0.9587 - acc: 0.5652 - val_loss: 1.0009 - val_acc: 0.5499\n",
      "Epoch 22/100\n",
      "1051/1051 [==============================] - 0s 264us/step - loss: 0.9626 - acc: 0.5576 - val_loss: 0.9743 - val_acc: 0.5632\n",
      "Epoch 23/100\n",
      "1051/1051 [==============================] - 0s 258us/step - loss: 0.9671 - acc: 0.5519 - val_loss: 0.9723 - val_acc: 0.5543\n",
      "Epoch 24/100\n",
      "1051/1051 [==============================] - 0s 313us/step - loss: 0.9491 - acc: 0.5538 - val_loss: 0.9818 - val_acc: 0.5477\n",
      "Epoch 25/100\n",
      "1051/1051 [==============================] - 0s 287us/step - loss: 0.9339 - acc: 0.5576 - val_loss: 1.0079 - val_acc: 0.5410\n",
      "Epoch 26/100\n",
      "1051/1051 [==============================] - 0s 348us/step - loss: 0.9265 - acc: 0.5652 - val_loss: 0.9709 - val_acc: 0.5676\n",
      "Epoch 27/100\n",
      "1051/1051 [==============================] - 0s 265us/step - loss: 0.9266 - acc: 0.5699 - val_loss: 0.9587 - val_acc: 0.5721\n",
      "Epoch 28/100\n",
      "1051/1051 [==============================] - 0s 325us/step - loss: 0.9236 - acc: 0.5833 - val_loss: 0.9572 - val_acc: 0.5698\n",
      "Epoch 29/100\n",
      "1051/1051 [==============================] - 0s 260us/step - loss: 0.9085 - acc: 0.5833 - val_loss: 0.9588 - val_acc: 0.5588\n",
      "Epoch 30/100\n",
      "1051/1051 [==============================] - 0s 288us/step - loss: 0.8997 - acc: 0.5899 - val_loss: 0.9912 - val_acc: 0.5477\n",
      "Epoch 31/100\n",
      "1051/1051 [==============================] - 0s 259us/step - loss: 0.8948 - acc: 0.5718 - val_loss: 0.9445 - val_acc: 0.5676\n",
      "Epoch 32/100\n",
      "1051/1051 [==============================] - 0s 266us/step - loss: 0.8876 - acc: 0.5890 - val_loss: 0.9662 - val_acc: 0.5610\n",
      "Epoch 33/100\n",
      "1051/1051 [==============================] - 0s 332us/step - loss: 0.8875 - acc: 0.5985 - val_loss: 0.9714 - val_acc: 0.5765\n",
      "Epoch 34/100\n",
      "1051/1051 [==============================] - 0s 264us/step - loss: 0.8847 - acc: 0.6089 - val_loss: 1.0046 - val_acc: 0.5322\n",
      "Epoch 35/100\n",
      "1051/1051 [==============================] - 0s 269us/step - loss: 0.8825 - acc: 0.6108 - val_loss: 0.9705 - val_acc: 0.5698\n",
      "Epoch 36/100\n",
      "1051/1051 [==============================] - 0s 276us/step - loss: 0.8900 - acc: 0.5890 - val_loss: 0.9609 - val_acc: 0.5565\n",
      "Epoch 37/100\n",
      "1051/1051 [==============================] - 0s 267us/step - loss: 0.8913 - acc: 0.5890 - val_loss: 0.9543 - val_acc: 0.5654\n",
      "Epoch 38/100\n",
      "1051/1051 [==============================] - 0s 330us/step - loss: 0.8651 - acc: 0.6032 - val_loss: 0.9775 - val_acc: 0.5543\n",
      "Epoch 39/100\n",
      "1051/1051 [==============================] - 0s 328us/step - loss: 0.8635 - acc: 0.5985 - val_loss: 0.9683 - val_acc: 0.5632\n",
      "Epoch 40/100\n",
      "1051/1051 [==============================] - 0s 324us/step - loss: 0.8634 - acc: 0.6185 - val_loss: 0.9613 - val_acc: 0.5787\n",
      "Epoch 41/100\n",
      "1051/1051 [==============================] - 0s 261us/step - loss: 0.8667 - acc: 0.6061 - val_loss: 0.9650 - val_acc: 0.5765\n",
      "Epoch 42/100\n",
      "1051/1051 [==============================] - 0s 287us/step - loss: 0.8509 - acc: 0.6127 - val_loss: 0.9596 - val_acc: 0.5721\n",
      "Epoch 43/100\n",
      "1051/1051 [==============================] - 0s 261us/step - loss: 0.8534 - acc: 0.6204 - val_loss: 0.9994 - val_acc: 0.5632\n",
      "Epoch 44/100\n",
      "1051/1051 [==============================] - 0s 251us/step - loss: 0.8585 - acc: 0.6156 - val_loss: 1.0016 - val_acc: 0.5543\n",
      "Epoch 45/100\n",
      "1051/1051 [==============================] - 0s 252us/step - loss: 0.8434 - acc: 0.6270 - val_loss: 0.9843 - val_acc: 0.5543\n",
      "Epoch 46/100\n",
      "1051/1051 [==============================] - 0s 260us/step - loss: 0.8454 - acc: 0.6242 - val_loss: 0.9756 - val_acc: 0.5654\n",
      "Epoch 47/100\n",
      "1051/1051 [==============================] - 0s 331us/step - loss: 0.8354 - acc: 0.6223 - val_loss: 0.9835 - val_acc: 0.5809\n",
      "Epoch 48/100\n",
      "1051/1051 [==============================] - 0s 340us/step - loss: 0.8412 - acc: 0.6232 - val_loss: 0.9795 - val_acc: 0.5676\n",
      "Epoch 49/100\n",
      "1051/1051 [==============================] - 0s 312us/step - loss: 0.8282 - acc: 0.6223 - val_loss: 0.9621 - val_acc: 0.5721\n",
      "Epoch 50/100\n",
      "1051/1051 [==============================] - 0s 273us/step - loss: 0.8408 - acc: 0.6089 - val_loss: 0.9377 - val_acc: 0.5809\n",
      "Epoch 51/100\n",
      "1051/1051 [==============================] - 0s 302us/step - loss: 0.8366 - acc: 0.6232 - val_loss: 0.9506 - val_acc: 0.5721\n",
      "Epoch 52/100\n",
      "1051/1051 [==============================] - 0s 290us/step - loss: 0.8283 - acc: 0.6223 - val_loss: 0.9585 - val_acc: 0.5765\n",
      "Epoch 53/100\n",
      "1051/1051 [==============================] - 0s 300us/step - loss: 0.8238 - acc: 0.6175 - val_loss: 0.9458 - val_acc: 0.6120\n",
      "Epoch 54/100\n",
      "1051/1051 [==============================] - 0s 249us/step - loss: 0.8202 - acc: 0.6327 - val_loss: 0.9540 - val_acc: 0.5765\n",
      "Epoch 55/100\n",
      "1051/1051 [==============================] - 0s 254us/step - loss: 0.8233 - acc: 0.6365 - val_loss: 0.9612 - val_acc: 0.5654\n",
      "Epoch 56/100\n",
      "1051/1051 [==============================] - 0s 263us/step - loss: 0.8109 - acc: 0.6384 - val_loss: 0.9820 - val_acc: 0.5876\n",
      "Epoch 57/100\n",
      "1051/1051 [==============================] - 0s 261us/step - loss: 0.8139 - acc: 0.6299 - val_loss: 0.9404 - val_acc: 0.5876\n",
      "Epoch 58/100\n",
      "1051/1051 [==============================] - 0s 253us/step - loss: 0.8294 - acc: 0.6365 - val_loss: 0.9345 - val_acc: 0.5876\n",
      "Epoch 59/100\n",
      "1051/1051 [==============================] - 0s 341us/step - loss: 0.8065 - acc: 0.6337 - val_loss: 0.9991 - val_acc: 0.5432\n",
      "Epoch 60/100\n"
     ]
    },
    {
     "name": "stdout",
     "output_type": "stream",
     "text": [
      "1051/1051 [==============================] - 0s 269us/step - loss: 0.8123 - acc: 0.6280 - val_loss: 0.9493 - val_acc: 0.5632\n",
      "Epoch 61/100\n",
      "1051/1051 [==============================] - 0s 279us/step - loss: 0.8070 - acc: 0.6403 - val_loss: 0.9831 - val_acc: 0.5831\n",
      "Epoch 62/100\n",
      "1051/1051 [==============================] - 0s 254us/step - loss: 0.8057 - acc: 0.6489 - val_loss: 0.9796 - val_acc: 0.5809\n",
      "Epoch 63/100\n",
      "1051/1051 [==============================] - 0s 263us/step - loss: 0.7917 - acc: 0.6565 - val_loss: 0.9754 - val_acc: 0.5565\n",
      "Epoch 64/100\n",
      "1051/1051 [==============================] - 0s 266us/step - loss: 0.7997 - acc: 0.6327 - val_loss: 0.9834 - val_acc: 0.5787\n",
      "Epoch 65/100\n",
      "1051/1051 [==============================] - 0s 268us/step - loss: 0.7998 - acc: 0.6375 - val_loss: 0.9818 - val_acc: 0.5455\n",
      "Epoch 66/100\n",
      "1051/1051 [==============================] - 0s 258us/step - loss: 0.7930 - acc: 0.6489 - val_loss: 0.9666 - val_acc: 0.5721\n",
      "Epoch 67/100\n",
      "1051/1051 [==============================] - 0s 265us/step - loss: 0.7922 - acc: 0.6470 - val_loss: 0.9497 - val_acc: 0.5743\n",
      "Epoch 68/100\n",
      "1051/1051 [==============================] - 0s 252us/step - loss: 0.7912 - acc: 0.6480 - val_loss: 1.0442 - val_acc: 0.5455\n",
      "Epoch 69/100\n",
      "1051/1051 [==============================] - 0s 255us/step - loss: 0.8161 - acc: 0.6299 - val_loss: 0.9603 - val_acc: 0.5898\n",
      "Epoch 70/100\n",
      "1051/1051 [==============================] - 0s 262us/step - loss: 0.7868 - acc: 0.6651 - val_loss: 0.9924 - val_acc: 0.5588\n",
      "Epoch 71/100\n",
      "1051/1051 [==============================] - 0s 268us/step - loss: 0.7802 - acc: 0.6603 - val_loss: 0.9491 - val_acc: 0.5920\n",
      "Epoch 72/100\n",
      "1051/1051 [==============================] - 0s 264us/step - loss: 0.7727 - acc: 0.6480 - val_loss: 0.9960 - val_acc: 0.5876\n",
      "Epoch 73/100\n",
      "1051/1051 [==============================] - 0s 258us/step - loss: 0.7858 - acc: 0.6451 - val_loss: 0.9571 - val_acc: 0.6031\n",
      "Epoch 74/100\n",
      "1051/1051 [==============================] - 0s 258us/step - loss: 0.7678 - acc: 0.6594 - val_loss: 0.9517 - val_acc: 0.5965\n",
      "Epoch 75/100\n",
      "1051/1051 [==============================] - 0s 261us/step - loss: 0.7634 - acc: 0.6613 - val_loss: 0.9529 - val_acc: 0.5920\n",
      "Epoch 76/100\n",
      "1051/1051 [==============================] - 0s 254us/step - loss: 0.7822 - acc: 0.6527 - val_loss: 0.9596 - val_acc: 0.5787\n",
      "Epoch 77/100\n",
      "1051/1051 [==============================] - 0s 261us/step - loss: 0.7647 - acc: 0.6632 - val_loss: 0.9932 - val_acc: 0.5499\n",
      "Epoch 78/100\n",
      "1051/1051 [==============================] - 0s 273us/step - loss: 0.7670 - acc: 0.6480 - val_loss: 0.9685 - val_acc: 0.5854\n",
      "Epoch 79/100\n",
      "1051/1051 [==============================] - 0s 265us/step - loss: 0.7645 - acc: 0.6736 - val_loss: 0.9711 - val_acc: 0.5942\n",
      "Epoch 80/100\n",
      "1051/1051 [==============================] - 0s 256us/step - loss: 0.7684 - acc: 0.6622 - val_loss: 0.9789 - val_acc: 0.5898\n",
      "Epoch 81/100\n",
      "1051/1051 [==============================] - 0s 257us/step - loss: 0.7557 - acc: 0.6794 - val_loss: 0.9798 - val_acc: 0.5698\n",
      "Epoch 82/100\n",
      "1051/1051 [==============================] - 0s 263us/step - loss: 0.7567 - acc: 0.6689 - val_loss: 0.9603 - val_acc: 0.5809\n",
      "Epoch 83/100\n",
      "1051/1051 [==============================] - 0s 280us/step - loss: 0.7492 - acc: 0.6679 - val_loss: 0.9613 - val_acc: 0.5942\n",
      "Epoch 84/100\n",
      "1051/1051 [==============================] - 0s 249us/step - loss: 0.7466 - acc: 0.6575 - val_loss: 0.9692 - val_acc: 0.5854\n",
      "Epoch 85/100\n",
      "1051/1051 [==============================] - 0s 250us/step - loss: 0.7569 - acc: 0.6575 - val_loss: 1.0052 - val_acc: 0.5854\n",
      "Epoch 86/100\n",
      "1051/1051 [==============================] - 0s 259us/step - loss: 0.7557 - acc: 0.6622 - val_loss: 1.0155 - val_acc: 0.5565\n",
      "Epoch 87/100\n",
      "1051/1051 [==============================] - 0s 255us/step - loss: 0.7503 - acc: 0.6698 - val_loss: 0.9602 - val_acc: 0.6120\n",
      "Epoch 88/100\n",
      "1051/1051 [==============================] - 0s 319us/step - loss: 0.7488 - acc: 0.6698 - val_loss: 0.9725 - val_acc: 0.5920\n",
      "Epoch 89/100\n",
      "1051/1051 [==============================] - 0s 322us/step - loss: 0.7447 - acc: 0.6670 - val_loss: 1.0104 - val_acc: 0.5854\n",
      "Epoch 90/100\n",
      "1051/1051 [==============================] - 0s 261us/step - loss: 0.7491 - acc: 0.6546 - val_loss: 0.9895 - val_acc: 0.5920\n",
      "Epoch 91/100\n",
      "1051/1051 [==============================] - 0s 266us/step - loss: 0.7506 - acc: 0.6708 - val_loss: 0.9564 - val_acc: 0.6075\n",
      "Epoch 92/100\n",
      "1051/1051 [==============================] - 0s 257us/step - loss: 0.7377 - acc: 0.6784 - val_loss: 0.9894 - val_acc: 0.5965\n",
      "Epoch 93/100\n",
      "1051/1051 [==============================] - 0s 291us/step - loss: 0.7300 - acc: 0.6813 - val_loss: 0.9508 - val_acc: 0.6009\n",
      "Epoch 94/100\n",
      "1051/1051 [==============================] - 0s 322us/step - loss: 0.7455 - acc: 0.6708 - val_loss: 0.9806 - val_acc: 0.5987\n",
      "Epoch 95/100\n",
      "1051/1051 [==============================] - 0s 270us/step - loss: 0.7269 - acc: 0.6775 - val_loss: 0.9577 - val_acc: 0.6098\n",
      "Epoch 96/100\n",
      "1051/1051 [==============================] - 0s 265us/step - loss: 0.7364 - acc: 0.6717 - val_loss: 0.9592 - val_acc: 0.5965\n",
      "Epoch 97/100\n",
      "1051/1051 [==============================] - 0s 260us/step - loss: 0.7286 - acc: 0.6822 - val_loss: 0.9715 - val_acc: 0.6075\n",
      "Epoch 98/100\n",
      "1051/1051 [==============================] - 0s 338us/step - loss: 0.7210 - acc: 0.6736 - val_loss: 1.0395 - val_acc: 0.5676\n",
      "Epoch 99/100\n",
      "1051/1051 [==============================] - 0s 327us/step - loss: 0.7345 - acc: 0.6632 - val_loss: 0.9935 - val_acc: 0.5920\n",
      "Epoch 100/100\n",
      "1051/1051 [==============================] - 0s 272us/step - loss: 0.7243 - acc: 0.6651 - val_loss: 0.9806 - val_acc: 0.5876\n"
     ]
    }
   ],
   "source": [
    "history = model.fit(X_train_ordinal, y_train, validation_data = (X_test_ordinal,y_test), epochs=100, batch_size=12)"
   ]
  },
  {
   "cell_type": "code",
   "execution_count": null,
   "metadata": {},
   "outputs": [],
   "source": []
  },
  {
   "cell_type": "code",
   "execution_count": 67,
   "metadata": {},
   "outputs": [
    {
     "name": "stdout",
     "output_type": "stream",
     "text": [
      "[0 1 0 0 0 1 0 1 1 2 1 3 3 0 0 2 0 3 0 1 0 0 1 0 3 1 0 0 1 1 0 0 0 1 1 0 0\n",
      " 0 1 0 0 0 0 1 1 3 0 1 1 0 1 2 0 3 1 0 0 0 1 2 3 2 3 1 0 0 1 3 1 0 1 1 0 1\n",
      " 2 3 0 0 3 1 3 1 3 2 1 3 1 1 1 0 3 2 1 1 0 0 1 1 0 0 2 3 1 2 0 1 1 0 1 1 0\n",
      " 0 0 2 3 1 1 1 0 1 3 1 2 3 0 0 1 2 0 1 0 1 0 1 1 0 3 1 2 0 0 1 1 0 3 3 0 3\n",
      " 0 1 0 1 2 1 0 1 1 0 0 0 0 2 0 2 3 1 0 0 1 1 1 0 0 2 0 2 1 3 1 0 3 0 3 1 1\n",
      " 2 0 2 1 1 1 1 0 3 1 1 1 2 0 2 0 3 3 2 1 0 2 0 3 3 0 3 1 0 1 0 0 0 0 0 0 2\n",
      " 0 1 0 1 3 1 1 2 0 0 0 1 1 1 0 0 0 0 1 3 1 1 0 0 0 1 1 2 2 0 1 2 0 1 3 1 0\n",
      " 1 2 1 3 3 0 0 0 2 1 2 0 1 0 1 0 0 0 1 1 1 0 0 0 0 1 3 0 0 1 2 0 2 0 2 1 0\n",
      " 0 3 2 0 0 0 0 3 1 1 0 2 2 2 0 1 2 0 2 0 3 0 1 3 0 1 0 1 2 0 0 0 0 1 0 0 1\n",
      " 0 0 1 0 1 0 1 0 1 0 2 0 3 1 1 1 2 3 0 0 1 2 0 3 0 0 0 2 0 0 2 3 1 0 1 1 0\n",
      " 0 1 0 1 1 1 0 1 0 3 1 2 1 1 1 3 1 0 0 1 0 2 1 0 1 3 0 3 0 1 3 3 1 2 0 1 1\n",
      " 0 0 1 1 3 1 0 0 1 1 0 0 0 0 1 0 1 3 3 1 0 0 2 1 2 0 1 2 0 3 1 1 0 0 3 0 3\n",
      " 0 1 2 1 2 1 1]\n"
     ]
    }
   ],
   "source": [
    "y_pred = model.predict(X_test_ordinal)\n",
    "print(np.argmax(y_pred,axis = 1))\n"
   ]
  },
  {
   "cell_type": "code",
   "execution_count": 68,
   "metadata": {},
   "outputs": [],
   "source": [
    "# print(y_test)"
   ]
  },
  {
   "cell_type": "code",
   "execution_count": 69,
   "metadata": {},
   "outputs": [
    {
     "name": "stdout",
     "output_type": "stream",
     "text": [
      "Accuracy: 58.76%\n"
     ]
    }
   ],
   "source": [
    "accuracy = accuracy_score(np.argmax(y_test,axis = 1), np.argmax(y_pred,axis = 1))\n",
    "print(\"Accuracy: %.2f%%\" % (accuracy * 100.0))"
   ]
  },
  {
   "cell_type": "code",
   "execution_count": 70,
   "metadata": {},
   "outputs": [
    {
     "name": "stdout",
     "output_type": "stream",
     "text": [
      "0.40656635327574864\n"
     ]
    }
   ],
   "source": [
    "from sklearn.metrics import cohen_kappa_score\n",
    "print(cohen_kappa_score(np.argmax(y_test,axis = 1), np.argmax(y_pred,axis = 1)))"
   ]
  },
  {
   "cell_type": "code",
   "execution_count": 71,
   "metadata": {},
   "outputs": [
    {
     "name": "stdout",
     "output_type": "stream",
     "text": [
      "             precision    recall  f1-score   support\n",
      "\n",
      "          0       0.66      0.72      0.69       166\n",
      "          1       0.55      0.54      0.55       160\n",
      "          2       0.54      0.51      0.52        59\n",
      "          3       0.51      0.45      0.48        66\n",
      "\n",
      "avg / total       0.58      0.59      0.58       451\n",
      "\n"
     ]
    }
   ],
   "source": [
    "from sklearn import metrics\n",
    "print(metrics.classification_report(np.argmax(y_test,axis = 1), np.argmax(y_pred,axis = 1)))"
   ]
  },
  {
   "cell_type": "code",
   "execution_count": 72,
   "metadata": {},
   "outputs": [
    {
     "data": {
      "text/plain": [
       "<matplotlib.axes._subplots.AxesSubplot at 0x7f3f24159828>"
      ]
     },
     "execution_count": 72,
     "metadata": {},
     "output_type": "execute_result"
    },
    {
     "data": {
      "image/png": "[encoded data removed]",
      "text/plain": [
       "<Figure size 504x504 with 1 Axes>"
      ]
     },
     "metadata": {},
     "output_type": "display_data"
    }
   ],
   "source": [
    "from sklearn.metrics import confusion_matrix\n",
    "import seaborn as sn\n",
    "import pandas as pd\n",
    "import matplotlib.pyplot as plt\n",
    "\n",
    "array = confusion_matrix(np.argmax(y_test,axis = 1), np.argmax(y_pred,axis = 1))\n",
    "sn.set(font_scale=1.5)\n",
    "df_cm = pd.DataFrame(array, index = [\"Public\", \"Private\", \"Bicycle\", \"Walk\"],\n",
    "                  columns = [\"Public\", \"Private\", \"Bicycle\", \"Walk\"])\n",
    "plt.figure(figsize = (7,7))\n",
    "sn.heatmap(df_cm, annot=True, fmt='g', cmap = \"Oranges\", cbar = False)"
   ]
  },
  {
   "cell_type": "code",
   "execution_count": 73,
   "metadata": {},
   "outputs": [
    {
     "data": {
      "image/png": "[encoded data removed]",
      "text/plain": [
       "<Figure size 720x720 with 1 Axes>"
      ]
     },
     "metadata": {},
     "output_type": "display_data"
    },
    {
     "data": {
      "image/png": "[encoded data removed]",
      "text/plain": [
       "<Figure size 720x720 with 1 Axes>"
      ]
     },
     "metadata": {},
     "output_type": "display_data"
    }
   ],
   "source": [
    "\n",
    "import matplotlib.pyplot as plt\n",
    "\n",
    "# Plot training & validation accuracy values\n",
    "plt.plot(history.history['acc'])\n",
    "plt.plot(history.history['val_acc'])\n",
    "plt.title('Model accuracy')\n",
    "plt.ylabel('Accuracy')\n",
    "plt.xlabel('Epoch')\n",
    "plt.legend(['Train', 'Test'], loc='upper left')\n",
    "plt.show()\n",
    "\n",
    "# Plot training & validation loss values\n",
    "plt.plot(history.history['loss'])\n",
    "plt.plot(history.history['val_loss'])\n",
    "plt.title('Model loss')\n",
    "plt.ylabel('Loss')\n",
    "plt.xlabel('Epoch')\n",
    "plt.legend(['Train', 'Test'], loc='upper left')\n",
    "plt.show()\n",
    "\n",
    "\n",
    "\n"
   ]
  },
  {
   "cell_type": "code",
   "execution_count": 74,
   "metadata": {},
   "outputs": [
    {
     "data": {
      "text/html": [
       "<div>\n",
       "<style scoped>\n",
       "    .dataframe tbody tr th:only-of-type {\n",
       "        vertical-align: middle;\n",
       "    }\n",
       "\n",
       "    .dataframe tbody tr th {\n",
       "        vertical-align: top;\n",
       "    }\n",
       "\n",
       "    .dataframe thead th {\n",
       "        text-align: right;\n",
       "    }\n",
       "</style>\n",
       "<table border=\"1\" class=\"dataframe\">\n",
       "  <thead>\n",
       "    <tr style=\"text-align: right;\">\n",
       "      <th></th>\n",
       "      <th>DepartureTime</th>\n",
       "      <th>ArrivalTime</th>\n",
       "      <th>TripDurationSec</th>\n",
       "      <th>Male_0</th>\n",
       "      <th>Male_1</th>\n",
       "      <th>Age_0</th>\n",
       "      <th>Age_5</th>\n",
       "      <th>Age_6</th>\n",
       "      <th>Age_7</th>\n",
       "      <th>Age_8</th>\n",
       "      <th>Age_9</th>\n",
       "      <th>Age_10</th>\n",
       "      <th>PurposeCode_2000</th>\n",
       "      <th>PurposeCode_2010</th>\n",
       "      <th>PurposeCode_2020</th>\n",
       "      <th>PurposeCode_2030</th>\n",
       "      <th>PurposeCode_2040</th>\n",
       "    </tr>\n",
       "  </thead>\n",
       "  <tbody>\n",
       "    <tr>\n",
       "      <th>535</th>\n",
       "      <td>7.283</td>\n",
       "      <td>8.317</td>\n",
       "      <td>62.317</td>\n",
       "      <td>0</td>\n",
       "      <td>1</td>\n",
       "      <td>0</td>\n",
       "      <td>0</td>\n",
       "      <td>0</td>\n",
       "      <td>1</td>\n",
       "      <td>0</td>\n",
       "      <td>0</td>\n",
       "      <td>0</td>\n",
       "      <td>1</td>\n",
       "      <td>0</td>\n",
       "      <td>0</td>\n",
       "      <td>0</td>\n",
       "      <td>0</td>\n",
       "    </tr>\n",
       "    <tr>\n",
       "      <th>203</th>\n",
       "      <td>17.250</td>\n",
       "      <td>18.317</td>\n",
       "      <td>64.650</td>\n",
       "      <td>0</td>\n",
       "      <td>1</td>\n",
       "      <td>0</td>\n",
       "      <td>0</td>\n",
       "      <td>0</td>\n",
       "      <td>0</td>\n",
       "      <td>0</td>\n",
       "      <td>1</td>\n",
       "      <td>0</td>\n",
       "      <td>0</td>\n",
       "      <td>1</td>\n",
       "      <td>0</td>\n",
       "      <td>0</td>\n",
       "      <td>0</td>\n",
       "    </tr>\n",
       "    <tr>\n",
       "      <th>1000</th>\n",
       "      <td>17.700</td>\n",
       "      <td>18.033</td>\n",
       "      <td>19.150</td>\n",
       "      <td>0</td>\n",
       "      <td>1</td>\n",
       "      <td>0</td>\n",
       "      <td>0</td>\n",
       "      <td>0</td>\n",
       "      <td>0</td>\n",
       "      <td>1</td>\n",
       "      <td>0</td>\n",
       "      <td>0</td>\n",
       "      <td>0</td>\n",
       "      <td>1</td>\n",
       "      <td>0</td>\n",
       "      <td>0</td>\n",
       "      <td>0</td>\n",
       "    </tr>\n",
       "    <tr>\n",
       "      <th>1344</th>\n",
       "      <td>7.667</td>\n",
       "      <td>8.317</td>\n",
       "      <td>38.767</td>\n",
       "      <td>1</td>\n",
       "      <td>0</td>\n",
       "      <td>0</td>\n",
       "      <td>0</td>\n",
       "      <td>0</td>\n",
       "      <td>1</td>\n",
       "      <td>0</td>\n",
       "      <td>0</td>\n",
       "      <td>0</td>\n",
       "      <td>1</td>\n",
       "      <td>0</td>\n",
       "      <td>0</td>\n",
       "      <td>0</td>\n",
       "      <td>0</td>\n",
       "    </tr>\n",
       "    <tr>\n",
       "      <th>1345</th>\n",
       "      <td>20.000</td>\n",
       "      <td>20.217</td>\n",
       "      <td>13.100</td>\n",
       "      <td>0</td>\n",
       "      <td>1</td>\n",
       "      <td>0</td>\n",
       "      <td>0</td>\n",
       "      <td>0</td>\n",
       "      <td>0</td>\n",
       "      <td>0</td>\n",
       "      <td>0</td>\n",
       "      <td>1</td>\n",
       "      <td>0</td>\n",
       "      <td>1</td>\n",
       "      <td>0</td>\n",
       "      <td>0</td>\n",
       "      <td>0</td>\n",
       "    </tr>\n",
       "  </tbody>\n",
       "</table>\n",
       "</div>"
      ],
      "text/plain": [
       "      DepartureTime  ArrivalTime  TripDurationSec  Male_0  Male_1  Age_0  \\\n",
       "535           7.283        8.317           62.317       0       1      0   \n",
       "203          17.250       18.317           64.650       0       1      0   \n",
       "1000         17.700       18.033           19.150       0       1      0   \n",
       "1344          7.667        8.317           38.767       1       0      0   \n",
       "1345         20.000       20.217           13.100       0       1      0   \n",
       "\n",
       "      Age_5  Age_6  Age_7  Age_8  Age_9  Age_10  PurposeCode_2000  \\\n",
       "535       0      0      1      0      0       0                 1   \n",
       "203       0      0      0      0      1       0                 0   \n",
       "1000      0      0      0      1      0       0                 0   \n",
       "1344      0      0      1      0      0       0                 1   \n",
       "1345      0      0      0      0      0       1                 0   \n",
       "\n",
       "      PurposeCode_2010  PurposeCode_2020  PurposeCode_2030  PurposeCode_2040  \n",
       "535                  0                 0                 0                 0  \n",
       "203                  1                 0                 0                 0  \n",
       "1000                 1                 0                 0                 0  \n",
       "1344                 0                 0                 0                 0  \n",
       "1345                 1                 0                 0                 0  "
      ]
     },
     "execution_count": 74,
     "metadata": {},
     "output_type": "execute_result"
    }
   ],
   "source": [
    "# X_train, X_test, y_train, y_test\n",
    "\n",
    "X_train.head()\n"
   ]
  },
  {
   "cell_type": "code",
   "execution_count": 75,
   "metadata": {},
   "outputs": [],
   "source": [
    "####### MNL for PP ########\n",
    "\n",
    "import numpy as np\n",
    "import pandas as pd\n",
    "import statsmodels.api as sm\n",
    "import matplotlib.pyplot as plt\n",
    "\n",
    "\n",
    "X = X_train\n",
    "\n",
    "y = np.argmax(y_train, axis = 1)\n",
    "\n",
    "# #import data\n",
    "# # X = pd.read_csv('final_x_train_latest.csv')\n",
    "# X = pd.read_csv('final_x_train.csv')\n",
    "# X = X.drop(\"Unnamed: 0\", axis = 1)\n",
    "# # y = pd.read_csv('final_y_train_latest.csv')\n",
    "# y = pd.read_csv('final_y_train.csv')\n",
    "# y = y.drop(\"Unnamed: 0\", axis = 1)\n",
    "\n",
    "#split the data in dependent and independent variables\n",
    "# y = df['CC']\n",
    "# X = df.drop(['Patient', 'CC'], axis = 1)\n",
    "\n"
   ]
  },
  {
   "cell_type": "code",
   "execution_count": 76,
   "metadata": {},
   "outputs": [
    {
     "data": {
      "text/plain": [
       "Index(['DepartureTime', 'ArrivalTime', 'TripDurationSec', 'Male_0', 'Male_1',\n",
       "       'Age_0', 'Age_5', 'Age_6', 'Age_7', 'Age_8', 'Age_9', 'Age_10',\n",
       "       'PurposeCode_2000', 'PurposeCode_2010', 'PurposeCode_2020',\n",
       "       'PurposeCode_2030', 'PurposeCode_2040'],\n",
       "      dtype='object')"
      ]
     },
     "execution_count": 76,
     "metadata": {},
     "output_type": "execute_result"
    }
   ],
   "source": [
    "X.columns"
   ]
  },
  {
   "cell_type": "code",
   "execution_count": 77,
   "metadata": {},
   "outputs": [
    {
     "data": {
      "text/plain": [
       "array([0, 1, 3, ..., 3, 2, 3])"
      ]
     },
     "execution_count": 77,
     "metadata": {},
     "output_type": "execute_result"
    }
   ],
   "source": [
    "y"
   ]
  },
  {
   "cell_type": "code",
   "execution_count": 78,
   "metadata": {},
   "outputs": [
    {
     "name": "stdout",
     "output_type": "stream",
     "text": [
      "Warning: Maximum number of iterations has been exceeded.\n",
      "         Current function value: 0.976898\n",
      "         Iterations: 35\n",
      "                          MNLogit Regression Results                          \n",
      "==============================================================================\n",
      "Dep. Variable:                      y   No. Observations:                 1051\n",
      "Model:                        MNLogit   Df Residuals:                     1006\n",
      "Method:                           MLE   Df Model:                           42\n",
      "Date:                Fri, 13 Sep 2019   Pseudo R-squ.:                  0.2441\n",
      "Time:                        19:48:11   Log-Likelihood:                -1026.7\n",
      "converged:                      False   LL-Null:                       -1358.3\n",
      "                                        LLR p-value:                1.159e-112\n",
      "====================================================================================\n",
      "             y=1       coef    std err          z      P>|z|      [0.025      0.975]\n",
      "------------------------------------------------------------------------------------\n",
      "const               15.9802   3.03e+06   5.28e-06      1.000   -5.93e+06    5.93e+06\n",
      "DepartureTime       -0.1210      0.041     -2.967      0.003      -0.201      -0.041\n",
      "ArrivalTime          0.0737      0.037      2.004      0.045       0.002       0.146\n",
      "TripDurationSec     -0.0073      0.002     -3.044      0.002      -0.012      -0.003\n",
      "Male_0             -17.9482   2.91e+06  -6.17e-06      1.000    -5.7e+06     5.7e+06\n",
      "Male_1             -15.3869   3.02e+06   -5.1e-06      1.000   -5.91e+06    5.91e+06\n",
      "Age_0               -7.2839   1.55e+06   -4.7e-06      1.000   -3.04e+06    3.04e+06\n",
      "Age_5              -12.0036   3.67e+06  -3.27e-06      1.000    -7.2e+06     7.2e+06\n",
      "Age_6               -9.8780        nan        nan        nan         nan         nan\n",
      "Age_7              -10.4995   3.44e+06  -3.06e-06      1.000   -6.73e+06    6.73e+06\n",
      "Age_8               -9.3564        nan        nan        nan         nan         nan\n",
      "Age_9              -10.0471   3.37e+06  -2.98e-06      1.000    -6.6e+06     6.6e+06\n",
      "Age_10              -8.1486   2.23e+06  -3.66e-06      1.000   -4.37e+06    4.37e+06\n",
      "PurposeCode_2000     9.8173   6.26e+06   1.57e-06      1.000   -1.23e+07    1.23e+07\n",
      "PurposeCode_2010    10.7217   7.43e+06   1.44e-06      1.000   -1.46e+07    1.46e+07\n",
      "PurposeCode_2020     9.9313   6.09e+06   1.63e-06      1.000   -1.19e+07    1.19e+07\n",
      "PurposeCode_2030    10.3068   6.36e+06   1.62e-06      1.000   -1.25e+07    1.25e+07\n",
      "PurposeCode_2040    10.4258   6.81e+06   1.53e-06      1.000   -1.33e+07    1.33e+07\n",
      "------------------------------------------------------------------------------------\n",
      "             y=2       coef    std err          z      P>|z|      [0.025      0.975]\n",
      "------------------------------------------------------------------------------------\n",
      "const               -0.9493        nan        nan        nan         nan         nan\n",
      "DepartureTime       -0.1128      0.057     -1.992      0.046      -0.224      -0.002\n",
      "ArrivalTime          0.0325      0.052      0.626      0.532      -0.069       0.134\n",
      "TripDurationSec     -0.0339      0.005     -6.661      0.000      -0.044      -0.024\n",
      "Male_0              -3.0200   4.01e+06  -7.53e-07      1.000   -7.86e+06    7.86e+06\n",
      "Male_1              -1.9879   5.04e+06  -3.94e-07      1.000   -9.89e+06    9.89e+06\n",
      "Age_0                4.9597   1.14e+06   4.35e-06      1.000   -2.23e+06    2.23e+06\n",
      "Age_5                3.2061        nan        nan        nan         nan         nan\n",
      "Age_6              -21.6636        nan        nan        nan         nan         nan\n",
      "Age_7                1.3865        nan        nan        nan         nan         nan\n",
      "Age_8                0.8526        nan        nan        nan         nan         nan\n",
      "Age_9               -0.4238        nan        nan        nan         nan         nan\n",
      "Age_10               2.8877        nan        nan        nan         nan         nan\n",
      "PurposeCode_2000     1.6521        nan        nan        nan         nan         nan\n",
      "PurposeCode_2010     2.6732        nan        nan        nan         nan         nan\n",
      "PurposeCode_2020     1.4006        nan        nan        nan         nan         nan\n",
      "PurposeCode_2030     2.4792        nan        nan        nan         nan         nan\n",
      "PurposeCode_2040     2.4107        nan        nan        nan         nan         nan\n",
      "------------------------------------------------------------------------------------\n",
      "             y=3       coef    std err          z      P>|z|      [0.025      0.975]\n",
      "------------------------------------------------------------------------------------\n",
      "const                1.1808        nan        nan        nan         nan         nan\n",
      "DepartureTime       -0.0327      0.052     -0.629      0.529      -0.135       0.069\n",
      "ArrivalTime          0.0694      0.048      1.435      0.151      -0.025       0.164\n",
      "TripDurationSec     -0.0571      0.006     -9.622      0.000      -0.069      -0.045\n",
      "Male_0              -1.3263   2.73e+06  -4.87e-07      1.000   -5.34e+06    5.34e+06\n",
      "Male_1              -0.5855   2.78e+06  -2.11e-07      1.000   -5.45e+06    5.45e+06\n",
      "Age_0                1.0558        nan        nan        nan         nan         nan\n",
      "Age_5               -0.4283        nan        nan        nan         nan         nan\n",
      "Age_6               -1.6679        nan        nan        nan         nan         nan\n",
      "Age_7                0.0984        nan        nan        nan         nan         nan\n",
      "Age_8                0.5895        nan        nan        nan         nan         nan\n",
      "Age_9               -0.1231        nan        nan        nan         nan         nan\n",
      "Age_10              -0.1264        nan        nan        nan         nan         nan\n",
      "PurposeCode_2000    -0.3769        nan        nan        nan         nan         nan\n",
      "PurposeCode_2010    -0.0774        nan        nan        nan         nan         nan\n",
      "PurposeCode_2020     0.2143        nan        nan        nan         nan         nan\n",
      "PurposeCode_2030     0.9202        nan        nan        nan         nan         nan\n",
      "PurposeCode_2040    -0.5957        nan        nan        nan         nan         nan\n",
      "====================================================================================\n"
     ]
    },
    {
     "name": "stderr",
     "output_type": "stream",
     "text": [
      "/home/deepank/anaconda3/envs/tensorflow/lib/python3.6/site-packages/statsmodels/base/model.py:508: ConvergenceWarning: Maximum Likelihood optimization failed to converge. Check mle_retvals\n",
      "  \"Check mle_retvals\", ConvergenceWarning)\n",
      "/home/deepank/anaconda3/envs/tensorflow/lib/python3.6/site-packages/statsmodels/discrete/discrete_model.py:3967: RuntimeWarning: invalid value encountered in sqrt\n",
      "  bse = np.sqrt(np.diag(self.cov_params()))\n",
      "/home/deepank/anaconda3/envs/tensorflow/lib/python3.6/site-packages/scipy/stats/_distn_infrastructure.py:879: RuntimeWarning: invalid value encountered in greater\n",
      "  return (self.a < x) & (x < self.b)\n",
      "/home/deepank/anaconda3/envs/tensorflow/lib/python3.6/site-packages/scipy/stats/_distn_infrastructure.py:879: RuntimeWarning: invalid value encountered in less\n",
      "  return (self.a < x) & (x < self.b)\n",
      "/home/deepank/anaconda3/envs/tensorflow/lib/python3.6/site-packages/scipy/stats/_distn_infrastructure.py:1821: RuntimeWarning: invalid value encountered in less_equal\n",
      "  cond2 = cond0 & (x <= self.a)\n"
     ]
    }
   ],
   "source": [
    "Xc = sm.add_constant(X)\n",
    "\n",
    "#instantiate and fit multinomial logit\n",
    "mlogit = sm.MNLogit(y, Xc)\n",
    "fmlogit = mlogit.fit()\n",
    "\n",
    "print(fmlogit.summary())"
   ]
  },
  {
   "cell_type": "code",
   "execution_count": 79,
   "metadata": {},
   "outputs": [
    {
     "data": {
      "text/html": [
       "<div>\n",
       "<style scoped>\n",
       "    .dataframe tbody tr th:only-of-type {\n",
       "        vertical-align: middle;\n",
       "    }\n",
       "\n",
       "    .dataframe tbody tr th {\n",
       "        vertical-align: top;\n",
       "    }\n",
       "\n",
       "    .dataframe thead th {\n",
       "        text-align: right;\n",
       "    }\n",
       "</style>\n",
       "<table border=\"1\" class=\"dataframe\">\n",
       "  <thead>\n",
       "    <tr style=\"text-align: right;\">\n",
       "      <th></th>\n",
       "      <th>const</th>\n",
       "      <th>DepartureTime</th>\n",
       "      <th>ArrivalTime</th>\n",
       "      <th>TripDurationSec</th>\n",
       "      <th>Male_0</th>\n",
       "      <th>Male_1</th>\n",
       "      <th>Age_0</th>\n",
       "      <th>Age_5</th>\n",
       "      <th>Age_6</th>\n",
       "      <th>Age_7</th>\n",
       "      <th>Age_8</th>\n",
       "      <th>Age_9</th>\n",
       "      <th>Age_10</th>\n",
       "      <th>PurposeCode_2000</th>\n",
       "      <th>PurposeCode_2010</th>\n",
       "      <th>PurposeCode_2020</th>\n",
       "      <th>PurposeCode_2030</th>\n",
       "      <th>PurposeCode_2040</th>\n",
       "    </tr>\n",
       "  </thead>\n",
       "  <tbody>\n",
       "    <tr>\n",
       "      <th>1130</th>\n",
       "      <td>1.000</td>\n",
       "      <td>17.667</td>\n",
       "      <td>18.983</td>\n",
       "      <td>78.817</td>\n",
       "      <td>0</td>\n",
       "      <td>1</td>\n",
       "      <td>0</td>\n",
       "      <td>0</td>\n",
       "      <td>0</td>\n",
       "      <td>1</td>\n",
       "      <td>0</td>\n",
       "      <td>0</td>\n",
       "      <td>0</td>\n",
       "      <td>0</td>\n",
       "      <td>1</td>\n",
       "      <td>0</td>\n",
       "      <td>0</td>\n",
       "      <td>0</td>\n",
       "    </tr>\n",
       "    <tr>\n",
       "      <th>651</th>\n",
       "      <td>1.000</td>\n",
       "      <td>18.400</td>\n",
       "      <td>19.317</td>\n",
       "      <td>55.433</td>\n",
       "      <td>0</td>\n",
       "      <td>1</td>\n",
       "      <td>0</td>\n",
       "      <td>0</td>\n",
       "      <td>0</td>\n",
       "      <td>0</td>\n",
       "      <td>0</td>\n",
       "      <td>1</td>\n",
       "      <td>0</td>\n",
       "      <td>0</td>\n",
       "      <td>1</td>\n",
       "      <td>0</td>\n",
       "      <td>0</td>\n",
       "      <td>0</td>\n",
       "    </tr>\n",
       "    <tr>\n",
       "      <th>427</th>\n",
       "      <td>1.000</td>\n",
       "      <td>12.250</td>\n",
       "      <td>13.500</td>\n",
       "      <td>74.833</td>\n",
       "      <td>1</td>\n",
       "      <td>0</td>\n",
       "      <td>1</td>\n",
       "      <td>0</td>\n",
       "      <td>0</td>\n",
       "      <td>0</td>\n",
       "      <td>0</td>\n",
       "      <td>0</td>\n",
       "      <td>0</td>\n",
       "      <td>0</td>\n",
       "      <td>0</td>\n",
       "      <td>0</td>\n",
       "      <td>1</td>\n",
       "      <td>0</td>\n",
       "    </tr>\n",
       "    <tr>\n",
       "      <th>418</th>\n",
       "      <td>1.000</td>\n",
       "      <td>18.783</td>\n",
       "      <td>19.900</td>\n",
       "      <td>66.417</td>\n",
       "      <td>0</td>\n",
       "      <td>1</td>\n",
       "      <td>0</td>\n",
       "      <td>0</td>\n",
       "      <td>0</td>\n",
       "      <td>1</td>\n",
       "      <td>0</td>\n",
       "      <td>0</td>\n",
       "      <td>0</td>\n",
       "      <td>0</td>\n",
       "      <td>0</td>\n",
       "      <td>1</td>\n",
       "      <td>0</td>\n",
       "      <td>0</td>\n",
       "    </tr>\n",
       "    <tr>\n",
       "      <th>456</th>\n",
       "      <td>1.000</td>\n",
       "      <td>7.867</td>\n",
       "      <td>8.383</td>\n",
       "      <td>30.350</td>\n",
       "      <td>1</td>\n",
       "      <td>0</td>\n",
       "      <td>0</td>\n",
       "      <td>0</td>\n",
       "      <td>0</td>\n",
       "      <td>0</td>\n",
       "      <td>0</td>\n",
       "      <td>0</td>\n",
       "      <td>1</td>\n",
       "      <td>1</td>\n",
       "      <td>0</td>\n",
       "      <td>0</td>\n",
       "      <td>0</td>\n",
       "      <td>0</td>\n",
       "    </tr>\n",
       "  </tbody>\n",
       "</table>\n",
       "</div>"
      ],
      "text/plain": [
       "      const  DepartureTime  ArrivalTime  TripDurationSec  Male_0  Male_1  \\\n",
       "1130  1.000         17.667       18.983           78.817       0       1   \n",
       "651   1.000         18.400       19.317           55.433       0       1   \n",
       "427   1.000         12.250       13.500           74.833       1       0   \n",
       "418   1.000         18.783       19.900           66.417       0       1   \n",
       "456   1.000          7.867        8.383           30.350       1       0   \n",
       "\n",
       "      Age_0  Age_5  Age_6  Age_7  Age_8  Age_9  Age_10  PurposeCode_2000  \\\n",
       "1130      0      0      0      1      0      0       0                 0   \n",
       "651       0      0      0      0      0      1       0                 0   \n",
       "427       1      0      0      0      0      0       0                 0   \n",
       "418       0      0      0      1      0      0       0                 0   \n",
       "456       0      0      0      0      0      0       1                 1   \n",
       "\n",
       "      PurposeCode_2010  PurposeCode_2020  PurposeCode_2030  PurposeCode_2040  \n",
       "1130                 1                 0                 0                 0  \n",
       "651                  1                 0                 0                 0  \n",
       "427                  0                 0                 1                 0  \n",
       "418                  0                 1                 0                 0  \n",
       "456                  0                 0                 0                 0  "
      ]
     },
     "execution_count": 79,
     "metadata": {},
     "output_type": "execute_result"
    }
   ],
   "source": [
    "x_test = X_test\n",
    "# x_test = x_test.drop(\"Unnamed: 0\", axis = 1)\n",
    "x_test  = sm.add_constant(x_test)\n",
    "x_test.head()"
   ]
  },
  {
   "cell_type": "code",
   "execution_count": 80,
   "metadata": {},
   "outputs": [],
   "source": [
    "pred = fmlogit.predict(x_test)"
   ]
  },
  {
   "cell_type": "code",
   "execution_count": 81,
   "metadata": {},
   "outputs": [
    {
     "name": "stdout",
     "output_type": "stream",
     "text": [
      "451\n"
     ]
    }
   ],
   "source": [
    "print(len(pred))"
   ]
  },
  {
   "cell_type": "code",
   "execution_count": 82,
   "metadata": {},
   "outputs": [],
   "source": [
    "y_test = np.argmax(y_test, axis = 1)"
   ]
  },
  {
   "cell_type": "code",
   "execution_count": 83,
   "metadata": {},
   "outputs": [
    {
     "name": "stdout",
     "output_type": "stream",
     "text": [
      "451\n"
     ]
    }
   ],
   "source": [
    "print(len(y_test))"
   ]
  },
  {
   "cell_type": "code",
   "execution_count": 84,
   "metadata": {},
   "outputs": [],
   "source": [
    "from sklearn.metrics import accuracy_score\n",
    "import numpy as np"
   ]
  },
  {
   "cell_type": "code",
   "execution_count": 85,
   "metadata": {},
   "outputs": [
    {
     "name": "stdout",
     "output_type": "stream",
     "text": [
      "0.5609756097560976\n"
     ]
    }
   ],
   "source": [
    "print(accuracy_score(y_test, np.argmax(pred.values, axis = 1)))"
   ]
  },
  {
   "cell_type": "code",
   "execution_count": 86,
   "metadata": {},
   "outputs": [
    {
     "name": "stdout",
     "output_type": "stream",
     "text": [
      "0.37945699533713695\n"
     ]
    }
   ],
   "source": [
    "from sklearn.metrics import cohen_kappa_score\n",
    "print(cohen_kappa_score(y_test, np.argmax(pred.values, axis = 1)))"
   ]
  },
  {
   "cell_type": "code",
   "execution_count": 87,
   "metadata": {},
   "outputs": [
    {
     "data": {
      "text/plain": [
       "<matplotlib.axes._subplots.AxesSubplot at 0x7f3edf199860>"
      ]
     },
     "execution_count": 87,
     "metadata": {},
     "output_type": "execute_result"
    },
    {
     "data": {
      "image/png": "[encoded data removed]",
      "text/plain": [
       "<Figure size 504x504 with 1 Axes>"
      ]
     },
     "metadata": {},
     "output_type": "display_data"
    }
   ],
   "source": [
    "from sklearn.metrics import confusion_matrix\n",
    "import seaborn as sn\n",
    "import pandas as pd\n",
    "import matplotlib.pyplot as plt\n",
    "\n",
    "\n",
    "\n",
    "array = confusion_matrix(y_test, np.argmax(pred.values, axis = 1))\n",
    "sn.set(font_scale=1.5)\n",
    "df_cm = pd.DataFrame(array, index = [\"Public\", \"Private\", \"Bicycle\", \"Walk\"],\n",
    "                  columns = [\"Public\", \"Private\", \"Bicycle\", \"Walk\"])\n",
    "plt.figure(figsize = (7,7))\n",
    "sn.heatmap(df_cm, annot=True, fmt='g', cmap = \"Oranges\", cbar = False)"
   ]
  },
  {
   "cell_type": "code",
   "execution_count": 88,
   "metadata": {},
   "outputs": [
    {
     "name": "stdout",
     "output_type": "stream",
     "text": [
      "             precision    recall  f1-score   support\n",
      "\n",
      "          0       0.63      0.68      0.66       166\n",
      "          1       0.58      0.48      0.53       160\n",
      "          2       0.43      0.49      0.46        59\n",
      "          3       0.47      0.52      0.49        66\n",
      "\n",
      "avg / total       0.56      0.56      0.56       451\n",
      "\n"
     ]
    }
   ],
   "source": [
    "from sklearn import metrics\n",
    "print(metrics.classification_report(y_test, np.argmax(pred.values, axis = 1)))"
   ]
  },
  {
   "cell_type": "code",
   "execution_count": null,
   "metadata": {},
   "outputs": [],
   "source": []
  }
 ],
 "metadata": {
  "kernelspec": {
   "display_name": "Python 3",
   "language": "python",
   "name": "python3"
  },
  "language_info": {
   "codemirror_mode": {
    "name": "ipython",
    "version": 3
   },
   "file_extension": ".py",
   "mimetype": "text/x-python",
   "name": "python",
   "nbconvert_exporter": "python",
   "pygments_lexer": "ipython3",
   "version": "3.6.7"
  }
 },
 "nbformat": 4,
 "nbformat_minor": 2
}
